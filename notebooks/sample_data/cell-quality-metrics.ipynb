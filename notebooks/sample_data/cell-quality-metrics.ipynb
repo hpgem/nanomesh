{
 "cells": [
  {
   "cell_type": "code",
   "execution_count": null,
   "id": "5f5cda51",
   "metadata": {},
   "outputs": [],
   "source": [
    "%load_ext autoreload\n",
    "%autoreload 2\n",
    "%matplotlib notebook"
   ]
  },
  {
   "cell_type": "markdown",
   "id": "418a1830",
   "metadata": {},
   "source": [
    "## Mesh quality indicators\n",
    "\n",
    "This notebook shows different mesh quality indicators:\n",
    "\n",
    "- Minimum/maximum angle\n",
    "- Ratio min/max edge length\n",
    "- Ratio circumscribed to inscribed circle (largest circle fitting inside vs smallest circle fitting around a triangle)\n",
    "\n",
    "The indicators are plotted on the mesh and as a histogram."
   ]
  },
  {
   "cell_type": "code",
   "execution_count": null,
   "id": "bc13d99c",
   "metadata": {},
   "outputs": [],
   "source": [
    "import numpy as np\n",
    "import meshio\n",
    "import matplotlib.pyplot as plt\n",
    "from nanomesh import metrics"
   ]
  },
  {
   "cell_type": "code",
   "execution_count": null,
   "id": "697ca851",
   "metadata": {},
   "outputs": [],
   "source": [
    "mesh = meshio.read('mesh_x500_ascii.msh')"
   ]
  },
  {
   "cell_type": "markdown",
   "id": "319a7243",
   "metadata": {},
   "source": [
    "### Metrics\n",
    "\n",
    "Quality metrics are available through the `metrics` submodule, for example to access the area for each face:"
   ]
  },
  {
   "cell_type": "code",
   "execution_count": null,
   "id": "2e95b05f",
   "metadata": {},
   "outputs": [],
   "source": [
    "metrics.area(mesh)"
   ]
  },
  {
   "cell_type": "markdown",
   "id": "a4a33bf8",
   "metadata": {},
   "source": [
    "### Minumum and maximum cell angles\n",
    "\n",
    "`nanomesh.metrics` includes convenience functions for plotting histograms and colored 2d meshes."
   ]
  },
  {
   "cell_type": "code",
   "execution_count": null,
   "id": "901c4f34",
   "metadata": {},
   "outputs": [],
   "source": [
    "metrics.histogram(mesh, metric='min_angle')\n",
    "metrics.plot2d(mesh, metric='min_angle')"
   ]
  },
  {
   "cell_type": "code",
   "execution_count": null,
   "id": "385a1a78",
   "metadata": {},
   "outputs": [],
   "source": [
    "metrics.histogram(mesh, metric='max_angle')\n",
    "metrics.plot2d(mesh, metric='max_angle')"
   ]
  },
  {
   "cell_type": "markdown",
   "id": "8115f65a",
   "metadata": {},
   "source": [
    "### Ratio between radii\n",
    "\n",
    "https://www.geogebra.org/m/VRE3Dyrn"
   ]
  },
  {
   "cell_type": "code",
   "execution_count": null,
   "id": "efb00fe8",
   "metadata": {},
   "outputs": [],
   "source": [
    "metrics.histogram(mesh, metric='radius_ratio')\n",
    "metrics.plot2d(mesh, metric='radius_ratio')"
   ]
  },
  {
   "cell_type": "markdown",
   "id": "84d76476",
   "metadata": {},
   "source": [
    "### Ratio between longest and shortest edge"
   ]
  },
  {
   "cell_type": "code",
   "execution_count": null,
   "id": "f00ad81f",
   "metadata": {},
   "outputs": [],
   "source": [
    "metrics.histogram(mesh, metric='max_min_edge_ratio')\n",
    "metrics.plot2d(mesh, metric='max_min_edge_ratio')"
   ]
  },
  {
   "cell_type": "markdown",
   "id": "58160dab",
   "metadata": {},
   "source": [
    "### Calculate and export all metrics\n",
    "\n",
    "This way they can be viewed in another program like Paraview."
   ]
  },
  {
   "cell_type": "code",
   "execution_count": null,
   "id": "edf5b0b6",
   "metadata": {},
   "outputs": [],
   "source": [
    "metrics.calculate_all_metrics(mesh, inplace=True)\n",
    "mesh.write(\"mesh_quality.msh\", file_format='gmsh22', binary=False)"
   ]
  },
  {
   "cell_type": "code",
   "execution_count": null,
   "id": "d477bf6b",
   "metadata": {},
   "outputs": [],
   "source": []
  }
 ],
 "metadata": {
  "kernelspec": {
   "display_name": "nanomesh",
   "language": "python",
   "name": "nanomesh"
  },
  "language_info": {
   "codemirror_mode": {
    "name": "ipython",
    "version": 3
   },
   "file_extension": ".py",
   "mimetype": "text/x-python",
   "name": "python",
   "nbconvert_exporter": "python",
   "pygments_lexer": "ipython3",
   "version": "3.8.10"
  }
 },
 "nbformat": 4,
 "nbformat_minor": 5
}
