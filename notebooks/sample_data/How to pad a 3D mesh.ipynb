{
 "cells": [
  {
   "cell_type": "code",
   "execution_count": null,
   "id": "957a427f",
   "metadata": {},
   "outputs": [],
   "source": [
    "%load_ext autoreload\n",
    "%autoreload 2\n",
    "%matplotlib notebook"
   ]
  },
  {
   "cell_type": "markdown",
   "id": "2348fc8b",
   "metadata": {},
   "source": [
    "## Padding a 3D mesh\n",
    "\n",
    "This notebook shows how to pad a 3D mesh."
   ]
  },
  {
   "cell_type": "code",
   "execution_count": null,
   "id": "3364b246",
   "metadata": {},
   "outputs": [],
   "source": [
    "import numpy as np\n",
    "from nanomesh import Volume\n",
    "\n",
    "n = 24\n",
    "m = 12\n",
    "\n",
    "data = np.ones([2*n, 5*n, 3*n], dtype=int)\n",
    "data[m:3*m, m:3*m, 0:3*n] = 0\n",
    "\n",
    "print(data.shape)\n",
    "\n",
    "vol = Volume(data)\n",
    "vol.show_slice()\n",
    "\n",
    "# generate contours\n",
    "from nanomesh.mesh3d import Mesher3D\n",
    "\n",
    "mesher = Mesher3D(vol)\n",
    "mesher.generate_contour()\n",
    "\n",
    "# tetramesh\n",
    "tetras = mesher.tetrahedralize(opts='-pAq1.2 -a100')\n",
    "tetras.metadata['labels'] = tetras.metadata['tetgenRef']\n",
    "tetras.plot_pyvista(jupyter_backend='static', show_edges=True)  # Use .plot_itk() for an interactive view "
   ]
  },
  {
   "cell_type": "markdown",
   "id": "a24640fb",
   "metadata": {},
   "source": [
    "### Padding a mesh"
   ]
  },
  {
   "cell_type": "code",
   "execution_count": null,
   "id": "cfa1b7e8",
   "metadata": {},
   "outputs": [],
   "source": [
    "import copy\n",
    "from nanomesh.mesh_utils_3d import pad3d\n",
    "\n",
    "padded_mesh = copy.copy(tetras)\n",
    "padded_mesh = pad3d(padded_mesh, side='top', width=20, opts='-pAq1.2 -a100', label=3)\n",
    "\n",
    "padded_mesh\n",
    "\n",
    "# padded_mesh.plot_pyvista(jupyter_backend='static', show_edges=True)"
   ]
  }
 ],
 "metadata": {
  "kernelspec": {
   "display_name": "nanomesh",
   "language": "python",
   "name": "nanomesh"
  },
  "language_info": {
   "codemirror_mode": {
    "name": "ipython",
    "version": 3
   },
   "file_extension": ".py",
   "mimetype": "text/x-python",
   "name": "python",
   "nbconvert_exporter": "python",
   "pygments_lexer": "ipython3",
   "version": "3.8.11"
  }
 },
 "nbformat": 4,
 "nbformat_minor": 5
}
