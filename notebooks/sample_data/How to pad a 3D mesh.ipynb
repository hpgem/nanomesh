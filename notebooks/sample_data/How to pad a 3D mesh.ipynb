{
 "cells": [
  {
   "cell_type": "code",
   "execution_count": null,
   "id": "957a427f",
   "metadata": {},
   "outputs": [],
   "source": [
    "%load_ext autoreload\n",
    "%autoreload 2\n",
    "%matplotlib notebook"
   ]
  },
  {
   "cell_type": "markdown",
   "id": "2348fc8b",
   "metadata": {},
   "source": [
    "## Padding a 3D mesh\n",
    "\n",
    "This notebook shows how to pad a 3D mesh."
   ]
  },
  {
   "cell_type": "code",
   "execution_count": null,
   "id": "3364b246",
   "metadata": {},
   "outputs": [],
   "source": [
    "import numpy as np\n",
    "from nanomesh import Volume\n",
    "\n",
    "n = 24\n",
    "m = 12\n",
    "\n",
    "data = np.ones([2*n, 5*n, 3*n], dtype=int)\n",
    "data[m:3*m, m:3*m, 0:3*n] = 0\n",
    "\n",
    "print(data.shape)\n",
    "\n",
    "vol = Volume(data)\n",
    "vol.show_slice()\n",
    "\n",
    "# generate contours\n",
    "from nanomesh.mesh3d import Mesher3D\n",
    "\n",
    "mesher = Mesher3D(vol)\n",
    "mesher.generate_contour()\n",
    "\n",
    "# tetramesh\n",
    "tetras = mesher.tetrahedralize(opts='-pAq1.2 -a100')\n",
    "tetras.metadata['labels'] = tetras.metadata['tetgenRef']\n",
    "tetras.plot_pyvista(jupyter_backend='static', show_edges=True)  # Use .plot_itk() for an interactive view "
   ]
  },
  {
   "cell_type": "markdown",
   "id": "a24640fb",
   "metadata": {},
   "source": [
    "### Padding a mesh\n",
    "\n",
    "First step is to create a bounding box for the padded area (below)."
   ]
  },
  {
   "cell_type": "code",
   "execution_count": null,
   "id": "cfa1b7e8",
   "metadata": {},
   "outputs": [],
   "source": [
    "import copy\n",
    "from nanomesh.mesh_utils_3d import pad3d\n",
    "from nanomesh.mesh3d import close_side, BoundingBox\n",
    "\n",
    "pad_side = 'top'\n",
    "\n",
    "padded_mesh = copy.copy(tetras)\n",
    "padded_mesh = pad3d(padded_mesh, side=pad_side, width=20, opts='-pAq1.2 -a100', label=3)\n",
    "\n",
    "coords, is_edge = padded_mesh\n",
    "\n",
    "# bounding box for padded area\n",
    "bbox = BoundingBox.from_points(coords)\n",
    "\n",
    "# get consistent set of points / cells for padded area\n",
    "edge_indices = np.argwhere(is_edge).flatten()\n",
    "\n",
    "has_point_on_edge = np.isin(tetras.cells, edge_indices)\n",
    "has_face_on_edge = np.sum(has_point_on_edge, axis=1)==3\n",
    "\n",
    "print(edge_indices.shape)\n",
    "print(has_point_on_edge.shape)\n",
    "print(has_face_on_edge.shape)\n",
    "\n",
    "edge_surface_triangles = tetras.cells[has_face_on_edge][has_point_on_edge[has_face_on_edge]].reshape(-1,3)\n",
    "\n",
    "print(edge_surface_triangles.shape)\n",
    "\n",
    "# assert that all triangles have the same z value.\n",
    "assert np.all(tetras.points[edge_surface_triangles][:,:,2].flatten() == 71)\n",
    "\n",
    "unq_arr, unq_tags = np.unique(edge_surface_triangles, return_inverse=1)\n",
    "\n",
    "relabeled = np.argsort(unq_arr)[unq_tags].reshape(-1,3)\n",
    "relabeled\n",
    "\n",
    "# Generate triangle mesh corresponding to specified side, \n",
    "# TODO: refactor this into function, i.e.\n",
    "# def extract_side(mesh, side='top'):\n",
    "#     pass\n",
    "from nanomesh.mesh_container import TriangleMesh\n",
    "side_mesh = TriangleMesh(points=coords, cells=relabeled)\n",
    "# side_mesh.drop_third_dimension()\n",
    "# side_mesh.plot()\n",
    "\n",
    "sides = 'top', 'bottom', 'left', 'right', 'front', 'back'\n",
    "for side in sides:\n",
    "    if side == pad_side:\n",
    "        continue\n",
    "    \n",
    "    side_mesh = close_side(side_mesh, side=side, bbox=bbox)\n",
    "\n",
    "side_mesh.plot_itk()"
   ]
  },
  {
   "cell_type": "markdown",
   "id": "db09af47",
   "metadata": {},
   "source": [
    "### Tetrahedralize mesh\n",
    "\n",
    "This seems to work. Ensure that points/tetrahedras have the same labeling as in the triangle mesh above."
   ]
  },
  {
   "cell_type": "code",
   "execution_count": null,
   "id": "76fc8c52",
   "metadata": {},
   "outputs": [],
   "source": [
    "vol_mesh = side_mesh.tetrahedralize()\n",
    "vol_mesh.plot_itk()"
   ]
  },
  {
   "cell_type": "markdown",
   "id": "e4b7f49f",
   "metadata": {},
   "source": [
    "### Next step: merge meshes back"
   ]
  },
  {
   "cell_type": "code",
   "execution_count": null,
   "id": "adbdef53",
   "metadata": {},
   "outputs": [],
   "source": []
  }
 ],
 "metadata": {
  "kernelspec": {
   "display_name": "nanomesh",
   "language": "python",
   "name": "nanomesh"
  },
  "language_info": {
   "codemirror_mode": {
    "name": "ipython",
    "version": 3
   },
   "file_extension": ".py",
   "mimetype": "text/x-python",
   "name": "python",
   "nbconvert_exporter": "python",
   "pygments_lexer": "ipython3",
   "version": "3.8.10"
  }
 },
 "nbformat": 4,
 "nbformat_minor": 5
}
