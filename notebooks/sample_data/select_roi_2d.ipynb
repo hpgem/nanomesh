{
 "cells": [
  {
   "cell_type": "code",
   "execution_count": 1,
   "id": "048c981b",
   "metadata": {},
   "outputs": [],
   "source": [
    "%load_ext autoreload\n",
    "%autoreload 2\n",
    "%matplotlib ipympl"
   ]
  },
  {
   "cell_type": "markdown",
   "id": "ff4be8d8",
   "metadata": {},
   "source": [
    "## Select region of interest from an image"
   ]
  },
  {
   "cell_type": "code",
   "execution_count": 2,
   "id": "965e9d55",
   "metadata": {},
   "outputs": [],
   "source": [
    "from nanomesh.volume import Volume\n",
    "from nanomesh.plane import Plane\n",
    "vol = Volume.load('sample_data.npy')\n",
    "plane = vol.select_plane(x=161)"
   ]
  },
  {
   "cell_type": "markdown",
   "id": "8f7f6051",
   "metadata": {},
   "source": [
    "Use `.select_roi` to open an interactive widget. Select a region of interest in the figure by enclosing them within a polygon. A rectangle is fitted to the polygon.\n",
    "\n",
    "- Press the 'esc' key to start a new polygon\n",
    "- Hold the 'shift' key to move all of the vertices\n",
    "- Hold the 'ctrl' key to move a single vertex"
   ]
  },
  {
   "cell_type": "code",
   "execution_count": 3,
   "id": "4091f121",
   "metadata": {
    "scrolled": true
   },
   "outputs": [
    {
     "data": {
      "application/vnd.jupyter.widget-view+json": {
       "model_id": "cc27488a1d844b01aff02911e15e61c0",
       "version_major": 2,
       "version_minor": 0
      },
      "text/plain": [
       "Canvas(toolbar=Toolbar(toolitems=[('Home', 'Reset original view', 'home', 'home'), ('Back', 'Back to previous …"
      ]
     },
     "metadata": {},
     "output_type": "display_data"
    }
   ],
   "source": [
    "roi = plane.select_roi()"
   ]
  },
  {
   "cell_type": "markdown",
   "id": "7ed39841",
   "metadata": {},
   "source": [
    "The `.bbox` attribute is updated when the selection above changes."
   ]
  },
  {
   "cell_type": "code",
   "execution_count": 6,
   "id": "429afa53",
   "metadata": {
    "scrolled": true
   },
   "outputs": [
    {
     "data": {
      "text/plain": [
       "array([[157.54873913,  87.57952845],\n",
       "       [104.85487716,  19.00532451],\n",
       "       [ 42.69131821,  66.77311191],\n",
       "       [ 95.38518019, 135.34731585]])"
      ]
     },
     "execution_count": 6,
     "metadata": {},
     "output_type": "execute_result"
    }
   ],
   "source": [
    "roi.bbox"
   ]
  },
  {
   "cell_type": "markdown",
   "id": "dfdcec5f",
   "metadata": {},
   "source": [
    "Use the `.crop_to_roi` method to extract the region of interest."
   ]
  },
  {
   "cell_type": "code",
   "execution_count": 7,
   "id": "3c35284d",
   "metadata": {},
   "outputs": [
    {
     "data": {
      "application/vnd.jupyter.widget-view+json": {
       "model_id": "e295d276f6f346d0ba43502c9a1ecd44",
       "version_major": 2,
       "version_minor": 0
      },
      "text/plain": [
       "Canvas(toolbar=Toolbar(toolitems=[('Home', 'Reset original view', 'home', 'home'), ('Back', 'Back to previous …"
      ]
     },
     "metadata": {},
     "output_type": "display_data"
    },
    {
     "data": {
      "text/plain": [
       "<AxesSubplot:xlabel='x', ylabel='y'>"
      ]
     },
     "execution_count": 7,
     "metadata": {},
     "output_type": "execute_result"
    }
   ],
   "source": [
    "plane_roi = plane.crop_to_roi(bbox=roi.bbox)\n",
    "plane_roi.show()"
   ]
  },
  {
   "cell_type": "code",
   "execution_count": null,
   "id": "4ef3ed77",
   "metadata": {},
   "outputs": [],
   "source": []
  }
 ],
 "metadata": {
  "kernelspec": {
   "display_name": "nanomesh",
   "language": "python",
   "name": "nanomesh"
  },
  "language_info": {
   "codemirror_mode": {
    "name": "ipython",
    "version": 3
   },
   "file_extension": ".py",
   "mimetype": "text/x-python",
   "name": "python",
   "nbconvert_exporter": "python",
   "pygments_lexer": "ipython3",
   "version": "3.8.8"
  }
 },
 "nbformat": 4,
 "nbformat_minor": 5
}
