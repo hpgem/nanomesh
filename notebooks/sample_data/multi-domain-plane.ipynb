{
 "cells": [
  {
   "cell_type": "code",
   "execution_count": null,
   "id": "a79ce98a",
   "metadata": {},
   "outputs": [],
   "source": [
    "%load_ext autoreload\n",
    "%autoreload 2\n",
    "%matplotlib notebook"
   ]
  },
  {
   "cell_type": "markdown",
   "id": "83cb163c",
   "metadata": {},
   "source": [
    "## Processing multi-domain data\n",
    "\n",
    "This notebook meshes an image with multiple domains using `nanomesh`. The image contains a gradient from left to right.  If the image background is relatively uniform, global thresholds can be used to separate the different domains. In this case, the image has a contrast gradient from left to right, so this example shows three different methods to deal with this.\n",
    "\n",
    "The image is then meshed using `nanomesh` to obtain a mesh with multiple domains. The mesh contains triangles labeled as 'pore' or 'bulk' material."
   ]
  },
  {
   "cell_type": "code",
   "execution_count": null,
   "id": "bbeccd5a",
   "metadata": {},
   "outputs": [],
   "source": [
    "import numpy as np\n",
    "from nanomesh import Plane\n",
    "from nanomesh.plane import Plane\n",
    "import pyvista as pv\n",
    "from skimage import filters"
   ]
  },
  {
   "cell_type": "code",
   "execution_count": null,
   "id": "8b299ad8",
   "metadata": {},
   "outputs": [],
   "source": [
    "plane = Plane.load('x500.npy')\n",
    "plane = plane.crop(left=150, right=725, top=410, bottom=1470)\n",
    "plane.show()"
   ]
  },
  {
   "cell_type": "code",
   "execution_count": null,
   "id": "e9d64adf",
   "metadata": {},
   "outputs": [],
   "source": [
    "plane_gauss = plane.apply(filters.gaussian, sigma=5)\n",
    "# filters.try_all_threshold(plane_gauss.image, figsize=(5, 10), verbose=False)"
   ]
  },
  {
   "cell_type": "markdown",
   "id": "81d8b6c8",
   "metadata": {},
   "source": [
    "## Local thresholding\n",
    "\n",
    "### User-defined local threshold\n",
    "\n",
    "https://scikit-image.org/docs/stable/api/skimage.filters.html#skimage.filters.threshold_local  \n",
    "https://scikit-image.org/docs/stable/auto_examples/applications/plot_thresholding.html#local-thresholding"
   ]
  },
  {
   "cell_type": "code",
   "execution_count": null,
   "id": "651de1a7",
   "metadata": {},
   "outputs": [],
   "source": [
    "from skimage.filters import threshold_local\n",
    "import matplotlib.pyplot as plt\n",
    "\n",
    "offset = 150\n",
    "block_size = 101\n",
    "\n",
    "image = plane_gauss.image\n",
    "\n",
    "local_thresh = threshold_local(image, block_size, offset=offset)\n",
    "seg_local = image > local_thresh"
   ]
  },
  {
   "cell_type": "markdown",
   "id": "665171bf",
   "metadata": {},
   "source": [
    "### Otsu local threshold\n",
    "\n",
    "Applies an otsu rank filter to determine the local otsu threshold to segment on.\n",
    "\n",
    "https://scikit-image.org/docs/stable/api/skimage.filters.rank.html#skimage.filters.rank.otsu  \n",
    "https://scikit-image.org/docs/stable/auto_examples/applications/plot_rank_filters.html#image-threshold"
   ]
  },
  {
   "cell_type": "code",
   "execution_count": null,
   "id": "8abd99ef",
   "metadata": {},
   "outputs": [],
   "source": [
    "from skimage.morphology import disk\n",
    "from skimage.filters import threshold_otsu, rank\n",
    "from skimage.util import img_as_ubyte\n",
    "\n",
    "def normalize_values(image):\n",
    "    return (image - image.min()) / (image.max() - image.min())\n",
    "\n",
    "image_orig = normalize_values(plane_gauss.image)\n",
    "image = img_as_ubyte(image_orig)\n",
    "\n",
    "radius = 41\n",
    "selem = disk(radius)\n",
    "\n",
    "local_otsu = rank.otsu(image, selem)\n",
    "seg_local_otsu = image >= local_otsu"
   ]
  },
  {
   "cell_type": "markdown",
   "id": "c3788fdd",
   "metadata": {},
   "source": [
    "### Adaptive histogram equalization\n",
    "\n",
    "Using adaptive histogram equalization to remove the gradient. Use standard global thresholds to segment.\n",
    "\n",
    "https://scikit-image.org/docs/dev/api/skimage.exposure.html#equalize-adapthist  \n",
    "https://scikit-image.org/docs/dev/auto_examples/color_exposure/plot_local_equalize.html#local-histogram-equalization"
   ]
  },
  {
   "cell_type": "code",
   "execution_count": null,
   "id": "95f04e45",
   "metadata": {},
   "outputs": [],
   "source": [
    "from skimage import exposure\n",
    "\n",
    "plane_eq = plane.apply(normalize_values)\n",
    "plane_eq = plane_eq.apply(exposure.equalize_adapthist)\n",
    "plane_eq_gauss = plane_eq.apply(filters.gaussian, sigma=5)\n",
    "\n",
    "# filters.try_all_threshold(plane_eq_gauss.image, figsize=(5, 10), verbose=False)\n",
    "\n",
    "thresh = filters.threshold_otsu(plane_eq_gauss.image)\n",
    "seg_clahe = plane_eq_gauss.apply(np.digitize, bins=[thresh])"
   ]
  },
  {
   "cell_type": "markdown",
   "id": "831dba20",
   "metadata": {},
   "source": [
    "### Compare results"
   ]
  },
  {
   "cell_type": "code",
   "execution_count": null,
   "id": "b0bc5737",
   "metadata": {},
   "outputs": [],
   "source": [
    "fig, axes = plt.subplots(ncols=3, nrows=2, figsize=(8, 6))\n",
    "ax = axes.ravel()\n",
    "plt.gray()\n",
    "\n",
    "ax[0].imshow(plane.image)\n",
    "ax[0].set_title('Original')\n",
    "\n",
    "ax[1].imshow(local_otsu, cmap=plt.cm.gray)\n",
    "ax[1].set_title('Local Otsu (radius=%d)' % radius)\n",
    "\n",
    "ax[2].imshow(seg_local_otsu, cmap=plt.cm.gray)\n",
    "ax[2].set_title('Original >= Local Otsu')\n",
    "\n",
    "ax[3].imshow(seg_local)\n",
    "ax[3].set_title('Local thresholding')\n",
    "\n",
    "ax[4].imshow(plane_eq.image, cmap=plt.cm.gray)\n",
    "ax[4].set_title('CLAHE')\n",
    "\n",
    "ax[5].imshow(seg_clahe.image, cmap=plt.cm.gray)\n",
    "ax[5].set_title('CLAHE+gauss >= otsu')\n",
    "\n",
    "for a in ax:\n",
    "    a.axis('off')\n",
    "\n",
    "plt.show()"
   ]
  },
  {
   "cell_type": "markdown",
   "id": "0143f9d7",
   "metadata": {},
   "source": [
    "## Contour finding"
   ]
  },
  {
   "cell_type": "code",
   "execution_count": null,
   "id": "3991914a",
   "metadata": {},
   "outputs": [],
   "source": [
    "from skimage import segmentation\n",
    "\n",
    "# select subsection for faster processing\n",
    "select_subsection = False\n",
    "# Remove features at the border\n",
    "clear_border = True\n",
    "\n",
    "seg = seg_local.copy()\n",
    "\n",
    "if select_subsection:\n",
    "    seg = seg[20:110, 40:220]\n",
    "\n",
    "if clear_border:\n",
    "    seg = (~segmentation.clear_border(~seg)).astype(int)\n",
    "\n",
    "plt.close('all')\n",
    "plt.imshow(seg)\n",
    "plt.show()"
   ]
  },
  {
   "cell_type": "code",
   "execution_count": null,
   "id": "c8354700",
   "metadata": {},
   "outputs": [],
   "source": [
    "%%time\n",
    "\n",
    "from nanomesh.mesh2d import Mesher2D\n",
    "\n",
    "mesher = Mesher2D(seg)\n",
    "\n",
    "mesher.add_points(label=1, method='kmeans', verbose=3)\n",
    "mesher.add_points(label=0, point_density=0.01, method='gmm', verbose=3)\n",
    "mesher.generate_contours(max_contour_dist=4)\n",
    "mesher.generate_edge_contours(max_contour_dist=10)\n",
    "mesher.generate_mesh()\n",
    "mesher.generate_domain_mask()\n",
    "\n",
    "mesher.plot_steps()"
   ]
  },
  {
   "cell_type": "code",
   "execution_count": null,
   "id": "687f60cc",
   "metadata": {},
   "outputs": [],
   "source": [
    "mesher.to_meshio(label=0)"
   ]
  },
  {
   "cell_type": "code",
   "execution_count": null,
   "id": "7777cd54",
   "metadata": {},
   "outputs": [],
   "source": [
    "mesher.to_meshio(label=1)"
   ]
  },
  {
   "cell_type": "code",
   "execution_count": null,
   "id": "cca4bb69",
   "metadata": {},
   "outputs": [],
   "source": [
    "mesh = mesher.to_meshio()\n",
    "pv.plot_itk(mesh)"
   ]
  },
  {
   "cell_type": "code",
   "execution_count": null,
   "id": "4f3298c2",
   "metadata": {},
   "outputs": [],
   "source": [
    "mesh.write(\"mesh_x500_bin.msh\", file_format='gmsh22', binary=True)\n",
    "mesh.write(\"mesh_x500_ascii.msh\", file_format='gmsh22', binary=False)"
   ]
  },
  {
   "cell_type": "code",
   "execution_count": null,
   "id": "7ee148e0",
   "metadata": {},
   "outputs": [],
   "source": []
  }
 ],
 "metadata": {
  "kernelspec": {
   "display_name": "nanomesh",
   "language": "python",
   "name": "nanomesh"
  },
  "language_info": {
   "codemirror_mode": {
    "name": "ipython",
    "version": 3
   },
   "file_extension": ".py",
   "mimetype": "text/x-python",
   "name": "python",
   "nbconvert_exporter": "python",
   "pygments_lexer": "ipython3",
   "version": "3.8.10"
  }
 },
 "nbformat": 4,
 "nbformat_minor": 5
}
