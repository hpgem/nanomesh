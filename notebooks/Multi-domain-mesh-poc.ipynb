{
 "cells": [
  {
   "cell_type": "code",
   "execution_count": 1,
   "id": "2db1004b",
   "metadata": {},
   "outputs": [],
   "source": [
    "%load_ext autoreload\n",
    "%autoreload 2\n",
    "%matplotlib notebook"
   ]
  },
  {
   "cell_type": "markdown",
   "id": "934fda27",
   "metadata": {},
   "source": [
    "### Tetgen multi-domain meshing proof of concept"
   ]
  },
  {
   "cell_type": "code",
   "execution_count": 2,
   "id": "225cc592",
   "metadata": {},
   "outputs": [],
   "source": [
    "from itertools import islice\n",
    "from collections import namedtuple\n",
    "import numpy as np"
   ]
  },
  {
   "cell_type": "markdown",
   "id": "3b8ddd60",
   "metadata": {},
   "source": [
    "Tetgen file formats:\n",
    "http://wias-berlin.de/software/tetgen/1.5/doc/manual/manual006.html#ff_poly\n",
    "\n",
    "The data below constructs a rectangle within a cube. The rectangle cuts from one end to the other end of the cube, simulating a 'pore'. The inner rectangle should be handled as a different domain by the algorithm. The goal is to develop a workflow that demonstrates the multi-domain meshing."
   ]
  },
  {
   "cell_type": "code",
   "execution_count": 147,
   "id": "eb92ad00",
   "metadata": {},
   "outputs": [
    {
     "data": {
      "application/vnd.jupyter.widget-view+json": {
       "model_id": "4922e93e9cdc4bc88a9243de0e09e88a",
       "version_major": 2,
       "version_minor": 0
      },
      "text/plain": [
       "Viewer(geometries=[{'vtkClass': 'vtkPolyData', 'points': {'vtkClass': 'vtkPoints', 'name': '_points', 'numberO…"
      ]
     },
     "metadata": {},
     "output_type": "display_data"
    }
   ],
   "source": [
    "from nanomesh.mesh_container import TriangleMesh\n",
    "\n",
    "vertices = np.array([\n",
    "  [0.0, 0.0, 0.0],  # A\n",
    "  [4.0, 0.0, 0.0],  # B\n",
    "  [4.0, 4.0, 0.0],  # C\n",
    "  [0.0, 4.0, 0.0],  # D\n",
    "  [0.0, 0.0, 4.0],  # E\n",
    "  [4.0, 0.0, 4.0],  # F\n",
    "  [4.0, 4.0, 4.0],  # G\n",
    "  [0.0, 4.0, 4.0],  # H\n",
    "    \n",
    "  [1.0, 1.0, 0.0],  # a\n",
    "  [3.0, 1.0, 0.0],  # b\n",
    "  [3.0, 3.0, 0.0],  # c\n",
    "  [1.0, 3.0, 0.0],  # d\n",
    "  [1.0, 1.0, 4.0],  # e\n",
    "  [3.0, 1.0, 4.0],  # f\n",
    "  [3.0, 3.0, 4.0],  # g\n",
    "  [1.0, 3.0, 4.0],  # h\n",
    "])\n",
    "\n",
    "faces = np.array([\n",
    "    [0, 11, 8 ],\n",
    "    [1, 8,  9 ],\n",
    "    [2, 9,  10],\n",
    "    [3, 10, 11],\n",
    "    [0, 8,  1 ],\n",
    "    [1, 9,  2 ],\n",
    "    [2, 10, 3 ],\n",
    "    [3, 11, 0 ],\n",
    "\n",
    "    [0, 1, 5],\n",
    "    [5, 4, 0],\n",
    "    [1, 2, 6],\n",
    "    [6, 5, 1],\n",
    "    [3, 2, 6],\n",
    "    [6, 7, 3],\n",
    "    [0, 3, 7],\n",
    "    [7, 4, 0],\n",
    "\n",
    "    [4, 15,  12 ],\n",
    "    [5, 12,  13 ],\n",
    "    [6, 13,  14],\n",
    "    [7, 14,  15],\n",
    "    [4, 12,  5 ],\n",
    "    [5, 13,  6 ],\n",
    "    [6, 14,  7 ],\n",
    "    [7, 15,  4 ],\n",
    "    \n",
    "    [8,  9,  10],\n",
    "    [10, 11, 8 ],\n",
    "    [8,  9,  13],\n",
    "    [13, 12, 8 ],\n",
    "    [9,  10, 14],\n",
    "    [14, 13, 9 ],\n",
    "    [11, 10, 14],\n",
    "    [14, 15, 11],\n",
    "    [8,  11, 15],\n",
    "    [15, 12, 8 ],\n",
    "    [13, 14, 15],\n",
    "    [15, 12, 13],\n",
    "])\n",
    "\n",
    "triangles = TriangleMesh(vertices=vertices, faces=faces)\n",
    "triangles.plot_itk()"
   ]
  },
  {
   "cell_type": "markdown",
   "id": "d1e518ab",
   "metadata": {},
   "source": [
    "Region markers assigns attributes to tetrahedra in different regions."
   ]
  },
  {
   "cell_type": "code",
   "execution_count": 148,
   "id": "fc994d7f",
   "metadata": {},
   "outputs": [
    {
     "data": {
      "text/plain": [
       "{'tetgen.ref': array([10, 10, 20, ..., 10, 10, 10]),\n",
       " 'labels': array([0, 0, 0, ..., 0, 0, 0])}"
      ]
     },
     "execution_count": 148,
     "metadata": {},
     "output_type": "execute_result"
    }
   ],
   "source": [
    "from nanomesh import tetgen\n",
    "\n",
    "region_markers = {\n",
    "  10: [0.5, 0.5, 0.5],\n",
    "  20: [2.0, 2.0, 2.0],   \n",
    "}\n",
    "\n",
    "tetras = triangles.tetrahedralize(region_markers=region_markers)\n",
    "tetras.metadata"
   ]
  },
  {
   "cell_type": "code",
   "execution_count": 149,
   "id": "12de4c72",
   "metadata": {},
   "outputs": [],
   "source": [
    "tetras.metadata['labels2'] = tetras.metadata.pop('tetgen.ref')"
   ]
  },
  {
   "cell_type": "markdown",
   "id": "d31ad4e2",
   "metadata": {},
   "source": [
    "ITK is a bit picky about the name of the metadata, and will sometimes not plot it. Use `tetview` to view the `.ele` files.\n",
    "\n",
    "https://wias-berlin.de/software/tetgen/tetview.html"
   ]
  },
  {
   "cell_type": "code",
   "execution_count": 150,
   "id": "e4de10c8",
   "metadata": {},
   "outputs": [
    {
     "data": {
      "application/vnd.jupyter.widget-view+json": {
       "model_id": "ef0658e43e354d779145e22050cc2763",
       "version_major": 2,
       "version_minor": 0
      },
      "text/plain": [
       "Viewer(geometries=[{'vtkClass': 'vtkPolyData', 'points': {'vtkClass': 'vtkPoints', 'name': '_points', 'numberO…"
      ]
     },
     "metadata": {},
     "output_type": "display_data"
    }
   ],
   "source": [
    "tetras.plot_itk()"
   ]
  },
  {
   "cell_type": "code",
   "execution_count": null,
   "id": "e02601b5",
   "metadata": {},
   "outputs": [],
   "source": []
  }
 ],
 "metadata": {
  "kernelspec": {
   "display_name": "nanomesh",
   "language": "python",
   "name": "nanomesh"
  },
  "language_info": {
   "codemirror_mode": {
    "name": "ipython",
    "version": 3
   },
   "file_extension": ".py",
   "mimetype": "text/x-python",
   "name": "python",
   "nbconvert_exporter": "python",
   "pygments_lexer": "ipython3",
   "version": "3.8.10"
  }
 },
 "nbformat": 4,
 "nbformat_minor": 5
}
