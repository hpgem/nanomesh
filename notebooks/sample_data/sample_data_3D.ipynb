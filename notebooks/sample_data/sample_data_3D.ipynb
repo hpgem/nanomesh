{
 "cells": [
  {
   "cell_type": "code",
   "execution_count": null,
   "metadata": {},
   "outputs": [],
   "source": [
    "%load_ext autoreload\n",
    "%autoreload 2\n",
    "%matplotlib notebook"
   ]
  },
  {
   "cell_type": "markdown",
   "metadata": {},
   "source": [
    "## 3D meshing example\n",
    "\n",
    "This notebook shows how to mesh a 3D volume:\n",
    "\n",
    "1. Load and visualize a volume\n",
    "1. Apply image filters and segment image\n",
    "1. Generate a 3D surface mesh from the binary image\n",
    "1. Decimate/simplify a 3D mesh\n",
    "1. Visualize and save the mesh to gmsh22 format"
   ]
  },
  {
   "cell_type": "markdown",
   "metadata": {},
   "source": [
    "## Todo:\n",
    "\n",
    "- [ ] Mimic `add_points` from 2d meshing submodule\n",
    "- [ ] Tune performance\n",
    "- [ ] Add edge points instead of padding?"
   ]
  },
  {
   "cell_type": "code",
   "execution_count": null,
   "metadata": {},
   "outputs": [],
   "source": [
    "from nanomesh.volume import Volume\n",
    "import pyvista as pv\n",
    "from skimage import filters\n",
    "import numpy as np"
   ]
  },
  {
   "cell_type": "markdown",
   "metadata": {},
   "source": [
    "Load the data and select a subvolume to work with for this notebook."
   ]
  },
  {
   "cell_type": "code",
   "execution_count": null,
   "metadata": {},
   "outputs": [],
   "source": [
    "full_vol = Volume.load('slab_x450-550.npy')\n",
    "vol = full_vol.select_subvolume(zs=(700, 800), ys=(300,400))\n",
    "vol.show_slice()"
   ]
  },
  {
   "cell_type": "code",
   "execution_count": null,
   "metadata": {},
   "outputs": [],
   "source": [
    "vol_gauss = vol.apply(filters.gaussian, sigma=5)\n",
    "\n",
    "thresh = vol_gauss.apply(filters.threshold_li)\n",
    "\n",
    "seg_vol = vol_gauss.apply(np.digitize, bins=[thresh])\n",
    "\n",
    "seg_vol.show_slice()"
   ]
  },
  {
   "cell_type": "markdown",
   "metadata": {},
   "source": [
    "### Generate 3d tetragonal mesh\n",
    "\n",
    "Meshes can be generated using the `Mesher3D` class.\n",
    "\n",
    "A convenience method is also available through `volume.generate_mesh`, which offers less flexibility."
   ]
  },
  {
   "cell_type": "code",
   "execution_count": null,
   "metadata": {},
   "outputs": [],
   "source": [
    "%%time\n",
    "\n",
    "from nanomesh.mesh3d import Mesher3D\n",
    "\n",
    "mesher = Mesher3D(seg_vol.image)\n",
    "mesher.pad(pad_width=2)\n",
    "mesher.add_points(point_density=1/500, step_size=1, label=1, verbose=3)\n",
    "mesher.generate_surface_mesh(step_size=2)\n",
    "mesher.smooth_mesh()\n",
    "mesher.simplify_mesh(n_faces=5000)\n",
    "mesher.generate_volume_mesh()\n",
    "mesher.generate_domain_mask()\n",
    "mesh = mesher.to_meshio()\n",
    "\n",
    "pv.plot_itk(mesh)"
   ]
  },
  {
   "cell_type": "markdown",
   "metadata": {},
   "source": [
    "Show subsection of the tetragonal mesh."
   ]
  },
  {
   "cell_type": "code",
   "execution_count": null,
   "metadata": {},
   "outputs": [],
   "source": [
    "from nanomesh.mesh3d import show_submesh\n",
    "\n",
    "show_submesh(mesh, index=30)"
   ]
  },
  {
   "cell_type": "markdown",
   "metadata": {},
   "source": [
    "Save the data."
   ]
  },
  {
   "cell_type": "code",
   "execution_count": null,
   "metadata": {},
   "outputs": [],
   "source": [
    "mesh.write(\"volume.msh\", file_format='gmsh22', binary=False)"
   ]
  }
 ],
 "metadata": {
  "kernelspec": {
   "display_name": "nanomesh",
   "language": "python",
   "name": "nanomesh"
  },
  "language_info": {
   "codemirror_mode": {
    "name": "ipython",
    "version": 3
   },
   "file_extension": ".py",
   "mimetype": "text/x-python",
   "name": "python",
   "nbconvert_exporter": "python",
   "pygments_lexer": "ipython3",
   "version": "3.8.10"
  }
 },
 "nbformat": 4,
 "nbformat_minor": 4
}
