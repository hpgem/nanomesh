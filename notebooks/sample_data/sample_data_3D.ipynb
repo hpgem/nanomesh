{
 "cells": [
  {
   "cell_type": "code",
   "execution_count": null,
   "metadata": {},
   "outputs": [],
   "source": [
    "%load_ext autoreload\n",
    "%autoreload 2\n",
    "%matplotlib ipympl"
   ]
  },
  {
   "cell_type": "markdown",
   "metadata": {},
   "source": [
    "## 3D meshing example\n",
    "\n",
    "This notebook shows how to\n",
    "\n",
    "1. Load and visualize a volume\n",
    "1. Apply image filters to and segment image\n",
    "1. Generate a 3D surface mesh from the binary image\n",
    "1. Decimate/simplify a 3D mesh\n",
    "1. Visualize and save the mesh to gmsh22 format\n",
    "\n",
    "### Todo:\n",
    "\n",
    "- Generate 3D volume mesh\n",
    "- Surface mesh must be 'watertight'\n",
    "- Constrained Delaunay triangulation to fix surface (do not go outside surface), i.e.\n",
    "https://notebook.community/daniel-koehn/Theory-of-seismic-waves-II/02_Mesh_generation/4_Tri_mesh_delaunay_yigma_tepe,\n",
    "https://wias-berlin.de/software/tetgen/1.5/doc/manual/manual002.html#sec7\n",
    "- For padding, keep tetrahedron if one of the points is inside the boundaries"
   ]
  },
  {
   "cell_type": "code",
   "execution_count": null,
   "metadata": {},
   "outputs": [],
   "source": [
    "from nanomesh.volume import Volume\n",
    "import pyvista as pv\n",
    "from skimage import filters\n",
    "import numpy as np"
   ]
  },
  {
   "cell_type": "code",
   "execution_count": null,
   "metadata": {},
   "outputs": [],
   "source": [
    "vol = Volume.load('sample_data.npy')\n",
    "\n",
    "vol.image = vol.image[50:100, 50:100, 50:100]\n",
    "\n",
    "vol_gauss = vol.apply(filters.gaussian, sigma=5)\n",
    "\n",
    "thresh = vol_gauss.apply(filters.threshold_li)\n",
    "\n",
    "seg_vol = vol_gauss.apply(np.digitize, bins=[thresh])\n",
    "\n",
    "seg_vol.show_slice()"
   ]
  },
  {
   "cell_type": "markdown",
   "metadata": {},
   "source": [
    "### Generate 3d tetragonal mesh\n",
    "\n",
    "Meshes can be generated using the `Mesher3D` class.\n",
    "\n",
    "A convenience method is also available through `volume.generate_mesh`, which offers less flexibility."
   ]
  },
  {
   "cell_type": "code",
   "execution_count": null,
   "metadata": {},
   "outputs": [],
   "source": [
    "import gc\n",
    "gc.collect()"
   ]
  },
  {
   "cell_type": "code",
   "execution_count": null,
   "metadata": {},
   "outputs": [],
   "source": [
    "%%time\n",
    "\n",
    "from nanomesh.mesh3d import Mesher3D\n",
    "\n",
    "mesher = Mesher3D(seg_vol.image)\n",
    "mesher.pad(pad_width=2)\n",
    "mesher.add_points(point_density=1/500, step_size=1, label=1)\n",
    "mesher.generate_surface_mesh(step_size=2)\n",
    "mesher.smooth_mesh()\n",
    "mesher.simplify_mesh(n_faces=5000)\n",
    "mesher.generate_volume_mesh()\n",
    "mesher.generate_domain_mask()\n",
    "mesh = mesher.to_meshio()\n",
    "\n",
    "pv.plot_itk(mesh)"
   ]
  },
  {
   "cell_type": "markdown",
   "metadata": {},
   "source": [
    "Show subsection of the tetragonal mesh."
   ]
  },
  {
   "cell_type": "code",
   "execution_count": null,
   "metadata": {},
   "outputs": [],
   "source": [
    "from nanomesh.mesh3d import show_submesh\n",
    "\n",
    "show_submesh(mesh, index=30)"
   ]
  },
  {
   "cell_type": "code",
   "execution_count": null,
   "metadata": {},
   "outputs": [],
   "source": []
  }
 ],
 "metadata": {
  "kernelspec": {
   "display_name": "nanomesh",
   "language": "python",
   "name": "nanomesh"
  },
  "language_info": {
   "codemirror_mode": {
    "name": "ipython",
    "version": 3
   },
   "file_extension": ".py",
   "mimetype": "text/x-python",
   "name": "python",
   "nbconvert_exporter": "python",
   "pygments_lexer": "ipython3",
   "version": "3.8.8"
  }
 },
 "nbformat": 4,
 "nbformat_minor": 4
}
