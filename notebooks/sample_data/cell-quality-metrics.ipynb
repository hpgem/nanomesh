{
 "cells": [
  {
   "cell_type": "code",
   "execution_count": null,
   "id": "5f5cda51",
   "metadata": {},
   "outputs": [],
   "source": [
    "%load_ext autoreload\n",
    "%autoreload 2\n",
    "%matplotlib notebook"
   ]
  },
  {
   "cell_type": "markdown",
   "id": "418a1830",
   "metadata": {},
   "source": [
    "## Mesh quality indicators\n",
    "\n",
    "This notebook shows different mesh quality indicators:\n",
    "\n",
    "- Minimum/maximum angle\n",
    "- Ratio min/max edge length\n",
    "- Ratio circumscribed to inscribed circle (largest circle fitting inside vs smallest circle fitting around a triangle)\n",
    "\n",
    "The indicators are plotted on the mesh and as a histogram."
   ]
  },
  {
   "cell_type": "code",
   "execution_count": null,
   "id": "bc13d99c",
   "metadata": {},
   "outputs": [],
   "source": [
    "import numpy as np\n",
    "import meshio\n",
    "import matplotlib.pyplot as plt"
   ]
  },
  {
   "cell_type": "code",
   "execution_count": null,
   "id": "697ca851",
   "metadata": {},
   "outputs": [],
   "source": [
    "mesh = meshio.read('mesh_x500_ascii.msh')"
   ]
  },
  {
   "cell_type": "markdown",
   "id": "a4a33bf8",
   "metadata": {},
   "source": [
    "### Minumum and maximum cell angles"
   ]
  },
  {
   "cell_type": "code",
   "execution_count": null,
   "id": "901c4f34",
   "metadata": {},
   "outputs": [],
   "source": [
    "metrics.histogram(mesh, metric='min_angle')\n",
    "metrics.plot2d(mesh, metric='min_angle')"
   ]
  },
  {
   "cell_type": "code",
   "execution_count": null,
   "id": "385a1a78",
   "metadata": {},
   "outputs": [],
   "source": [
    "metrics.histogram(mesh, metric='max_angle')\n",
    "metrics.plot2d(mesh, metric='max_angle')"
   ]
  },
  {
   "cell_type": "markdown",
   "id": "8115f65a",
   "metadata": {},
   "source": [
    "### Ratio between radii\n",
    "\n",
    "https://www.geogebra.org/m/VRE3Dyrn"
   ]
  },
  {
   "cell_type": "code",
   "execution_count": null,
   "id": "efb00fe8",
   "metadata": {},
   "outputs": [],
   "source": [
    "metrics.histogram(mesh, metric='radius_ratio')\n",
    "metrics.plot2d(mesh, metric='radius_ratio')"
   ]
  },
  {
   "cell_type": "markdown",
   "id": "84d76476",
   "metadata": {},
   "source": [
    "### Ratio between longest and shortest edge"
   ]
  },
  {
   "cell_type": "code",
   "execution_count": null,
   "id": "f00ad81f",
   "metadata": {},
   "outputs": [],
   "source": [
    "metrics.histogram(mesh, metric='max_min_edge_ratio')\n",
    "metrics.plot2d(mesh, metric='max_min_edge_ratio')"
   ]
  },
  {
   "cell_type": "markdown",
   "id": "58160dab",
   "metadata": {},
   "source": [
    "### Calculate and export all metrics\n",
    "\n",
    "This way they can be viewed in another program like Paraview."
   ]
  },
  {
   "cell_type": "code",
   "execution_count": null,
   "id": "edf5b0b6",
   "metadata": {},
   "outputs": [],
   "source": [
    "metrics.calculate_all_metrics(mesh, inplace=True)"
   ]
  },
  {
   "cell_type": "code",
   "execution_count": null,
   "id": "1571fd56",
   "metadata": {},
   "outputs": [],
   "source": []
  },
  {
   "cell_type": "code",
   "execution_count": null,
   "id": "b7fb620a",
   "metadata": {},
   "outputs": [],
   "source": [
    "matplotlib.pyplot.tripcolor(*args, alpha=1.0, norm=None, cmap=None, vmin=None, vmax=None, shading='flat', facecolors=None, **kwargs)[source]"
   ]
  },
  {
   "cell_type": "code",
   "execution_count": null,
   "id": "796af91b",
   "metadata": {},
   "outputs": [],
   "source": [
    "fig, ax = plt.subplots()\n",
    "\n",
    "x,y,_ = mesh.points.T\n",
    "faces = mesh.cells[0]\n",
    "\n",
    "color = mesh.cell_data['max_angle'][0]\n",
    "\n",
    "tpc = ax.tripcolor(x, y, color, triangles=faces)\n",
    "fig.colorbar(tpc)\n",
    "ax.axis('equal')"
   ]
  },
  {
   "cell_type": "code",
   "execution_count": null,
   "id": "6d7b1412",
   "metadata": {},
   "outputs": [],
   "source": []
  },
  {
   "cell_type": "code",
   "execution_count": null,
   "id": "a99d127b",
   "metadata": {},
   "outputs": [],
   "source": []
  },
  {
   "cell_type": "code",
   "execution_count": null,
   "id": "ffa9304e",
   "metadata": {},
   "outputs": [],
   "source": []
  },
  {
   "cell_type": "code",
   "execution_count": null,
   "id": "f27c108c",
   "metadata": {},
   "outputs": [],
   "source": []
  },
  {
   "cell_type": "code",
   "execution_count": null,
   "id": "609a71d7",
   "metadata": {},
   "outputs": [],
   "source": []
  },
  {
   "cell_type": "code",
   "execution_count": null,
   "id": "02047b45",
   "metadata": {},
   "outputs": [],
   "source": []
  },
  {
   "cell_type": "code",
   "execution_count": null,
   "id": "30105a03",
   "metadata": {},
   "outputs": [],
   "source": []
  },
  {
   "cell_type": "code",
   "execution_count": null,
   "id": "a3b1fe17",
   "metadata": {},
   "outputs": [],
   "source": [
    "mesh.write(\"mesh_x500_quality.msh\", file_format='gmsh22', binary=False)"
   ]
  }
 ],
 "metadata": {
  "kernelspec": {
   "display_name": "nanomesh",
   "language": "python",
   "name": "nanomesh"
  },
  "language_info": {
   "codemirror_mode": {
    "name": "ipython",
    "version": 3
   },
   "file_extension": ".py",
   "mimetype": "text/x-python",
   "name": "python",
   "nbconvert_exporter": "python",
   "pygments_lexer": "ipython3",
   "version": "3.8.10"
  }
 },
 "nbformat": 4,
 "nbformat_minor": 5
}
