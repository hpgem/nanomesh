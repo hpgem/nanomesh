{
 "cells": [
  {
   "cell_type": "code",
   "execution_count": null,
   "id": "957a427f",
   "metadata": {},
   "outputs": [],
   "source": [
    "%load_ext autoreload\n",
    "%autoreload 2\n",
    "%matplotlib notebook"
   ]
  },
  {
   "cell_type": "markdown",
   "id": "2348fc8b",
   "metadata": {},
   "source": [
    "## Padding a 2D mesh\n",
    "\n",
    "This notebook shows how to pad a 2D mesh."
   ]
  },
  {
   "cell_type": "code",
   "execution_count": null,
   "id": "3364b246",
   "metadata": {},
   "outputs": [],
   "source": [
    "from nanomesh.mesh_container import TriangleMesh\n",
    "\n",
    "mesh = TriangleMesh.read(filename='mesh.msh')\n",
    "\n",
    "# Third dimension was added for compatibility with gmsh2.2\n",
    "mesh.drop_third_dimension()\n",
    "\n",
    "mesh.plot()"
   ]
  },
  {
   "cell_type": "markdown",
   "id": "a24640fb",
   "metadata": {},
   "source": [
    "### Padding a mesh\n",
    "\n",
    "The `.pad` method pads an array on the defined side with triangles. The width, mesh quality, and label assigned to this this area can be defined.\n",
    "\n",
    "This example shows how to double pad the left and right sides with different triangle sizes for each step."
   ]
  },
  {
   "cell_type": "code",
   "execution_count": null,
   "id": "cfa1b7e8",
   "metadata": {},
   "outputs": [],
   "source": [
    "import copy\n",
    "\n",
    "padded_mesh = copy.copy(mesh)\n",
    "\n",
    "padded_mesh = padded_mesh.pad(side='left', width=20, opts='q30a100', label=3)\n",
    "padded_mesh = padded_mesh.pad(side='left', width=40, opts='q30a200', label=4)\n",
    "\n",
    "padded_mesh = padded_mesh.pad(side='right', width=20, opts='q30a100', label=3)\n",
    "padded_mesh = padded_mesh.pad(side='right', width=40, opts='q30a200', label=4)\n",
    "\n",
    "padded_mesh.plot()"
   ]
  },
  {
   "cell_type": "markdown",
   "id": "f28e0602",
   "metadata": {},
   "source": [
    "This pattern is infinitely extensible. The example below shows the flexibility of the method."
   ]
  },
  {
   "cell_type": "code",
   "execution_count": null,
   "id": "8b37b75c",
   "metadata": {},
   "outputs": [],
   "source": [
    "from itertools import cycle\n",
    "import numpy as np\n",
    "from nanomesh import simple_triangulate\n",
    "\n",
    "points = np.array([[0,0], [0,1], [1,1], [1,0]])\n",
    "spiral_mesh = simple_triangulate(points, opts='q30a0.1')\n",
    "\n",
    "choices = ('left', 'bottom', 'right', 'top')\n",
    "\n",
    "for i, side in zip(range(1, 50), cycle(choices)):\n",
    "    spiral_mesh = spiral_mesh.pad(side=side, width=i, opts=f'q30a{i*5}')\n",
    "\n",
    "spiral_mesh.plot()       "
   ]
  }
 ],
 "metadata": {
  "kernelspec": {
   "display_name": "nanomesh",
   "language": "python",
   "name": "nanomesh"
  },
  "language_info": {
   "codemirror_mode": {
    "name": "ipython",
    "version": 3
   },
   "file_extension": ".py",
   "mimetype": "text/x-python",
   "name": "python",
   "nbconvert_exporter": "python",
   "pygments_lexer": "ipython3",
   "version": "3.8.10"
  }
 },
 "nbformat": 4,
 "nbformat_minor": 5
}
