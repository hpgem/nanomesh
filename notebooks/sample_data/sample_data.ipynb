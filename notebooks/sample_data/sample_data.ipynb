{
 "cells": [
  {
   "cell_type": "code",
   "execution_count": null,
   "metadata": {},
   "outputs": [],
   "source": [
    "%load_ext autoreload\n",
    "%autoreload 2\n",
    "%matplotlib notebook"
   ]
  },
  {
   "cell_type": "code",
   "execution_count": null,
   "metadata": {},
   "outputs": [],
   "source": [
    "from nanomesh.volume import Volume\n",
    "import numpy as np\n",
    "from skimage import filters"
   ]
  },
  {
   "cell_type": "code",
   "execution_count": null,
   "metadata": {},
   "outputs": [],
   "source": [
    "vol = Volume.load('sample_data.npy')"
   ]
  },
  {
   "cell_type": "code",
   "execution_count": null,
   "metadata": {},
   "outputs": [],
   "source": [
    "vol.show_slice()"
   ]
  },
  {
   "cell_type": "code",
   "execution_count": null,
   "metadata": {},
   "outputs": [],
   "source": [
    "vol.show_volume(renderer='itk')"
   ]
  },
  {
   "cell_type": "code",
   "execution_count": null,
   "metadata": {},
   "outputs": [],
   "source": [
    "# vol.show_volume(renderer='ipyvolume')"
   ]
  },
  {
   "cell_type": "code",
   "execution_count": null,
   "metadata": {},
   "outputs": [],
   "source": [
    "vol_gauss = vol.apply(filters.gaussian, sigma=5.0)\n",
    "vol_gauss.show_slice(title='Gaussian filter')"
   ]
  },
  {
   "cell_type": "code",
   "execution_count": null,
   "metadata": {},
   "outputs": [],
   "source": [
    "def normalize_values(image):\n",
    "    return (image - image.min()) / (image.max() - image.min())\n",
    "\n",
    "thresh = 0.5\n",
    "\n",
    "inner = vol_gauss.apply(normalize_values)\n",
    "inner = inner.apply(np.digitize, bins=[thresh])\n",
    "inner.image = inner.image.astype('uint8')\n",
    "inner.show_slice(title='Inner regions')"
   ]
  },
  {
   "cell_type": "code",
   "execution_count": null,
   "metadata": {},
   "outputs": [],
   "source": [
    "inner_mesh = inner.generate_mesh_cgal(h=(1,1,1))\n",
    "inner_mesh"
   ]
  },
  {
   "cell_type": "code",
   "execution_count": null,
   "metadata": {},
   "outputs": [],
   "source": [
    "import pyvista as pv\n",
    "pv.plot_itk(inner_mesh)"
   ]
  },
  {
   "cell_type": "code",
   "execution_count": null,
   "metadata": {},
   "outputs": [],
   "source": [
    "import meshio\n",
    "meshio.write('inner.vtk',inner_mesh)"
   ]
  },
  {
   "cell_type": "code",
   "execution_count": null,
   "metadata": {},
   "outputs": [],
   "source": [
    "inner_mesh = pv.read('inner.vtk')\n",
    "\n",
    "bounds = [100,200,100,200,100,200]\n",
    "clipped = inner_mesh.clip_box(bounds)\n",
    "\n",
    "pv.set_plot_theme(\"document\")\n",
    "\n",
    "p = pv.Plotter(notebook=True)\n",
    "\n",
    "p.add_mesh(inner_mesh, style='wireframe', color='black')\n",
    "p.add_mesh(clipped,  color='lightgrey')\n",
    "p.show()"
   ]
  },
  {
   "cell_type": "code",
   "execution_count": null,
   "metadata": {},
   "outputs": [],
   "source": [
    "thresh1 = 0.55\n",
    "thresh2 = 0.45\n",
    "\n",
    "two_phase = vol_gauss.apply(normalize_values)\n",
    "two_phase = two_phase.apply(np.digitize, bins=[thresh1, thresh2])\n",
    "two_phase.image = two_phase.image.astype('uint8')\n",
    "two_phase.show_slice(title=\"Binary Thresholding\")"
   ]
  },
  {
   "cell_type": "code",
   "execution_count": null,
   "metadata": {},
   "outputs": [],
   "source": [
    "two_phase.show_volume(renderer='ipyvolume')"
   ]
  },
  {
   "cell_type": "code",
   "execution_count": null,
   "metadata": {},
   "outputs": [],
   "source": [
    "two_phase_mesh = two_phase.generate_mesh_cgal()"
   ]
  },
  {
   "cell_type": "code",
   "execution_count": null,
   "metadata": {},
   "outputs": [],
   "source": [
    "pv.plot_itk(two_phase_mesh)"
   ]
  },
  {
   "cell_type": "code",
   "execution_count": null,
   "metadata": {},
   "outputs": [],
   "source": [
    "import meshio\n",
    "meshio.write('twophase.vtk', two_phase_mesh)"
   ]
  },
  {
   "cell_type": "code",
   "execution_count": null,
   "metadata": {},
   "outputs": [],
   "source": [
    "mesh = pv.read('twophase.vtk')\n",
    "\n",
    "bounds = [100,200,100,200,100,200]\n",
    "clipped = mesh.clip_box(bounds)\n",
    "pv.set_plot_theme(\"document\")\n",
    "\n",
    "p = pv.Plotter(notebook=True)\n",
    "p.add_mesh(mesh, style='wireframe', color='black')\n",
    "p.add_mesh(clipped)\n",
    "p.show(use_ipyvtk=False)"
   ]
  },
  {
   "cell_type": "code",
   "execution_count": null,
   "metadata": {},
   "outputs": [],
   "source": []
  }
 ],
 "metadata": {
  "kernelspec": {
   "display_name": "nanomesh",
   "language": "python",
   "name": "nanomesh"
  },
  "language_info": {
   "codemirror_mode": {
    "name": "ipython",
    "version": 3
   },
   "file_extension": ".py",
   "mimetype": "text/x-python",
   "name": "python",
   "nbconvert_exporter": "python",
   "pygments_lexer": "ipython3",
   "version": "3.8.0"
  }
 },
 "nbformat": 4,
 "nbformat_minor": 4
}
