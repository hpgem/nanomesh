{
 "cells": [
  {
   "cell_type": "code",
   "execution_count": null,
   "metadata": {},
   "outputs": [],
   "source": [
    "%load_ext autoreload\n",
    "%autoreload 2\n",
    "%matplotlib ipympl"
   ]
  },
  {
   "cell_type": "markdown",
   "metadata": {},
   "source": [
    "## 3D meshing example\n",
    "\n",
    "This notebook shows how to\n",
    "\n",
    "1. Load and visualize a volume\n",
    "1. Apply image filters to and segment image\n",
    "1. Generate a 3D surface mesh from the binary image\n",
    "1. Decimate/simplify a 3D mesh\n",
    "1. Visualize and save the mesh to gmsh22 format\n",
    "\n",
    "### Todo:\n",
    "\n",
    "- Generate 3D volume mesh\n",
    "- Surface mesh must be 'watertight'\n",
    "- Constrained Delaunay triangulation to fix surface (do not go outside surface), i.e.\n",
    "https://notebook.community/daniel-koehn/Theory-of-seismic-waves-II/02_Mesh_generation/4_Tri_mesh_delaunay_yigma_tepe,\n",
    "https://wias-berlin.de/software/tetgen/1.5/doc/manual/manual002.html#sec7\n",
    "- For padding, keep tetrahedron if one of the points is inside the boundaries"
   ]
  },
  {
   "cell_type": "code",
   "execution_count": null,
   "metadata": {},
   "outputs": [],
   "source": [
    "from nanomesh.volume import Volume\n",
    "import pyvista as pv\n",
    "from skimage import filters"
   ]
  },
  {
   "cell_type": "code",
   "execution_count": null,
   "metadata": {},
   "outputs": [],
   "source": [
    "vol = Volume.load('sample_data.npy')\n",
    "vol_gauss = vol.apply(filters.gaussian, sigma=5)\n",
    "thresh = filters.threshold_li(vol_gauss.image)\n",
    "\n",
    "seg_vol = Volume(1.0 * (vol_gauss.image >= thresh))\n",
    "seg_vol.show_slice()"
   ]
  },
  {
   "cell_type": "markdown",
   "metadata": {},
   "source": [
    "### Generate 3d tetragonal mesh"
   ]
  },
  {
   "cell_type": "code",
   "execution_count": null,
   "metadata": {},
   "outputs": [],
   "source": [
    "from nanomesh.mesh3d import generate_3d_mesh\n",
    "\n",
    "mesh = generate_3d_mesh(\n",
    "    seg_vol.image,\n",
    "    pad_width=20,\n",
    "    point_density=1/10000,\n",
    "    step_size=2,\n",
    "    res_kmeans=2.0,\n",
    ")\n",
    "\n",
    "pv.plot_itk(mesh)"
   ]
  },
  {
   "cell_type": "code",
   "execution_count": null,
   "metadata": {},
   "outputs": [],
   "source": [
    "from nanomesh.mesh3d import show_submesh\n",
    "from nanomesh.mesh_utils import meshio_to_polydata\n",
    "\n",
    "grid = meshio_to_polydata(mesh)\n",
    "show_submesh(grid, index=100)"
   ]
  },
  {
   "cell_type": "code",
   "execution_count": null,
   "metadata": {},
   "outputs": [],
   "source": []
  }
 ],
 "metadata": {
  "kernelspec": {
   "display_name": "nanomesh",
   "language": "python",
   "name": "nanomesh"
  },
  "language_info": {
   "codemirror_mode": {
    "name": "ipython",
    "version": 3
   },
   "file_extension": ".py",
   "mimetype": "text/x-python",
   "name": "python",
   "nbconvert_exporter": "python",
   "pygments_lexer": "ipython3",
   "version": "3.8.8"
  }
 },
 "nbformat": 4,
 "nbformat_minor": 4
}
