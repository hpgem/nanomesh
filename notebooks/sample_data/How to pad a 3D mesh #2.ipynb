{
 "cells": [
  {
   "cell_type": "code",
   "execution_count": null,
   "id": "957a427f",
   "metadata": {},
   "outputs": [],
   "source": [
    "%load_ext autoreload\n",
    "%autoreload 2\n",
    "%matplotlib notebook"
   ]
  },
  {
   "cell_type": "markdown",
   "id": "2348fc8b",
   "metadata": {},
   "source": [
    "## Padding a 3D mesh\n",
    "\n",
    "This notebook shows how to pad a 3D mesh."
   ]
  },
  {
   "cell_type": "code",
   "execution_count": null,
   "id": "3364b246",
   "metadata": {},
   "outputs": [],
   "source": [
    "import numpy as np\n",
    "from nanomesh import Volume\n",
    "\n",
    "n = 24\n",
    "m = 12\n",
    "\n",
    "data = np.ones([2*n, 5*n, 3*n], dtype=int)\n",
    "data[m:3*m, m:3*m, 0:3*n] = 0\n",
    "\n",
    "print(data.shape)\n",
    "\n",
    "vol = Volume(data)\n",
    "vol.show_slice()\n",
    "\n",
    "# generate contours\n",
    "from nanomesh.mesh3d import Mesher3D\n",
    "\n",
    "mesher = Mesher3D(vol)\n",
    "mesher.generate_contour()\n",
    "\n",
    "contour = mesher.contour"
   ]
  },
  {
   "cell_type": "markdown",
   "id": "a24640fb",
   "metadata": {},
   "source": [
    "### Padding a mesh\n",
    "\n",
    "First step is to create a bounding box for the padded area (below)."
   ]
  },
  {
   "cell_type": "code",
   "execution_count": null,
   "id": "64c17b6d",
   "metadata": {},
   "outputs": [],
   "source": [
    "from itertools import tee\n",
    "def pairwise(iterable):\n",
    "    \"s -> (s0,s1), (s1,s2), (s2, s3), ...\"\n",
    "    a, b = tee(iterable)\n",
    "    next(b, None)\n",
    "    return zip(a, b)"
   ]
  },
  {
   "cell_type": "code",
   "execution_count": null,
   "id": "cfa1b7e8",
   "metadata": {},
   "outputs": [],
   "source": [
    "import copy\n",
    "from nanomesh.mesh_utils_3d import pad3d\n",
    "from nanomesh.mesh3d import close_side, BoundingBox\n",
    "\n",
    "pad_side = 'back'\n",
    "\n",
    "contour2 = copy.copy(contour)\n",
    "\n",
    "edge_col, edge_value, extra_coords = pad3d(contour2, side=pad_side, width=20, opts='-pAq1.2 -a100', label=3)\n",
    "\n",
    "n_points = len(contour2.points)\n",
    "points = np.vstack([contour2.points, extra_coords])\n",
    "\n",
    "new_triangles = []\n",
    "\n",
    "cols = {\n",
    "    'top': (0,1,1,0),\n",
    "    'bottom': (0,1,1,0),\n",
    "    'left': (0,2,2,0),\n",
    "    'right': (0,2,2,0),\n",
    "    'front': (1,2,2,1),\n",
    "    'back': (1,2,2,1),\n",
    "}[pad_side]\n",
    "\n",
    "for corner, col in zip(extra_coords, cols):\n",
    "    connect_to = np.argwhere(\n",
    "        (points[:, edge_col] == edge_value) & \n",
    "        (points[:,col] == corner[col])\n",
    "    )\n",
    "    \n",
    "    additional_points = np.argwhere(extra_coords[:,col] == corner[col]) + n_points\n",
    "   \n",
    "    first, last = additional_points    \n",
    "    first_point = points[first]    \n",
    "\n",
    "    sorted_by_distance = np.argsort(np.linalg.norm(first_point - points[connect_to].squeeze(), axis=1))\n",
    "    connect_to = connect_to[sorted_by_distance]\n",
    "    connect_to = np.vstack([connect_to, last])\n",
    "\n",
    "    for pair in pairwise(connect_to):\n",
    "        tri = np.vstack((first, pair))\n",
    "        new_triangles.append(tri)\n",
    "\n",
    "new_triangles = np.array(new_triangles).squeeze()\n",
    "\n",
    "cells = np.vstack([contour2.cells, new_triangles])"
   ]
  },
  {
   "cell_type": "code",
   "execution_count": null,
   "id": "6714f74b",
   "metadata": {},
   "outputs": [],
   "source": [
    "from nanomesh.mesh_container import TriangleMesh\n",
    "padded_mesh = TriangleMesh(points=points, cells=cells)\n",
    "\n",
    "padded_mesh.plot_itk()"
   ]
  },
  {
   "cell_type": "code",
   "execution_count": null,
   "id": "4ed5538f",
   "metadata": {},
   "outputs": [],
   "source": []
  },
  {
   "cell_type": "code",
   "execution_count": null,
   "id": "1014fbb5",
   "metadata": {},
   "outputs": [],
   "source": []
  },
  {
   "cell_type": "code",
   "execution_count": null,
   "id": "be9f3e5e",
   "metadata": {},
   "outputs": [],
   "source": []
  },
  {
   "cell_type": "code",
   "execution_count": null,
   "id": "e6e5bd95",
   "metadata": {},
   "outputs": [],
   "source": [
    "np.arange(25).reshape(5,5).size"
   ]
  },
  {
   "cell_type": "code",
   "execution_count": null,
   "id": "39004076",
   "metadata": {},
   "outputs": [],
   "source": [
    "from nanomesh.mesh_utils import simple_triangulate\n",
    "\n",
    "\n",
    "simple_triangulate(points=points)\n"
   ]
  },
  {
   "cell_type": "code",
   "execution_count": null,
   "id": "3f109835",
   "metadata": {},
   "outputs": [],
   "source": [
    "np.argwhere(extra_coords[:,col] == corner[col]) + n_points"
   ]
  },
  {
   "cell_type": "code",
   "execution_count": null,
   "id": "e86f8c62",
   "metadata": {},
   "outputs": [],
   "source": [
    "(points[:, edge_col] == edge_value)"
   ]
  },
  {
   "cell_type": "code",
   "execution_count": null,
   "id": "522397be",
   "metadata": {},
   "outputs": [],
   "source": [
    "(points[:,col] == corner[col])"
   ]
  },
  {
   "cell_type": "code",
   "execution_count": null,
   "id": "d33223b9",
   "metadata": {},
   "outputs": [],
   "source": [
    "\n",
    "\n",
    "\n",
    "coords, is_edge = pad3d(padded_mesh, side=pad_side, width=20, opts='-pAq1.2 -a100', label=3)\n",
    "\n",
    "# bounding box for padded area\n",
    "bbox = BoundingBox.from_points(coords)\n",
    "\n",
    "# get consistent set of points / cells for padded area\n",
    "edge_indices = np.argwhere(is_edge).flatten()\n",
    "\n",
    "has_point_on_edge = np.isin(tetras.cells, edge_indices)\n",
    "has_face_on_edge = np.sum(has_point_on_edge, axis=1)==3\n",
    "\n",
    "print(edge_indices.shape)\n",
    "print(has_point_on_edge.shape)\n",
    "print(has_face_on_edge.shape)\n",
    "\n",
    "edge_surface_triangles = tetras.cells[has_face_on_edge][has_point_on_edge[has_face_on_edge]].reshape(-1,3)\n",
    "\n",
    "print(edge_surface_triangles.shape)\n",
    "\n",
    "# assert that all triangles have the same z value.\n",
    "assert np.all(tetras.points[edge_surface_triangles][:,:,2].flatten() == 71)\n",
    "\n",
    "unq_arr, unq_tags = np.unique(edge_surface_triangles, return_inverse=1)\n",
    "\n",
    "relabeled = np.argsort(unq_arr)[unq_tags].reshape(-1,3)\n",
    "relabeled\n",
    "\n",
    "# Generate triangle mesh corresponding to specified side, \n",
    "# TODO: refactor this into function, i.e.\n",
    "# def extract_side(mesh, side='top'):\n",
    "#     pass\n",
    "from nanomesh.mesh_container import TriangleMesh\n",
    "side_mesh = TriangleMesh(points=coords, cells=relabeled)\n",
    "# side_mesh.drop_third_dimension()\n",
    "# side_mesh.plot()\n",
    "\n",
    "sides = 'top', 'bottom', 'left', 'right', 'front', 'back'\n",
    "for side in sides:\n",
    "    if side == pad_side:\n",
    "        continue\n",
    "    \n",
    "    side_mesh = close_side(side_mesh, side=side, bbox=bbox)\n",
    "\n",
    "side_mesh.plot_itk()"
   ]
  },
  {
   "cell_type": "markdown",
   "id": "db09af47",
   "metadata": {},
   "source": [
    "### Tetrahedralize mesh\n",
    "\n",
    "This seems to work. Ensure that points/tetrahedras have the same labeling as in the triangle mesh above."
   ]
  },
  {
   "cell_type": "code",
   "execution_count": null,
   "id": "76fc8c52",
   "metadata": {},
   "outputs": [],
   "source": [
    "vol_mesh = side_mesh.tetrahedralize()\n",
    "vol_mesh.plot_itk()"
   ]
  },
  {
   "cell_type": "markdown",
   "id": "e4b7f49f",
   "metadata": {},
   "source": [
    "### Next step: merge meshes back"
   ]
  },
  {
   "cell_type": "code",
   "execution_count": null,
   "id": "ca13c7b6",
   "metadata": {},
   "outputs": [],
   "source": [
    "# tetramesh\n",
    "tetras = mesher.tetrahedralize(opts='-pAq1.2 -a100')\n",
    "tetras.metadata['labels'] = tetras.metadata['tetgenRef']\n",
    "tetras.plot_pyvista(jupyter_backend='static', show_edges=True)  # Use .plot_itk() for an interactive view "
   ]
  }
 ],
 "metadata": {
  "kernelspec": {
   "display_name": "nanomesh",
   "language": "python",
   "name": "nanomesh"
  },
  "language_info": {
   "codemirror_mode": {
    "name": "ipython",
    "version": 3
   },
   "file_extension": ".py",
   "mimetype": "text/x-python",
   "name": "python",
   "nbconvert_exporter": "python",
   "pygments_lexer": "ipython3",
   "version": "3.8.10"
  }
 },
 "nbformat": 4,
 "nbformat_minor": 5
}
