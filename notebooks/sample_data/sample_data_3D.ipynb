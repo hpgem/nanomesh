{
 "cells": [
  {
   "cell_type": "code",
   "execution_count": 2,
   "metadata": {},
   "outputs": [],
   "source": [
    "%load_ext autoreload\n",
    "%autoreload 2\n",
    "%matplotlib ipympl"
   ]
  },
  {
   "cell_type": "markdown",
   "metadata": {},
   "source": [
    "## 3D meshing example\n",
    "\n",
    "This notebook shows how to\n",
    "\n",
    "1. Load and visualize a volume\n",
    "1. Apply image filters to and segment image\n",
    "1. Generate a 3D surface mesh from the binary image\n",
    "1. Decimate/simplify a 3D mesh\n",
    "1. Visualize and save the mesh to gmsh22 format\n",
    "\n",
    "### Todo:\n",
    "\n",
    "- Generate 3D volume mesh\n",
    "- Surface mesh must be 'watertight'\n",
    "- Constrained Delaunay triangulation to fix surface (do not go outside surface), i.e.\n",
    "https://notebook.community/daniel-koehn/Theory-of-seismic-waves-II/02_Mesh_generation/4_Tri_mesh_delaunay_yigma_tepe,\n",
    "https://wias-berlin.de/software/tetgen/1.5/doc/manual/manual002.html#sec7"
   ]
  },
  {
   "cell_type": "code",
   "execution_count": 3,
   "metadata": {},
   "outputs": [],
   "source": [
    "from nanomesh.volume import Volume\n",
    "import pyvista as pv\n",
    "from skimage import filters"
   ]
  },
  {
   "cell_type": "code",
   "execution_count": 4,
   "metadata": {},
   "outputs": [
    {
     "data": {
      "application/vnd.jupyter.widget-view+json": {
       "model_id": "b9967d28856c4cc4927b4cd6ad5a7828",
       "version_major": 2,
       "version_minor": 0
      },
      "text/plain": [
       "Canvas(toolbar=Toolbar(toolitems=[('Home', 'Reset original view', 'home', 'home'), ('Back', 'Back to previous …"
      ]
     },
     "metadata": {},
     "output_type": "display_data"
    },
    {
     "data": {
      "application/vnd.jupyter.widget-view+json": {
       "model_id": "01d5bfe457194f4db75f77df735082db",
       "version_major": 2,
       "version_minor": 0
      },
      "text/plain": [
       "interactive(children=(IntSlider(value=0, description='index', max=199), Dropdown(description='along', options=…"
      ]
     },
     "metadata": {},
     "output_type": "display_data"
    },
    {
     "data": {
      "text/plain": [
       "<nanomesh.utils.SliceViewer at 0x21feb463550>"
      ]
     },
     "execution_count": 4,
     "metadata": {},
     "output_type": "execute_result"
    }
   ],
   "source": [
    "vol = Volume.load('sample_data.npy')\n",
    "vol_gauss = vol.apply(filters.gaussian, sigma=5)\n",
    "thresh = filters.threshold_li(vol_gauss.image)\n",
    "\n",
    "seg_vol = Volume(1.0 * (vol_gauss.image >= thresh))\n",
    "seg_vol.show_slice()"
   ]
  },
  {
   "cell_type": "markdown",
   "metadata": {},
   "source": [
    "### Generate 3d tetragonal mesh"
   ]
  },
  {
   "cell_type": "code",
   "execution_count": 6,
   "metadata": {},
   "outputs": [],
   "source": [
    "import numpy as np\n",
    "\n",
    "def simplify_mesh_trimesh(vertices, faces, n_faces):\n",
    "    \"\"\"Simplify mesh using trimesh.\"\"\"\n",
    "    import trimesh\n",
    "    mesh = trimesh.Trimesh(vertices=verts, faces=faces)\n",
    "    decimated = mesh.simplify_quadratic_decimation(n_faces)\n",
    "    return decimated\n",
    "\n",
    "def simplify_mesh_open3d(vertices: np.ndarray, faces: np.ndarray, n_faces):\n",
    "    \"\"\"Simplify mesh using open3d.\"\"\"\n",
    "    import open3d\n",
    "    o3d_verts = open3d.utility.Vector3dVector(vertices)\n",
    "    o3d_faces = open3d.utility.Vector3iVector(faces)\n",
    "    o3d_mesh = open3d.geometry.TriangleMesh(o3d_verts, o3d_faces)\n",
    "\n",
    "    o3d_new_mesh = o3d_mesh.simplify_quadric_decimation(n_faces)\n",
    "    \n",
    "    new_verts = np.array(o3d_new_mesh.vertices)\n",
    "    new_faces = np.array(o3d_new_mesh.triangles)\n",
    "    \n",
    "    decimated = meshio.Mesh(points=new_verts, cells=[('triangle', new_faces)])\n",
    "    return decimated"
   ]
  },
  {
   "cell_type": "code",
   "execution_count": 11,
   "metadata": {},
   "outputs": [
    {
     "ename": "NameError",
     "evalue": "name 'cell_center' is not defined",
     "output_type": "error",
     "traceback": [
      "\u001b[1;31m---------------------------------------------------------------------------\u001b[0m",
      "\u001b[1;31mNameError\u001b[0m                                 Traceback (most recent call last)",
      "\u001b[1;32m<ipython-input-11-7b413bb860d1>\u001b[0m in \u001b[0;36m<module>\u001b[1;34m\u001b[0m\n\u001b[0;32m     44\u001b[0m \u001b[1;33m\u001b[0m\u001b[0m\n\u001b[0;32m     45\u001b[0m \u001b[1;33m\u001b[0m\u001b[0m\n\u001b[1;32m---> 46\u001b[1;33m \u001b[0mmask\u001b[0m \u001b[1;33m=\u001b[0m \u001b[0mimage\u001b[0m\u001b[1;33m[\u001b[0m\u001b[0mtuple\u001b[0m\u001b[1;33m(\u001b[0m\u001b[0mcell_center\u001b[0m\u001b[1;33m.\u001b[0m\u001b[0mastype\u001b[0m\u001b[1;33m(\u001b[0m\u001b[0mint\u001b[0m\u001b[1;33m)\u001b[0m\u001b[1;33m.\u001b[0m\u001b[0mT\u001b[0m\u001b[1;33m)\u001b[0m\u001b[1;33m]\u001b[0m \u001b[1;33m==\u001b[0m \u001b[1;36m0\u001b[0m\u001b[1;33m\u001b[0m\u001b[1;33m\u001b[0m\u001b[0m\n\u001b[0m\u001b[0;32m     47\u001b[0m \u001b[0mcell_ind\u001b[0m \u001b[1;33m=\u001b[0m \u001b[0mmask\u001b[0m\u001b[1;33m.\u001b[0m\u001b[0mnonzero\u001b[0m\u001b[1;33m(\u001b[0m\u001b[1;33m)\u001b[0m\u001b[1;33m[\u001b[0m\u001b[1;36m0\u001b[0m\u001b[1;33m]\u001b[0m\u001b[1;33m\u001b[0m\u001b[1;33m\u001b[0m\u001b[0m\n\u001b[0;32m     48\u001b[0m \u001b[0msubgrid\u001b[0m \u001b[1;33m=\u001b[0m \u001b[0mgrid\u001b[0m\u001b[1;33m.\u001b[0m\u001b[0mextract_cells\u001b[0m\u001b[1;33m(\u001b[0m\u001b[0mcell_ind\u001b[0m\u001b[1;33m)\u001b[0m\u001b[1;33m\u001b[0m\u001b[1;33m\u001b[0m\u001b[0m\n",
      "\u001b[1;31mNameError\u001b[0m: name 'cell_center' is not defined"
     ]
    }
   ],
   "source": [
    "from skimage import measure\n",
    "from scipy.spatial import Delaunay\n",
    "\n",
    "image = seg_vol.image\n",
    "\n",
    "point_density = False\n",
    "pad = False\n",
    "\n",
    "plot = False\n",
    "\n",
    "if point_density:\n",
    "    # grid_points = add_points_grid(image, border=5)\n",
    "    n_points1 = int(np.sum(image == 1) * point_density)\n",
    "    grid_points = add_points_kmeans(image, iters=20, n_points=n_points1)\n",
    "    points.append(grid_points)\n",
    "\n",
    "    # adding points to holes helps to get a cleaner result\n",
    "    n_points0 = int(np.sum(image == 0) * point_density)\n",
    "    grid_points = add_points_kmeans(1 - image,\n",
    "                                    iters=20,\n",
    "                                    n_points=n_points0)\n",
    "    points.append(grid_points)\n",
    "\n",
    "if pad:\n",
    "    n_points_edge = (np.array(image.shape) *\n",
    "                     (point_density**0.5)).astype(int)\n",
    "    pad_points = add_edge_points(image, n_points=n_points_edge)\n",
    "    points.append(pad_points)\n",
    "    # image = np.pad(image, 1, constant_values=0)\n",
    "\n",
    "\n",
    "# vers = contours\n",
    "verts, faces, normals, values = measure.marching_cubes(\n",
    "    image, \n",
    "    allow_degenerate=False,\n",
    "    step_size=5,\n",
    ")\n",
    "\n",
    "mesh = simplify_mesh_trimesh(vertices=verts, faces=faces, n_faces=5000)\n",
    "points = mesh.vertices\n",
    "\n",
    "d = Delaunay(points, incremental=False)\n",
    "\n",
    "\n",
    "\n",
    "mask = image[tuple(cell_center.astype(int).T)] == 0\n",
    "cell_ind = mask.nonzero()[0]\n",
    "subgrid = grid.extract_cells(cell_ind)\n",
    "\n",
    "plotter = pv.PlotterITK()\n",
    "plotter.add_mesh(subgrid)\n",
    "plotter.show()\n",
    "\n",
    "\n",
    "\n",
    "\n",
    "tri_x, tri_y, tri_z = triangles.T\n",
    "centers = (points[tri_x] + points[tri_y] + points[tri_z]) / 3\n",
    "mask = image[tuple(centers.astype(int).T)] == 0\n",
    "\n",
    "if plot:\n",
    "    plot_mesh_steps(\n",
    "        image=image,\n",
    "        contours=contours,\n",
    "        points=points,\n",
    "        triangles=triangles,\n",
    "        mask=mask,\n",
    "    )\n",
    "\n",
    "cells = [\n",
    "    ('triangle', triangles[~mask]),\n",
    "]\n",
    "\n",
    "mesh = meshio.Mesh(points, cells)\n",
    "mesh.remove_orphaned_nodes()\n",
    "\n",
    "return mesh"
   ]
  },
  {
   "cell_type": "code",
   "execution_count": 15,
   "metadata": {},
   "outputs": [
    {
     "data": {
      "text/plain": [
       "<trimesh.Trimesh(vertices.shape=(2624, 3), faces.shape=(5000, 3))>"
      ]
     },
     "execution_count": 15,
     "metadata": {},
     "output_type": "execute_result"
    }
   ],
   "source": [
    "mesh"
   ]
  },
  {
   "cell_type": "code",
   "execution_count": 97,
   "metadata": {},
   "outputs": [
    {
     "data": {
      "text/plain": [
       "(16578, (16578,))"
      ]
     },
     "execution_count": 97,
     "metadata": {},
     "output_type": "execute_result"
    }
   ],
   "source": [
    "d.simplices"
   ]
  },
  {
   "cell_type": "code",
   "execution_count": 91,
   "metadata": {},
   "outputs": [
    {
     "data": {
      "application/vnd.jupyter.widget-view+json": {
       "model_id": "e0f4ea3b4701484388bbbe407a35a74d",
       "version_major": 2,
       "version_minor": 0
      },
      "text/plain": [
       "Viewer(geometries=[{'vtkClass': 'vtkPolyData', 'points': {'vtkClass': 'vtkPoints', 'name': '_points', 'numberO…"
      ]
     },
     "metadata": {},
     "output_type": "display_data"
    },
    {
     "data": {
      "application/vnd.jupyter.widget-view+json": {
       "model_id": "e0f4ea3b4701484388bbbe407a35a74d",
       "version_major": 2,
       "version_minor": 0
      },
      "text/plain": [
       "Viewer(geometries=[{'vtkClass': 'vtkPolyData', 'points': {'vtkClass': 'vtkPoints', 'name': '_points', 'numberO…"
      ]
     },
     "metadata": {},
     "output_type": "display_data"
    }
   ],
   "source": [
    "pv.plot_itk(mesh)"
   ]
  },
  {
   "cell_type": "code",
   "execution_count": null,
   "metadata": {},
   "outputs": [],
   "source": []
  },
  {
   "cell_type": "code",
   "execution_count": null,
   "metadata": {},
   "outputs": [],
   "source": []
  },
  {
   "cell_type": "code",
   "execution_count": null,
   "metadata": {},
   "outputs": [],
   "source": []
  },
  {
   "cell_type": "code",
   "execution_count": null,
   "metadata": {},
   "outputs": [],
   "source": []
  },
  {
   "cell_type": "markdown",
   "metadata": {},
   "source": [
    "### Pad array to create boundary"
   ]
  },
  {
   "cell_type": "code",
   "execution_count": 48,
   "metadata": {},
   "outputs": [],
   "source": [
    "seg_pad_vol = seg_vol.apply(\n",
    "    np.pad,                           \n",
    "    pad_width=1,\n",
    "    constant_values=0,\n",
    ")"
   ]
  },
  {
   "cell_type": "code",
   "execution_count": 52,
   "metadata": {},
   "outputs": [
    {
     "name": "stdout",
     "output_type": "stream",
     "text": [
      "verts: 735211\n",
      "faces: 1470758\n"
     ]
    }
   ],
   "source": [
    "from skimage import measure\n",
    "\n",
    "verts, faces, normals, values = measure.marching_cubes(\n",
    "    seg_pad_vol.image, \n",
    "    allow_degenerate=False,\n",
    "    step_size=1,\n",
    ")\n",
    "\n",
    "print(f'verts: {verts.shape[0]}\\nfaces: {faces.shape[0]}')"
   ]
  },
  {
   "cell_type": "code",
   "execution_count": 53,
   "metadata": {},
   "outputs": [
    {
     "data": {
      "application/vnd.jupyter.widget-view+json": {
       "model_id": "f2e57f4e657c416a8b6936ac84415aa6",
       "version_major": 2,
       "version_minor": 0
      },
      "text/plain": [
       "Viewer(geometries=[{'vtkClass': 'vtkPolyData', 'points': {'vtkClass': 'vtkPoints', 'name': '_points', 'numberO…"
      ]
     },
     "metadata": {},
     "output_type": "display_data"
    },
    {
     "data": {
      "application/vnd.jupyter.widget-view+json": {
       "model_id": "f2e57f4e657c416a8b6936ac84415aa6",
       "version_major": 2,
       "version_minor": 0
      },
      "text/plain": [
       "Viewer(geometries=[{'vtkClass': 'vtkPolyData', 'points': {'vtkClass': 'vtkPoints', 'name': '_points', 'numberO…"
      ]
     },
     "metadata": {},
     "output_type": "display_data"
    }
   ],
   "source": [
    "import meshio\n",
    "mesh = meshio.Mesh(points=verts, cells=[('triangle', faces)])\n",
    "\n",
    "import pyvista as pv\n",
    "pv.plot_itk(mesh)"
   ]
  },
  {
   "cell_type": "code",
   "execution_count": 12,
   "metadata": {},
   "outputs": [],
   "source": [
    "import numpy as np\n",
    "\n",
    "\n",
    "def decimate_mesh(vertices: np.ndarray, faces: np.ndarray, factor):\n",
    "    import open3d\n",
    "    o3d_verts = open3d.utility.Vector3dVector(vertices)\n",
    "    o3d_faces = open3d.utility.Vector3iVector(faces)\n",
    "    o3d_mesh = open3d.geometry.TriangleMesh(o3d_verts, o3d_faces)\n",
    "\n",
    "    n_target_triangles = int(len(faces) * factor)\n",
    "    o3d_new_mesh = o3d_mesh.simplify_quadric_decimation(n_target_triangles)\n",
    "    \n",
    "    return np.array(o3d_new_mesh.vertices), np.array(o3d_new_mesh.triangles)\n",
    "\n",
    "verts_dec, faces_dec = decimate_mesh(verts, faces, 0.01)\n",
    "decimated_mesh = meshio.Mesh(points=verts_dec, cells=[('triangle', faces_dec)])"
   ]
  },
  {
   "cell_type": "code",
   "execution_count": 54,
   "metadata": {},
   "outputs": [
    {
     "name": "stdout",
     "output_type": "stream",
     "text": [
      "<meshio mesh object>\n",
      "  Number of points: 8715\n",
      "  Number of cells:\n",
      "    triangle: 14706\n"
     ]
    },
    {
     "data": {
      "application/vnd.jupyter.widget-view+json": {
       "model_id": "1b8452fe1eac4a51bffa0612bc614d8d",
       "version_major": 2,
       "version_minor": 0
      },
      "text/plain": [
       "Viewer(geometries=[{'vtkClass': 'vtkPolyData', 'points': {'vtkClass': 'vtkPoints', 'name': '_points', 'numberO…"
      ]
     },
     "metadata": {},
     "output_type": "display_data"
    },
    {
     "data": {
      "application/vnd.jupyter.widget-view+json": {
       "model_id": "1b8452fe1eac4a51bffa0612bc614d8d",
       "version_major": 2,
       "version_minor": 0
      },
      "text/plain": [
       "Viewer(geometries=[{'vtkClass': 'vtkPolyData', 'points': {'vtkClass': 'vtkPoints', 'name': '_points', 'numberO…"
      ]
     },
     "metadata": {},
     "output_type": "display_data"
    }
   ],
   "source": [
    "decimated_mesh = simplify_mesh_open3d(verts, faces, 5000)\n",
    "\n",
    "print(decimated_mesh)\n",
    "\n",
    "import pyvista as pv\n",
    "pv.plot_itk(decimated_mesh)"
   ]
  },
  {
   "cell_type": "code",
   "execution_count": 84,
   "metadata": {},
   "outputs": [
    {
     "name": "stdout",
     "output_type": "stream",
     "text": [
      "<trimesh.Trimesh(vertices.shape=(5605, 3), faces.shape=(11544, 3))>\n"
     ]
    },
    {
     "data": {
      "application/vnd.jupyter.widget-view+json": {
       "model_id": "9162980043a94a96b3454cdc17ba1451",
       "version_major": 2,
       "version_minor": 0
      },
      "text/plain": [
       "Viewer(geometries=[{'vtkClass': 'vtkPolyData', 'points': {'vtkClass': 'vtkPoints', 'name': '_points', 'numberO…"
      ]
     },
     "metadata": {},
     "output_type": "display_data"
    },
    {
     "data": {
      "application/vnd.jupyter.widget-view+json": {
       "model_id": "9162980043a94a96b3454cdc17ba1451",
       "version_major": 2,
       "version_minor": 0
      },
      "text/plain": [
       "Viewer(geometries=[{'vtkClass': 'vtkPolyData', 'points': {'vtkClass': 'vtkPoints', 'name': '_points', 'numberO…"
      ]
     },
     "metadata": {},
     "output_type": "display_data"
    }
   ],
   "source": [
    "import trimesh\n",
    "mesh3 = trimesh.Trimesh(vertices=verts, faces=faces)\n",
    "\n",
    "decimated_mesh3 = mesh3.simplify_quadratic_decimation(11544)\n",
    "\n",
    "print(decimated_mesh3)\n",
    "\n",
    "pv.plot_itk(decimated_mesh3)"
   ]
  },
  {
   "cell_type": "code",
   "execution_count": 15,
   "metadata": {},
   "outputs": [],
   "source": [
    "## Crashes\n",
    "# from quad_mesh_simplify import simplify_mesh\n",
    "\n",
    "# node_target = 6622\n",
    "# simplified = simplify_mesh(np.array(mesh3.vertices),\n",
    "#                        np.array(mesh3.faces, dtype=np.uint32),\n",
    "#                        node_target)\n",
    "# decimated = trimesh.Trimesh(vertices=simplified[0], faces=simplified[1])\n",
    "\n",
    "# print(decimated)\n",
    "\n",
    "# pv.plot_itk(decimated)"
   ]
  },
  {
   "cell_type": "markdown",
   "metadata": {},
   "source": [
    "## "
   ]
  },
  {
   "cell_type": "markdown",
   "metadata": {},
   "source": [
    "### Generating volumetric / tetragonal mesh"
   ]
  },
  {
   "cell_type": "code",
   "execution_count": 56,
   "metadata": {},
   "outputs": [
    {
     "data": {
      "application/vnd.jupyter.widget-view+json": {
       "model_id": "a0633afa0a1748809abb0801df64f53b",
       "version_major": 2,
       "version_minor": 0
      },
      "text/plain": [
       "Viewer(geometries=[{'vtkClass': 'vtkPolyData', 'points': {'vtkClass': 'vtkPoints', 'name': '_points', 'numberO…"
      ]
     },
     "metadata": {},
     "output_type": "display_data"
    },
    {
     "data": {
      "application/vnd.jupyter.widget-view+json": {
       "model_id": "a0633afa0a1748809abb0801df64f53b",
       "version_major": 2,
       "version_minor": 0
      },
      "text/plain": [
       "Viewer(geometries=[{'vtkClass': 'vtkPolyData', 'points': {'vtkClass': 'vtkPoints', 'name': '_points', 'numberO…"
      ]
     },
     "metadata": {},
     "output_type": "display_data"
    }
   ],
   "source": [
    "from scipy.spatial import Delaunay\n",
    "\n",
    "d = Delaunay(decimated_mesh3.vertices)\n",
    "d.simplices\n",
    "\n",
    "import meshio\n",
    "cells = [\n",
    "    ('tetra', d.simplices),\n",
    "]\n",
    "vmesh = meshio.Mesh(decimated_mesh3.vertices, cells)\n",
    "\n",
    "pv.plot_itk(vmesh)"
   ]
  },
  {
   "cell_type": "code",
   "execution_count": 98,
   "metadata": {},
   "outputs": [],
   "source": [
    "pv.PolyData?"
   ]
  },
  {
   "cell_type": "code",
   "execution_count": 99,
   "metadata": {},
   "outputs": [],
   "source": [
    "import vtk"
   ]
  },
  {
   "cell_type": "code",
   "execution_count": null,
   "metadata": {},
   "outputs": [],
   "source": [
    "pv.PolyData(var_inp=verts, faces=faces)"
   ]
  },
  {
   "cell_type": "code",
   "execution_count": 70,
   "metadata": {},
   "outputs": [
    {
     "data": {
      "text/plain": [
       "<meshio mesh object>\n",
       "  Number of points: 5605\n",
       "  Number of cells:\n",
       "    tetra: 38097"
      ]
     },
     "execution_count": 70,
     "metadata": {},
     "output_type": "execute_result"
    }
   ],
   "source": [
    "pvmesh = pv.from_meshio(vmesh)\n",
    "vmesh"
   ]
  },
  {
   "cell_type": "code",
   "execution_count": 78,
   "metadata": {},
   "outputs": [
    {
     "data": {
      "image/png": "[encoded data removed]",
      "text/plain": [
       "<PIL.Image.Image image mode=RGB size=1024x768 at 0x1BB1D8DFAF0>"
      ]
     },
     "metadata": {},
     "output_type": "display_data"
    },
    {
     "data": {
      "text/plain": [
       "[(487.24019959740156, 487.201357134477, 487.2410365080607),\n",
       " (100.49418433648289, 100.45534187355835, 100.49502124714203),\n",
       " (0.0, 0.0, 1.0)]"
      ]
     },
     "execution_count": 78,
     "metadata": {},
     "output_type": "execute_result"
    }
   ],
   "source": [
    "pvmesh.plot()"
   ]
  },
  {
   "cell_type": "code",
   "execution_count": 58,
   "metadata": {},
   "outputs": [
    {
     "data": {
      "application/vnd.jupyter.widget-view+json": {
       "model_id": "4c723d5a14604281a67b121c9b7af513",
       "version_major": 2,
       "version_minor": 0
      },
      "text/plain": [
       "Viewer(geometries=[{'vtkClass': 'vtkPolyData', 'points': {'vtkClass': 'vtkPoints', 'name': '_points', 'numberO…"
      ]
     },
     "metadata": {},
     "output_type": "display_data"
    },
    {
     "data": {
      "application/vnd.jupyter.widget-view+json": {
       "model_id": "4c723d5a14604281a67b121c9b7af513",
       "version_major": 2,
       "version_minor": 0
      },
      "text/plain": [
       "Viewer(geometries=[{'vtkClass': 'vtkPolyData', 'points': {'vtkClass': 'vtkPoints', 'name': '_points', 'numberO…"
      ]
     },
     "metadata": {},
     "output_type": "display_data"
    }
   ],
   "source": [
    "grid = pvmesh\n",
    "\n",
    "# get cell centroids\n",
    "cells = grid.cells.reshape(-1, 5)[:, 1:]\n",
    "cell_center = grid.points[cells].mean(1)\n",
    "\n",
    "# extract cells below the 0 xy plane\n",
    "mask = cell_center[:, 2] < 100\n",
    "cell_ind = mask.nonzero()[0]\n",
    "subgrid = grid.extract_cells(cell_ind)\n",
    "\n",
    "# advanced plotting\n",
    "plotter = pv.PlotterITK()\n",
    "plotter.add_mesh(subgrid, 'lightgrey')\n",
    "# plotter.add_mesh(pvmesh, 'r', 'wireframe')\n",
    "# plotter.add_legend([[' Input Mesh ', 'r'],\n",
    "#                     [' Tesselated Mesh ', 'black']])\n",
    "plotter.show()"
   ]
  },
  {
   "cell_type": "code",
   "execution_count": 69,
   "metadata": {},
   "outputs": [
    {
     "data": {
      "application/vnd.jupyter.widget-view+json": {
       "model_id": "aea3a96b164d4ec39564d8bf05ece5b8",
       "version_major": 2,
       "version_minor": 0
      },
      "text/plain": [
       "Viewer(geometries=[{'vtkClass': 'vtkPolyData', 'points': {'vtkClass': 'vtkPoints', 'name': '_points', 'numberO…"
      ]
     },
     "metadata": {},
     "output_type": "display_data"
    },
    {
     "data": {
      "application/vnd.jupyter.widget-view+json": {
       "model_id": "aea3a96b164d4ec39564d8bf05ece5b8",
       "version_major": 2,
       "version_minor": 0
      },
      "text/plain": [
       "Viewer(geometries=[{'vtkClass': 'vtkPolyData', 'points': {'vtkClass': 'vtkPoints', 'name': '_points', 'numberO…"
      ]
     },
     "metadata": {},
     "output_type": "display_data"
    }
   ],
   "source": [
    "mask = seg_pad_vol.image[tuple(cell_center.astype(int).T)] == 0\n",
    "cell_ind = mask.nonzero()[0]\n",
    "subgrid = grid.extract_cells(cell_ind)\n",
    "\n",
    "plotter = pv.PlotterITK()\n",
    "plotter.add_mesh(subgrid)\n",
    "plotter.show()"
   ]
  },
  {
   "cell_type": "code",
   "execution_count": null,
   "metadata": {},
   "outputs": [],
   "source": []
  }
 ],
 "metadata": {
  "kernelspec": {
   "display_name": "nanomesh",
   "language": "python",
   "name": "nanomesh"
  },
  "language_info": {
   "codemirror_mode": {
    "name": "ipython",
    "version": 3
   },
   "file_extension": ".py",
   "mimetype": "text/x-python",
   "name": "python",
   "nbconvert_exporter": "python",
   "pygments_lexer": "ipython3",
   "version": "3.8.8"
  }
 },
 "nbformat": 4,
 "nbformat_minor": 4
}
