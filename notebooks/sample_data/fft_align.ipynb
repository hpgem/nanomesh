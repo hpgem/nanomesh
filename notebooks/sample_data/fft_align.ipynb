{
 "cells": [
  {
   "cell_type": "code",
   "execution_count": null,
   "metadata": {},
   "outputs": [],
   "source": [
    "%load_ext autoreload\n",
    "%autoreload 2\n",
    "%matplotlib notebook"
   ]
  },
  {
   "cell_type": "markdown",
   "metadata": {},
   "source": [
    "## Get base vectors using 3d FFT"
   ]
  },
  {
   "cell_type": "code",
   "execution_count": null,
   "metadata": {},
   "outputs": [],
   "source": [
    "from nanomesh.volume import Volume\n",
    "import pyvista as pv\n",
    "from skimage import filters\n",
    "import numpy as np"
   ]
  },
  {
   "cell_type": "code",
   "execution_count": null,
   "metadata": {},
   "outputs": [],
   "source": [
    "vol = Volume.load('sample_data.npy')"
   ]
  },
  {
   "cell_type": "code",
   "execution_count": null,
   "metadata": {},
   "outputs": [],
   "source": [
    "fourier = np.fft.fftn(vol.image)\n",
    "scaled = np.abs(np.fft.fftshift(fourier))\n",
    "\n",
    "fs = Volume(np.clip(scaled, a_min=0, a_max=1e7))\n",
    "\n",
    "fs.show_slice(index=101, along='y')"
   ]
  },
  {
   "cell_type": "code",
   "execution_count": null,
   "metadata": {},
   "outputs": [],
   "source": [
    "import scipy.ndimage as ndi\n",
    "from skimage import measure\n",
    "from sklearn.cluster import DBSCAN, MeanShift\n",
    "\n",
    "def find_peaks(image, *, threshold: float, min_sigma: float =1.0, max_sigma: float = 2.0):\n",
    "    \"\"\"Find peaks in image using difference of gaussian.\"\"\"\n",
    "    \n",
    "    difference = ndi.gaussian_filter(image, min_sigma) - ndi.gaussian_filter(image, max_sigma)\n",
    "    labels, numlabels = ndi.label(difference > threshold)\n",
    "    props = measure.regionprops(labels, image)\n",
    "    peaks = np.array([prop.centroid for prop in props])\n",
    "    \n",
    "    return peaks\n",
    "\n",
    "\n",
    "def find_periodic(peaks) -> dict:\n",
    "    \"\"\"Find periodic vectors in list of peaks.\n",
    "    \n",
    "    TODO: uniqify vectors (i.e. select one quadrant)\n",
    "    \"\"\"\n",
    "    from scipy.spatial import Delaunay\n",
    "\n",
    "    D = Delaunay(peaks)\n",
    "\n",
    "    vertices = D.points\n",
    "    faces = D.simplices\n",
    "    # diffs = vertices[faces] - vertices[faces][:,1:2,:]\n",
    "    diff = (vertices[faces] - vertices[faces][:,0:1,:]).reshape(-1,3)\n",
    "    \n",
    "    db = DBSCAN(eps=1.0, min_samples=5).fit(diff)\n",
    "    core_samples = db.core_sample_indices_\n",
    "    labels = db.labels_[core_samples]\n",
    "\n",
    "    core_samples = diff[core_samples]\n",
    "    \n",
    "    unique, counts = np.unique(labels, return_counts=True)\n",
    "    \n",
    "    d = {}\n",
    "    for label, count in zip(unique, counts):\n",
    "        vectors = core_samples[labels==label]\n",
    "        d[label] = {\n",
    "            'count' : count,\n",
    "            'label' : label,\n",
    "            'vector': vectors.mean(axis=0),\n",
    "            'std': vectors.std(axis=0),\n",
    "            'confidence': vectors.std(axis=0).mean(),\n",
    "            'samples' : vectors,\n",
    "        }\n",
    "\n",
    "    return d"
   ]
  },
  {
   "cell_type": "code",
   "execution_count": null,
   "metadata": {},
   "outputs": [],
   "source": [
    "peaks = find_peaks(scaled, threshold=1e6)\n",
    "clusters = find_periodic(peaks)"
   ]
  },
  {
   "cell_type": "code",
   "execution_count": null,
   "metadata": {},
   "outputs": [],
   "source": [
    "samples = np.vstack([val['samples'] for val in clusters.values()])\n",
    "centers = np.array([val['vector'] for val in clusters.values()])\n",
    "\n",
    "plotter = pv.PlotterITK()\n",
    "plotter.add_points(centers)\n",
    "plotter.add_points(samples)\n",
    "plotter.show()"
   ]
  },
  {
   "cell_type": "code",
   "execution_count": null,
   "metadata": {},
   "outputs": [],
   "source": []
  }
 ],
 "metadata": {
  "kernelspec": {
   "display_name": "nanomesh",
   "language": "python",
   "name": "nanomesh"
  },
  "language_info": {
   "codemirror_mode": {
    "name": "ipython",
    "version": 3
   },
   "file_extension": ".py",
   "mimetype": "text/x-python",
   "name": "python",
   "nbconvert_exporter": "python",
   "pygments_lexer": "ipython3",
   "version": "3.8.8"
  }
 },
 "nbformat": 4,
 "nbformat_minor": 4
}
