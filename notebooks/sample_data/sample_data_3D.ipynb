{
 "cells": [
  {
   "cell_type": "code",
   "execution_count": null,
   "metadata": {},
   "outputs": [],
   "source": [
    "%load_ext autoreload\n",
    "%autoreload 2\n",
    "%matplotlib ipympl"
   ]
  },
  {
   "cell_type": "markdown",
   "metadata": {},
   "source": [
    "## 3D meshing example\n",
    "\n",
    "This notebook shows how to\n",
    "\n",
    "1. Load and visualize a volume\n",
    "1. Apply image filters to and segment image\n",
    "1. Generate a 3D surface mesh from the binary image\n",
    "1. Decimate/simplify a 3D mesh\n",
    "1. Visualize and save the mesh to gmsh22 format\n",
    "\n",
    "### Todo:\n",
    "\n",
    "- Generate 3D volume mesh\n",
    "- Surface mesh must be 'watertight'\n",
    "- Constrained Delaunay triangulation to fix surface (do not go outside surface), i.e.\n",
    "https://notebook.community/daniel-koehn/Theory-of-seismic-waves-II/02_Mesh_generation/4_Tri_mesh_delaunay_yigma_tepe,\n",
    "https://wias-berlin.de/software/tetgen/1.5/doc/manual/manual002.html#sec7"
   ]
  },
  {
   "cell_type": "code",
   "execution_count": null,
   "metadata": {},
   "outputs": [],
   "source": [
    "from nanomesh.volume import Volume\n",
    "import pyvista as pv\n",
    "from skimage import filters"
   ]
  },
  {
   "cell_type": "code",
   "execution_count": null,
   "metadata": {},
   "outputs": [],
   "source": [
    "vol = Volume.load('sample_data.npy')\n",
    "vol_gauss = vol.apply(filters.gaussian, sigma=5)\n",
    "thresh = filters.threshold_li(vol_gauss.image)\n",
    "\n",
    "seg_vol = Volume(1.0 * (vol_gauss.image >= thresh))\n",
    "seg_vol.show_slice()"
   ]
  },
  {
   "cell_type": "markdown",
   "metadata": {},
   "source": [
    "### Generate 3d tetragonal mesh"
   ]
  },
  {
   "cell_type": "code",
   "execution_count": null,
   "metadata": {},
   "outputs": [],
   "source": [
    "import numpy as np\n",
    "\n",
    "def simplify_mesh_trimesh(vertices, faces, n_faces):\n",
    "    \"\"\"Simplify mesh using trimesh.\"\"\"\n",
    "    import trimesh\n",
    "    mesh = trimesh.Trimesh(vertices=verts, faces=faces)\n",
    "    decimated = mesh.simplify_quadratic_decimation(n_faces)\n",
    "    return decimated\n",
    "\n",
    "def simplify_mesh_open3d(vertices: np.ndarray, faces: np.ndarray, n_faces):\n",
    "    \"\"\"Simplify mesh using open3d.\"\"\"\n",
    "    import open3d\n",
    "    o3d_verts = open3d.utility.Vector3dVector(vertices)\n",
    "    o3d_faces = open3d.utility.Vector3iVector(faces)\n",
    "    o3d_mesh = open3d.geometry.TriangleMesh(o3d_verts, o3d_faces)\n",
    "\n",
    "    o3d_new_mesh = o3d_mesh.simplify_quadric_decimation(n_faces)\n",
    "    \n",
    "    new_verts = np.array(o3d_new_mesh.vertices)\n",
    "    new_faces = np.array(o3d_new_mesh.triangles)\n",
    "    \n",
    "    decimated = meshio.Mesh(points=new_verts, cells=[('triangle', new_faces)])\n",
    "    return decimated"
   ]
  },
  {
   "cell_type": "code",
   "execution_count": null,
   "metadata": {},
   "outputs": [],
   "source": [
    "import pyvista as pv\n",
    "\n",
    "def meshio2polydata(mesh):\n",
    "    return pv.from_meshio(mesh)\n",
    "\n",
    "def meshio2trimesh():\n",
    "    raise NotImplementedError\n",
    "\n",
    "def trimesh2meshio():\n",
    "    raise NotImplementedError\n",
    "\n",
    "def trimesh2polydata():\n",
    "    raise NotImplementedError\n",
    "\n",
    "def polydata2meshio():\n",
    "    raise NotImplementedError\n",
    "\n",
    "def polydata2trimesh():\n",
    "    raise NotImplementedError"
   ]
  },
  {
   "cell_type": "code",
   "execution_count": null,
   "metadata": {},
   "outputs": [],
   "source": [
    "from skimage import measure\n",
    "from scipy.spatial import Delaunay\n",
    "import meshio\n",
    "\n",
    "image = seg_vol.image\n",
    "\n",
    "point_density = False\n",
    "pad = False\n",
    "\n",
    "plot = False\n",
    "\n",
    "if point_density:\n",
    "    # grid_points = add_points_grid(image, border=5)\n",
    "    n_points1 = int(np.sum(image == 1) * point_density)\n",
    "    grid_points = add_points_kmeans(image, iters=20, n_points=n_points1)\n",
    "    points.append(grid_points)\n",
    "\n",
    "    # adding points to holes helps to get a cleaner result\n",
    "    n_points0 = int(np.sum(image == 0) * point_density)\n",
    "    grid_points = add_points_kmeans(1 - image,\n",
    "                                    iters=20,\n",
    "                                    n_points=n_points0)\n",
    "    points.append(grid_points)\n",
    "\n",
    "if pad:\n",
    "    n_points_edge = (np.array(image.shape) *\n",
    "                     (point_density**0.5)).astype(int)\n",
    "    pad_points = add_edge_points(image, n_points=n_points_edge)\n",
    "    points.append(pad_points)\n",
    "    # image = np.pad(image, 1, constant_values=0)\n",
    "\n",
    "\n",
    "# vers = contours\n",
    "verts, faces, normals, values = measure.marching_cubes(\n",
    "    image, \n",
    "    allow_degenerate=False,\n",
    "    step_size=5,\n",
    ")\n",
    "\n",
    "mesh = simplify_mesh_trimesh(vertices=verts, faces=faces, n_faces=5000)\n",
    "points = mesh.vertices\n",
    "\n",
    "tetrahedra = Delaunay(points, incremental=False).simplices\n",
    "\n",
    "teti, tetj, tetk, tetl = tetrahedra.T\n",
    "centers = (\n",
    "    points[teti] + points[tetj] + points[tetk] + points[tetl]\n",
    ") / 4\n",
    "\n",
    "mask = image[tuple(centers.astype(int).T)] == 0\n",
    "\n",
    "cells = [\n",
    "    ('tetra', tetrahedra[~mask]),\n",
    "]\n",
    "\n",
    "mesh = meshio.Mesh(points, cells)\n",
    "mesh.remove_orphaned_nodes()\n",
    "\n",
    "pv.plot_itk(mesh)"
   ]
  },
  {
   "cell_type": "code",
   "execution_count": null,
   "metadata": {},
   "outputs": [],
   "source": [
    "grid = meshio2polydata(mesh)\n",
    "\n",
    "along = 'x'\n",
    "index = 100\n",
    "\n",
    "def show_submesh(grid, *, index=100, along='x'):\n",
    "    \"\"\"Slow a slice of the mesh.\"\"\"\n",
    "\n",
    "    # get cell centroids\n",
    "    cells = grid.cells.reshape(-1, 5)[:, 1:]\n",
    "    cell_center = grid.points[cells].mean(1)\n",
    "\n",
    "    # extract cells below index\n",
    "    axis = 'zyx'.index(along)\n",
    "\n",
    "    mask = cell_center[:, axis] < index\n",
    "    cell_ind = mask.nonzero()[0]\n",
    "    subgrid = grid.extract_cells(cell_ind)\n",
    "\n",
    "    plotter = pv.PlotterITK()\n",
    "    plotter.add_mesh(subgrid)\n",
    "    plotter.show()\n",
    "\n",
    "show_submesh(grid, index=100)"
   ]
  },
  {
   "cell_type": "code",
   "execution_count": null,
   "metadata": {},
   "outputs": [],
   "source": []
  },
  {
   "cell_type": "code",
   "execution_count": null,
   "metadata": {},
   "outputs": [],
   "source": []
  }
 ],
 "metadata": {
  "kernelspec": {
   "display_name": "nanomesh",
   "language": "python",
   "name": "nanomesh"
  },
  "language_info": {
   "codemirror_mode": {
    "name": "ipython",
    "version": 3
   },
   "file_extension": ".py",
   "mimetype": "text/x-python",
   "name": "python",
   "nbconvert_exporter": "python",
   "pygments_lexer": "ipython3",
   "version": "3.8.8"
  }
 },
 "nbformat": 4,
 "nbformat_minor": 4
}
