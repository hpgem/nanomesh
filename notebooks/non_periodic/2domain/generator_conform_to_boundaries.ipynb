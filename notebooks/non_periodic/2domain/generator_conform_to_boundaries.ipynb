{
 "cells": [
  {
   "cell_type": "code",
   "execution_count": null,
   "metadata": {},
   "outputs": [],
   "source": [
    "%load_ext autoreload\n",
    "%autoreload 2"
   ]
  },
  {
   "cell_type": "code",
   "execution_count": null,
   "metadata": {},
   "outputs": [],
   "source": [
    "import pygalmesh\n",
    "import numpy as np\n",
    "import math\n",
    "from nanomesh import Volume\n",
    "from nanomesh.generator import Generator"
   ]
  },
  {
   "cell_type": "markdown",
   "metadata": {},
   "source": [
    "### Generate binary image"
   ]
  },
  {
   "cell_type": "code",
   "execution_count": null,
   "metadata": {
    "tags": []
   },
   "outputs": [],
   "source": [
    "a_axis = 680\n",
    "c_axis = 680*math.sqrt(2)\n",
    "\n",
    "gen = Generator(\n",
    "    a=a_axis, \n",
    "    c=c_axis, \n",
    "    radius=0.24*a_axis,\n",
    ")\n",
    "\n",
    "# Possible rotation/transformation of the coordinate system\n",
    "theta = math.radians(1.0)\n",
    "c = math.cos(theta)\n",
    "s = math.sin(theta)\n",
    "trans = np.array([\n",
    "    [ c, 0, s],\n",
    "    [ 0, 1, 0],\n",
    "    [-s, 0, c]\n",
    "])\n",
    "\n",
    "data = gen.generate_vect(\n",
    "    sizes=(100, 100, 100), \n",
    "    resolution=(10, 10, 10),\n",
    "    transform=trans, \n",
    "    bin_val=[2., 1.]\n",
    ")\n",
    "\n",
    "vol = Volume(data.astype('uint8'))\n",
    "vol.show_slice(along='z')"
   ]
  },
  {
   "cell_type": "markdown",
   "metadata": {},
   "source": [
    "### Generate mesh"
   ]
  },
  {
   "cell_type": "code",
   "execution_count": null,
   "metadata": {},
   "outputs": [],
   "source": [
    "mesh = vol.generate_mesh_cgal(\n",
    "    h=(1.0, 1.0, 1.0), \n",
    "    perturb=False, \n",
    "    lloyd=False,\n",
    "    odt=False,\n",
    "    max_radius_surface_delaunay_ball=0.0,\n",
    "    max_cell_circumradius=0.,\n",
    "    max_facet_distance=1.,\n",
    "    exude=True,\n",
    "    min_facet_angle=0.,\n",
    "    max_edge_size_at_feature_edges=1.5,\n",
    "    max_circumradius_edge_ratio=0.,\n",
    "    bbox_feature=True,\n",
    ")"
   ]
  },
  {
   "cell_type": "markdown",
   "metadata": {},
   "source": [
    "### Visualize mesh"
   ]
  },
  {
   "cell_type": "code",
   "execution_count": null,
   "metadata": {},
   "outputs": [],
   "source": [
    "import pyvista as pv\n",
    "\n",
    "pv.plot_itk(mesh)"
   ]
  },
  {
   "cell_type": "markdown",
   "metadata": {},
   "source": [
    "### Save mesh"
   ]
  },
  {
   "cell_type": "code",
   "execution_count": null,
   "metadata": {},
   "outputs": [],
   "source": [
    "mesh.write('nanopt_non_period_2domain.gmsh', file_format=\"gmsh22\", binary=False)"
   ]
  },
  {
   "cell_type": "code",
   "execution_count": null,
   "metadata": {},
   "outputs": [],
   "source": []
  }
 ],
 "metadata": {
  "kernelspec": {
   "display_name": "nanomesh",
   "language": "python",
   "name": "nanomesh"
  },
  "language_info": {
   "codemirror_mode": {
    "name": "ipython",
    "version": 3
   },
   "file_extension": ".py",
   "mimetype": "text/x-python",
   "name": "python",
   "nbconvert_exporter": "python",
   "pygments_lexer": "ipython3",
   "version": "3.8.0"
  }
 },
 "nbformat": 4,
 "nbformat_minor": 4
}
