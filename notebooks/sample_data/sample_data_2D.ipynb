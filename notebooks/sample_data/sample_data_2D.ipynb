{
 "cells": [
  {
   "cell_type": "code",
   "execution_count": null,
   "metadata": {},
   "outputs": [],
   "source": [
    "%load_ext autoreload\n",
    "%autoreload 2"
   ]
  },
  {
   "cell_type": "code",
   "execution_count": null,
   "metadata": {},
   "outputs": [],
   "source": [
    "from nanomesh.volume import Volume\n",
    "from nanomesh.plane import Plane"
   ]
  },
  {
   "cell_type": "code",
   "execution_count": null,
   "metadata": {},
   "outputs": [],
   "source": [
    "vol = Volume.load('sample_data.npy')"
   ]
  },
  {
   "cell_type": "code",
   "execution_count": null,
   "metadata": {},
   "outputs": [],
   "source": [
    "vol.show_slice()"
   ]
  },
  {
   "cell_type": "code",
   "execution_count": null,
   "metadata": {},
   "outputs": [],
   "source": [
    "plane = vol.select_plane(x=99)"
   ]
  },
  {
   "cell_type": "code",
   "execution_count": null,
   "metadata": {},
   "outputs": [],
   "source": [
    "plane.show()"
   ]
  },
  {
   "cell_type": "code",
   "execution_count": null,
   "metadata": {},
   "outputs": [],
   "source": [
    "from skimage import filters"
   ]
  },
  {
   "cell_type": "code",
   "execution_count": null,
   "metadata": {},
   "outputs": [],
   "source": [
    "plane_gauss = plane.apply_np(filters.gaussian, sigma=5)\n",
    "plane_gauss.show()"
   ]
  },
  {
   "cell_type": "code",
   "execution_count": null,
   "metadata": {},
   "outputs": [],
   "source": [
    "filters.try_all_threshold(plane_gauss.array_view, figsize=(10, 15), verbose=True)"
   ]
  },
  {
   "cell_type": "code",
   "execution_count": null,
   "metadata": {},
   "outputs": [],
   "source": [
    "thresh = filters.threshold_li(plane_gauss.array_view)\n",
    "\n",
    "seg = Plane.from_array(1.0 * (plane_gauss.array_view >= thresh))\n",
    "seg.show()"
   ]
  },
  {
   "cell_type": "code",
   "execution_count": null,
   "metadata": {},
   "outputs": [],
   "source": [
    "# https://forum.image.sc/t/create-3d-volume-mesh/34052/9\n",
    "\n",
    "from skimage.measure import find_contours, approximate_polygon\n",
    "from scipy.spatial import Delaunay\n",
    "import numpy as np\n",
    "import matplotlib.pyplot as plt\n",
    "\n",
    "contours = find_contours(seg.array_view, 0)\n",
    "contours = [approximate_polygon(contour, 1) for contour in contours]\n",
    "vertices = np.vstack(contours)\n",
    "triangles = Delaunay(vertices).simplices\n",
    "tri_x, tri_y, tri_z = triangles.T\n",
    "centers = (vertices[tri_x] + vertices[tri_y] + vertices[tri_z])/3\n",
    "mask = seg.array_view[tuple(centers.astype(int).T)] == 0\n",
    "x, y = vertices.T[::-1]\n",
    "\n",
    "plt.figure(figsize=(12, 12))\n",
    "\n",
    "ax = plt.subplot(221)\n",
    "ax.set_title('Segmented image')\n",
    "ax.imshow(seg.array_view, cmap='gray')\n",
    "\n",
    "ax = plt.subplot(222)\n",
    "ax.set_title(f'Contours ({len(contours)})')\n",
    "ax.imshow(seg.array_view, cmap='gray')\n",
    "for contour in contours: \n",
    "    ax.plot(*contour.T[::-1], 'red')\n",
    "\n",
    "ax = plt.subplot(223)\n",
    "ax.set_title(f'All triangles ({len(triangles)})')\n",
    "ax.imshow(seg.array_view, cmap='gray')\n",
    "ax.triplot(*vertices.T[::-1], triangles)\n",
    "\n",
    "ax = plt.subplot(224)\n",
    "ax.set_title(f'Filtered triangles ({mask.sum()})')\n",
    "ax.imshow(seg.array_view, cmap='gray')\n",
    "ax.triplot(x, y, triangles=triangles, mask=mask)\n",
    "plt.show()"
   ]
  },
  {
   "cell_type": "code",
   "execution_count": null,
   "metadata": {},
   "outputs": [],
   "source": [
    "from matplotlib.tri.triplot import Triangulation\n",
    "tri, _, _ = Triangulation.get_from_args_and_kwargs(x, y, triangles=triangles, mask=mask)"
   ]
  },
  {
   "cell_type": "code",
   "execution_count": null,
   "metadata": {},
   "outputs": [],
   "source": [
    "import numpy\n",
    "import pygalmesh\n",
    "import pyvista as pv\n",
    "\n",
    "points = numpy.array([[0.0, 0.0], [1.0, 0.0], [1.0, 1.0], [0.0, 1.0]])\n",
    "constraints = [[0, 1], [1, 2], [2, 3], [3, 0]]\n",
    "\n",
    "mesh = pygalmesh.generate_2d(\n",
    "    vertices,\n",
    "    tri.edges,\n",
    "    max_edge_size=50,\n",
    "    num_lloyd_steps=10,\n",
    ")\n",
    "# mesh.points, mesh.cells\n",
    "\n",
    "pv.plot_itk(mesh)"
   ]
  },
  {
   "cell_type": "markdown",
   "metadata": {},
   "source": [
    "### TODO\n",
    "\n",
    "- Generate meshio object directly from triangles / edges?\n",
    "- Add box around image to avoid problems in the corners"
   ]
  },
  {
   "cell_type": "code",
   "execution_count": null,
   "metadata": {},
   "outputs": [],
   "source": [
    "vertices?"
   ]
  },
  {
   "cell_type": "code",
   "execution_count": null,
   "metadata": {},
   "outputs": [],
   "source": [
    "pygalmesh.generate_2d?"
   ]
  },
  {
   "cell_type": "code",
   "execution_count": null,
   "metadata": {},
   "outputs": [],
   "source": []
  }
 ],
 "metadata": {
  "kernelspec": {
   "display_name": "nanomesh",
   "language": "python",
   "name": "nanomesh"
  },
  "language_info": {
   "codemirror_mode": {
    "name": "ipython",
    "version": 3
   },
   "file_extension": ".py",
   "mimetype": "text/x-python",
   "name": "python",
   "nbconvert_exporter": "python",
   "pygments_lexer": "ipython3",
   "version": "3.8.0"
  }
 },
 "nbformat": 4,
 "nbformat_minor": 4
}
