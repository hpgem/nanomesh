{
 "cells": [
  {
   "cell_type": "code",
   "execution_count": null,
   "metadata": {},
   "outputs": [],
   "source": [
    "import ipyvolume as ipv\n",
    "import itkwidgets as itkw\n",
    "import numpy as np\n",
    "from nanomesh import NanoMesher\n",
    "from nanomesh import sitk_filter\n",
    "from nanomesh.utils import show_slice, show_volume, generate_mesh_from_binary_image"
   ]
  },
  {
   "cell_type": "code",
   "execution_count": null,
   "metadata": {},
   "outputs": [],
   "source": [
    "mesh = NanoMesher()\n",
    "mesh.load_bin(\"sample_data.vol\",size=[200,200,200], input_dtype=np.uint8, output_dtype=np.float32)\n",
    "show_slice(mesh.volume.img,'z',scale=1)"
   ]
  },
  {
   "cell_type": "code",
   "execution_count": null,
   "metadata": {},
   "outputs": [],
   "source": [
    "mesh.apply_gaussian_filtering(sigma=5.)\n",
    "show_slice(mesh.volume.img,'z')"
   ]
  },
  {
   "cell_type": "code",
   "execution_count": null,
   "metadata": {},
   "outputs": [],
   "source": [
    "show_volume(mesh.volume.img)"
   ]
  },
  {
   "cell_type": "code",
   "execution_count": null,
   "metadata": {},
   "outputs": [],
   "source": [
    "inner = sitk_filter.binary_threshold(mesh.volume.img, lowerThreshold=0, upperThreshold=125, insideValue=1, outsideValue=0)\n",
    "show_slice((mesh.volume.img, inner), dim='z', title=\"Inner regions\")"
   ]
  },
  {
   "cell_type": "code",
   "execution_count": null,
   "metadata": {},
   "outputs": [],
   "source": [
    "show_volume(inner)"
   ]
  },
  {
   "cell_type": "code",
   "execution_count": null,
   "metadata": {},
   "outputs": [],
   "source": [
    "inner_mesh = generate_mesh_from_binary_image(inner)"
   ]
  },
  {
   "cell_type": "code",
   "execution_count": null,
   "metadata": {},
   "outputs": [],
   "source": [
    "import pyvista as pv\n",
    "pv.plot_itk(inner_mesh)"
   ]
  },
  {
   "cell_type": "code",
   "execution_count": null,
   "metadata": {},
   "outputs": [],
   "source": [
    "import meshio\n",
    "meshio.write('inner.vtk',inner_mesh)"
   ]
  },
  {
   "cell_type": "code",
   "execution_count": null,
   "metadata": {},
   "outputs": [],
   "source": [
    "inner_mesh = pv.read('inner.vtk')\n",
    "\n",
    "bounds = [100,200,100,200,100,200]\n",
    "clipped = inner_mesh.clip_box(bounds)\n",
    "\n",
    "pv.set_plot_theme(\"document\")\n",
    "\n",
    "p = pv.Plotter(notebook=True)\n",
    "\n",
    "p.add_mesh(mesh.volume.img, style='wireframe', color='black')\n",
    "p.add_mesh(clipped,  color='lightgrey')\n",
    "p.show()"
   ]
  },
  {
   "cell_type": "code",
   "execution_count": null,
   "metadata": {},
   "outputs": [],
   "source": [
    "two_phase = sitk_filter.binary_threshold(mesh.volume.img, lowerThreshold=0, upperThreshold=125, insideValue=1, outsideValue=2)\n",
    "show_slice((mesh.volume.img, two_phase), dim='z', title=\"Binary Thresholding\")"
   ]
  },
  {
   "cell_type": "code",
   "execution_count": null,
   "metadata": {},
   "outputs": [],
   "source": [
    "show_volume(two_phase)"
   ]
  },
  {
   "cell_type": "code",
   "execution_count": null,
   "metadata": {},
   "outputs": [],
   "source": [
    "two_phase_mesh = generate_mesh_from_binary_image(two_phase)"
   ]
  },
  {
   "cell_type": "code",
   "execution_count": null,
   "metadata": {},
   "outputs": [],
   "source": [
    "pv.plot_itk(two_phase_mesh)"
   ]
  },
  {
   "cell_type": "code",
   "execution_count": null,
   "metadata": {},
   "outputs": [],
   "source": [
    "import meshio\n",
    "meshio.write('twophase.vtk', two_phase_mesh)"
   ]
  },
  {
   "cell_type": "code",
   "execution_count": null,
   "metadata": {},
   "outputs": [],
   "source": [
    "\n",
    "mesh = pv.read('twophase.vtk')\n",
    "\n",
    "bounds = [100,200,100,200,100,200]\n",
    "clipped = mesh.clip_box(bounds)\n",
    "pv.set_plot_theme(\"document\")\n",
    "\n",
    "p = pv.Plotter(notebook=True)\n",
    "p.add_mesh(mesh, style='wireframe', color='black')\n",
    "p.add_mesh(clipped)\n",
    "p.show(use_ipyvtk=False)\n"
   ]
  },
  {
   "cell_type": "code",
   "execution_count": null,
   "metadata": {},
   "outputs": [],
   "source": []
  }
 ],
 "metadata": {
  "kernelspec": {
   "display_name": "nanomesh",
   "language": "python",
   "name": "nanomesh"
  },
  "language_info": {
   "codemirror_mode": {
    "name": "ipython",
    "version": 3
   },
   "file_extension": ".py",
   "mimetype": "text/x-python",
   "name": "python",
   "nbconvert_exporter": "python",
   "pygments_lexer": "ipython3",
   "version": "3.8.0"
  }
 },
 "nbformat": 4,
 "nbformat_minor": 4
}
