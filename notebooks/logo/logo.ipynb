{
 "cells": [
  {
   "cell_type": "code",
   "execution_count": null,
   "metadata": {},
   "outputs": [],
   "source": [
    "%load_ext autoreload\n",
    "%autoreload 2\n",
    "%matplotlib notebook"
   ]
  },
  {
   "cell_type": "markdown",
   "metadata": {},
   "source": [
    "## 2D meshing example\n",
    "\n",
    "This notebook shows how to\n",
    "\n",
    "1. Load and visualize a volume\n",
    "2. Select a plane from a volume\n",
    "3. Apply image filters to and segment image\n",
    "4. Generate a 2D mesh from the binary image\n",
    "5. Visualize and save the mesh to gmsh22 format"
   ]
  },
  {
   "cell_type": "code",
   "execution_count": null,
   "metadata": {},
   "outputs": [],
   "source": [
    "from nanomesh.volume import Volume\n",
    "from nanomesh.plane import Plane\n",
    "import pyvista as pv\n",
    "from skimage import filters\n",
    "import numpy as np\n",
    "from skimage import io\n",
    "import matplotlib.pyplot as plt\n",
    "from skimage.color import rgb2gray"
   ]
  },
  {
   "cell_type": "code",
   "execution_count": null,
   "metadata": {},
   "outputs": [],
   "source": [
    "banner_o = io.imread(r'banner_o.png')\n",
    "plane = Plane(rgb2gray(banner_o))\n",
    "plane.show()"
   ]
  },
  {
   "cell_type": "code",
   "execution_count": null,
   "metadata": {},
   "outputs": [],
   "source": [
    "thresh = 0.5\n",
    "seg = plane.apply(np.digitize, bins=[thresh])\n",
    "seg.show()"
   ]
  },
  {
   "cell_type": "code",
   "execution_count": null,
   "metadata": {
    "tags": []
   },
   "outputs": [],
   "source": [
    "from nanomesh.mesh2d import Mesher2D\n",
    "\n",
    "mesher = Mesher2D(seg.image)\n",
    "\n",
    "mesher.add_points(label=0, method='kmeans', point_density=0.0018, verbose=True)\n",
    "mesher.add_points(label=1, method='gmm', point_density=0.0018)\n",
    "mesher.generate_contours(max_contour_dist=10, contour_precision=3)\n",
    "mesher.generate_edge_contours(max_contour_dist=30)\n",
    "mesher.generate_mesh()\n",
    "mesher.generate_domain_mask()\n",
    "\n",
    "mesher.plot_steps()"
   ]
  },
  {
   "cell_type": "code",
   "execution_count": null,
   "metadata": {},
   "outputs": [],
   "source": [
    "import matplotlib.pyplot as plt\n",
    "plt.rcParams['image.cmap'] = 'jet'\n",
    "\n",
    "banner_no_o = io.imread(r'banner_no_o.png')\n",
    "\n",
    "image = mesher.image\n",
    "points = mesher.surface_mesh.vertices\n",
    "triangles = mesher.surface_mesh.faces\n",
    "labels = mesher.labels\n",
    "\n",
    "x, y = points.T[::-1]\n",
    "\n",
    "fig, ax = plt.subplots(figsize=(8, 2))\n",
    "fig.tight_layout(pad=0)\n",
    "\n",
    "ax.imshow(banner_no_o)\n",
    "ax.axis('off')\n",
    "ax.margins(0)\n",
    "\n",
    "colors = np.arange(len(triangles))\n",
    "mask0 = (labels == 0)\n",
    "ax.tripcolor(x, y, triangles=triangles, mask=mask0, facecolors=colors)\n",
    "ax.triplot(x, y, triangles=triangles, mask=mask0, color='black', lw=0.5)\n",
    "\n",
    "mask1 = (labels == 1)\n",
    "ax.triplot(x, y, triangles=triangles, mask=mask1, lw=0.5, alpha=0.8)\n"
   ]
  },
  {
   "cell_type": "code",
   "execution_count": null,
   "metadata": {},
   "outputs": [],
   "source": []
  }
 ],
 "metadata": {
  "kernelspec": {
   "display_name": "nanomesh",
   "language": "python",
   "name": "nanomesh"
  },
  "language_info": {
   "codemirror_mode": {
    "name": "ipython",
    "version": 3
   },
   "file_extension": ".py",
   "mimetype": "text/x-python",
   "name": "python",
   "nbconvert_exporter": "python",
   "pygments_lexer": "ipython3",
   "version": "3.8.0"
  },
  "toc-autonumbering": false,
  "toc-showcode": true,
  "toc-showmarkdowntxt": false,
  "toc-showtags": false
 },
 "nbformat": 4,
 "nbformat_minor": 4
}
