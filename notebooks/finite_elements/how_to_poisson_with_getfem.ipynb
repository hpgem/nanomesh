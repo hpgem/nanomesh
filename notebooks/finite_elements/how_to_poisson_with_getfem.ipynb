{
 "cells": [
  {
   "cell_type": "markdown",
   "id": "17d8f85f",
   "metadata": {},
   "source": [
    "## Poisson equation with getfem\n",
    "\n",
    "This is an adaptation of the tutorial linked [here](https://getfem-examples.readthedocs.io/en/latest/demo_unit_disk.html)."
   ]
  },
  {
   "cell_type": "markdown",
   "id": "1ffb5f79",
   "metadata": {},
   "source": [
    "### Setup getfem\n",
    "\n",
    "First, we must setup the path to the python module ([link](https://getfem.org/python/pygf.html#introduction)), so that getfem can be used in our Nanomesh environment.\n",
    "\n",
    "We import getfem and generate a mesh to test if it works."
   ]
  },
  {
   "cell_type": "code",
   "execution_count": 1,
   "id": "fa868ad3",
   "metadata": {},
   "outputs": [
    {
     "data": {
      "text/plain": []
     },
     "execution_count": 1,
     "metadata": {},
     "output_type": "execute_result"
    },
    {
     "name": "stdout",
     "output_type": "stream",
     "text": [
      "message from gf_mesh_get follow:\n",
      "gfMesh object in dimension 2 with 9 points and 4 elements\n",
      "\n"
     ]
    }
   ],
   "source": [
    "import sys\n",
    "sys.path.append('../../../getfem/interface/src/python/')\n",
    "\n",
    "import getfem\n",
    "m = getfem.Mesh('cartesian', range(0, 3), range(0,3))\n",
    "m"
   ]
  },
  {
   "cell_type": "markdown",
   "id": "e3c73122",
   "metadata": {},
   "source": [
    "### Poisson's equation"
   ]
  },
  {
   "cell_type": "code",
   "execution_count": 2,
   "id": "8faf028a",
   "metadata": {
    "scrolled": false
   },
   "outputs": [
    {
     "name": "stdout",
     "output_type": "stream",
     "text": [
      "effective bounding box : [-0.998954, -1] : [0.998954, 0.950032]\n",
      "Iter 0 NEW DELAUNAY, running on 360 points\n",
      "number of elements after selection = 672\n",
      "Iter 5 NEW DELAUNAY, running on 360 points\n",
      "number of elements after selection = 668\n",
      "Iter 10 NEW DELAUNAY, running on 360 points\n",
      "number of elements after selection = 668\n",
      "Iter 15 NEW DELAUNAY, running on 360 points\n",
      "number of elements after selection = 668\n",
      "Iter 20 NEW DELAUNAY, running on 360 points\n",
      "number of elements after selection = 666\n",
      "Iter 25 NEW DELAUNAY, running on 360 points\n",
      "number of elements after selection = 666\n",
      "Iter 31 NEW DELAUNAY, running on 360 points\n",
      "number of elements after selection = 664\n",
      "Iter 38 NEW DELAUNAY, running on 360 points\n",
      "number of elements after selection = 664\n",
      "Iter 44 NEW DELAUNAY, running on 360 points\n",
      "number of elements after selection = 660\n",
      "Iter 52 NEW DELAUNAY, running on 360 points\n",
      "number of elements after selection = 658\n",
      "Iter 58 NEW DELAUNAY, running on 360 points\n",
      "number of elements after selection = 658\n",
      "Iter 63 NEW DELAUNAY, running on 360 points\n",
      "number of elements after selection = 656\n",
      "Iter 70 NEW DELAUNAY, running on 360 points\n",
      "number of elements after selection = 656\n",
      "Iter 81 NEW DELAUNAY, running on 360 points\n",
      "number of elements after selection = 656\n",
      "Iter 95 NEW DELAUNAY, running on 360 points\n",
      "number of elements after selection = 656\n",
      "Iter 155 NEW DELAUNAY, running on 360 points\n",
      "number of elements after selection = 656\n",
      "Iter 203 NEW DELAUNAY, running on 360 points\n",
      "number of elements after selection = 656\n",
      "Iter 278 NEW DELAUNAY, running on 360 points\n",
      "number of elements after selection = 656\n",
      "Iter 355 NEW DELAUNAY, running on 360 points\n",
      "number of elements after selection = 656\n",
      "Iter 458 NEW DELAUNAY, running on 360 points\n",
      "number of elements after selection = 656\n",
      "Quality post-optimization\n",
      "Initial quality: 1.02576, best element: 1 worst element: 1.2037\n",
      "Final quality: 1.01761, best element: 1.00001 worst element: 1.20208\n"
     ]
    },
    {
     "name": "stderr",
     "output_type": "stream",
     "text": [
      "Trace 2 in getfem_models.cc, line 4401: Mass term assembly for Dirichlet condition\n",
      "Trace 2 in getfem_models.cc, line 3478: Laplacian: generic matrix assembly\n",
      "Trace 2 in getfem_models.cc, line 3310: Generic source term assembly\n",
      "Trace 2 in getfem_models.cc, line 3321: Source term: generic source term assembly\n",
      "Trace 2 in getfem_models.cc, line 4401: Mass term assembly for Dirichlet condition\n"
     ]
    }
   ],
   "source": [
    "import getfem as gf\n",
    "import numpy as np\n",
    "\n",
    "center = [0.0, 0.0]\n",
    "radius = 1.0\n",
    "\n",
    "mo = gf.MesherObject(\"ball\", center, radius)\n",
    "\n",
    "h = 0.1\n",
    "K = 2\n",
    "mesh = gf.Mesh(\"generate\", mo, h, K)\n",
    "\n",
    "outer_faces = mesh.outer_faces()\n",
    "OUTER_BOUND = 1\n",
    "mesh.set_region(OUTER_BOUND, outer_faces)\n",
    "\n",
    "sl = gf.Slice((\"none\",), mesh, 1)\n",
    "\n",
    "mfu = gf.MeshFem(mesh, 1)\n",
    "\n",
    "elements_degree = 2\n",
    "mfu.set_classical_fem(elements_degree)\n",
    "\n",
    "mim = gf.MeshIm(mesh, pow(elements_degree, 2))\n",
    "\n",
    "md = gf.Model(\"real\")\n",
    "md.add_fem_variable(\"u\", mfu)\n",
    "\n",
    "md.add_Laplacian_brick(mim, \"u\")\n",
    "\n",
    "F = 1.0\n",
    "md.add_fem_data(\"F\", mfu)\n",
    "\n",
    "md.set_variable(\"F\", np.repeat(F, mfu.nbdof()))\n",
    "\n",
    "md.add_source_term_brick(mim, \"u\", \"F\")\n",
    "\n",
    "md.add_Dirichlet_condition_with_multipliers(mim, \"u\", elements_degree - 1, OUTER_BOUND)\n",
    "\n",
    "md.solve()\n",
    "\n",
    "# visualize\n",
    "U = md.variable(\"u\")\n",
    "\n",
    "sl.export_to_vtk(\"u.vtk\", \"ascii\", mfu, U, \"U\")"
   ]
  },
  {
   "cell_type": "markdown",
   "id": "e1674d70",
   "metadata": {},
   "source": [
    "### Display result"
   ]
  },
  {
   "cell_type": "code",
   "execution_count": 3,
   "id": "fde8ea46",
   "metadata": {},
   "outputs": [
    {
     "data": {
      "application/vnd.jupyter.widget-view+json": {
       "model_id": "e87860250a7442a4aebcb8a2973f3f12",
       "version_major": 2,
       "version_minor": 0
      },
      "text/plain": [
       "ViewInteractiveWidget(height=384, layout=Layout(height='auto', width='100%'), width=384)"
      ]
     },
     "metadata": {},
     "output_type": "display_data"
    }
   ],
   "source": [
    "import pyvista as pv\n",
    "\n",
    "p = pv.Plotter()\n",
    "m = pv.read(\"u.vtk\")\n",
    "contours = m.contour()\n",
    "p.add_mesh(m, show_edges=False)\n",
    "p.add_mesh(contours, color=\"black\", line_width=1)\n",
    "p.add_mesh(m.contour(8).extract_largest(), opacity=0.1)\n",
    "pts = m.points\n",
    "p.show(window_size=[384, 384], cpos=\"xy\")"
   ]
  }
 ],
 "metadata": {
  "jupytext": {
   "formats": "ipynb,md"
  },
  "kernelspec": {
   "display_name": "nanomesh",
   "language": "python",
   "name": "nanomesh"
  },
  "language_info": {
   "codemirror_mode": {
    "name": "ipython",
    "version": 3
   },
   "file_extension": ".py",
   "mimetype": "text/x-python",
   "name": "python",
   "nbconvert_exporter": "python",
   "pygments_lexer": "ipython3",
   "version": "3.8.12"
  }
 },
 "nbformat": 4,
 "nbformat_minor": 5
}
