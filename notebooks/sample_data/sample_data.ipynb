{
 "cells": [
  {
   "cell_type": "code",
   "execution_count": null,
   "metadata": {},
   "outputs": [],
   "source": [
    "%load_ext autoreload\n",
    "%autoreload 2\n",
    "%matplotlib ipympl"
   ]
  },
  {
   "cell_type": "code",
   "execution_count": null,
   "metadata": {},
   "outputs": [],
   "source": [
    "from nanomesh.volume import Volume"
   ]
  },
  {
   "cell_type": "code",
   "execution_count": null,
   "metadata": {},
   "outputs": [],
   "source": [
    "vol = Volume.load('sample_data.npy')"
   ]
  },
  {
   "cell_type": "code",
   "execution_count": null,
   "metadata": {},
   "outputs": [],
   "source": [
    "vol.show_slice()"
   ]
  },
  {
   "cell_type": "code",
   "execution_count": null,
   "metadata": {},
   "outputs": [],
   "source": [
    "vol.show_volume(renderer='itk')"
   ]
  },
  {
   "cell_type": "code",
   "execution_count": null,
   "metadata": {},
   "outputs": [],
   "source": [
    "vol.show_volume(renderer='ipyvolume')"
   ]
  },
  {
   "cell_type": "code",
   "execution_count": null,
   "metadata": {},
   "outputs": [],
   "source": [
    "from nanomesh import sitk_filter\n",
    "\n",
    "vol = vol.apply(sitk_filter.gaussian_filter, sigma=5.0)\n",
    "vol.show_slice(title='Gaussian filter')"
   ]
  },
  {
   "cell_type": "code",
   "execution_count": null,
   "metadata": {},
   "outputs": [],
   "source": [
    "inner = vol.apply(sitk_filter.binary_threshold, \n",
    "                  lowerThreshold=0, \n",
    "                  upperThreshold=125, \n",
    "                  insideValue=1, \n",
    "                  outsideValue=0,\n",
    "                  )\n",
    "\n",
    "inner.show_slice(title='Inner regions')"
   ]
  },
  {
   "cell_type": "code",
   "execution_count": null,
   "metadata": {},
   "outputs": [],
   "source": [
    "inner_mesh = inner.generate_mesh(h=(1,1,1))\n",
    "inner_mesh"
   ]
  },
  {
   "cell_type": "code",
   "execution_count": null,
   "metadata": {},
   "outputs": [],
   "source": [
    "import pyvista as pv\n",
    "pv.plot_itk(inner_mesh)"
   ]
  },
  {
   "cell_type": "code",
   "execution_count": null,
   "metadata": {},
   "outputs": [],
   "source": [
    "import meshio\n",
    "meshio.write('inner.vtk',inner_mesh)"
   ]
  },
  {
   "cell_type": "code",
   "execution_count": null,
   "metadata": {},
   "outputs": [],
   "source": [
    "inner_mesh = pv.read('inner.vtk')\n",
    "\n",
    "bounds = [100,200,100,200,100,200]\n",
    "clipped = inner_mesh.clip_box(bounds)\n",
    "\n",
    "pv.set_plot_theme(\"document\")\n",
    "\n",
    "p = pv.Plotter(notebook=True)\n",
    "\n",
    "p.add_mesh(inner_mesh, style='wireframe', color='black')\n",
    "p.add_mesh(clipped,  color='lightgrey')\n",
    "p.show()"
   ]
  },
  {
   "cell_type": "code",
   "execution_count": null,
   "metadata": {},
   "outputs": [],
   "source": [
    "two_phase = vol.apply(sitk_filter.binary_threshold,\n",
    "                      lowerThreshold=0, \n",
    "                      upperThreshold=125, \n",
    "                      insideValue=1, \n",
    "                      outsideValue=2)\n",
    "\n",
    "vol.show_slice(overlay=two_phase.image, title=\"Binary Thresholding\")"
   ]
  },
  {
   "cell_type": "code",
   "execution_count": null,
   "metadata": {},
   "outputs": [],
   "source": [
    "two_phase.show_volume(renderer='ipyvolume')"
   ]
  },
  {
   "cell_type": "code",
   "execution_count": null,
   "metadata": {},
   "outputs": [],
   "source": [
    "two_phase_mesh = two_phase.generate_mesh()"
   ]
  },
  {
   "cell_type": "code",
   "execution_count": null,
   "metadata": {},
   "outputs": [],
   "source": [
    "pv.plot_itk(two_phase_mesh)"
   ]
  },
  {
   "cell_type": "code",
   "execution_count": null,
   "metadata": {},
   "outputs": [],
   "source": [
    "import meshio\n",
    "meshio.write('twophase.vtk', two_phase_mesh)"
   ]
  },
  {
   "cell_type": "code",
   "execution_count": null,
   "metadata": {},
   "outputs": [],
   "source": [
    "mesh = pv.read('twophase.vtk')\n",
    "\n",
    "bounds = [100,200,100,200,100,200]\n",
    "clipped = mesh.clip_box(bounds)\n",
    "pv.set_plot_theme(\"document\")\n",
    "\n",
    "p = pv.Plotter(notebook=True)\n",
    "p.add_mesh(mesh, style='wireframe', color='black')\n",
    "p.add_mesh(clipped)\n",
    "p.show(use_ipyvtk=False)"
   ]
  },
  {
   "cell_type": "code",
   "execution_count": null,
   "metadata": {},
   "outputs": [],
   "source": []
  }
 ],
 "metadata": {
  "kernelspec": {
   "display_name": "nanomesh",
   "language": "python",
   "name": "nanomesh"
  },
  "language_info": {
   "codemirror_mode": {
    "name": "ipython",
    "version": 3
   },
   "file_extension": ".py",
   "mimetype": "text/x-python",
   "name": "python",
   "nbconvert_exporter": "python",
   "pygments_lexer": "ipython3",
   "version": "3.8.8"
  }
 },
 "nbformat": 4,
 "nbformat_minor": 4
}
