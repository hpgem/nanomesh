{
 "cells": [
  {
   "cell_type": "code",
   "execution_count": null,
   "metadata": {},
   "outputs": [],
   "source": [
    "%load_ext autoreload\n",
    "%autoreload 2\n",
    "%matplotlib notebook"
   ]
  },
  {
   "cell_type": "markdown",
   "metadata": {},
   "source": [
    "## Get base vectors using 3d FFT"
   ]
  },
  {
   "cell_type": "code",
   "execution_count": null,
   "metadata": {},
   "outputs": [],
   "source": [
    "from nanomesh.volume import Volume\n",
    "import pyvista as pv\n",
    "from skimage import filters\n",
    "import numpy as np"
   ]
  },
  {
   "cell_type": "code",
   "execution_count": null,
   "metadata": {},
   "outputs": [],
   "source": [
    "import scipy.ndimage as ndi\n",
    "from skimage import measure\n",
    "from sklearn.cluster import DBSCAN, MeanShift\n",
    "from dataclasses import dataclass\n",
    "\n",
    "@dataclass\n",
    "class Cluster:\n",
    "    i: int\n",
    "    samples: np.ndarray\n",
    "    \n",
    "    @property\n",
    "    def magnitude(self):\n",
    "        return np.linalg.norm(self.vector)\n",
    "    @property\n",
    "    def confidence(self):\n",
    "        return self.std.mean()\n",
    "    @property\n",
    "    def count(self):\n",
    "        return len(self.samples)\n",
    "    @property\n",
    "    def vector(self):\n",
    "        return self.samples.mean(axis=0)\n",
    "    @property\n",
    "    def std(self):\n",
    "        return self.samples.std(axis=0)\n",
    "    @property\n",
    "    def magnitude(self):\n",
    "        return np.linalg.norm(self.vector)\n",
    "    def vector_normalized(self):\n",
    "        return self.vector / self.magnitude\n",
    "    \n",
    "def find_peaks(image, *, threshold: float, min_sigma: float =1.0, max_sigma: float = 2.0):\n",
    "    \"\"\"Find peaks in image using difference of gaussian.\"\"\"\n",
    "    \n",
    "    difference = ndi.gaussian_filter(image, min_sigma) - ndi.gaussian_filter(image, max_sigma)\n",
    "    labels, numlabels = ndi.label(difference > threshold)\n",
    "    props = measure.regionprops(labels, image)\n",
    "    peaks = np.array([prop.centroid for prop in props])\n",
    "    \n",
    "    return peaks\n",
    "\n",
    "\n",
    "def find_periodic(peaks) -> dict:\n",
    "    \"\"\"Find periodic vectors in list of peaks.\n",
    "    \n",
    "    TODO: uniqify vectors (i.e. select one quadrant)\n",
    "    \"\"\"\n",
    "    from scipy.spatial import Delaunay\n",
    "\n",
    "    D = Delaunay(peaks)\n",
    "\n",
    "    vertices = D.points\n",
    "    faces = D.simplices\n",
    "    # diffs = vertices[faces] - vertices[faces][:,1:2,:]\n",
    "    diff = (vertices[faces] - vertices[faces][:,0:1,:]).reshape(-1,3)\n",
    "    \n",
    "    db = DBSCAN(eps=1.0, min_samples=5).fit(diff)\n",
    "    core_samples = db.core_sample_indices_\n",
    "    labels = db.labels_[core_samples]\n",
    "\n",
    "    core_samples = diff[core_samples]\n",
    "    \n",
    "    unique, counts = np.unique(labels, return_counts=True)\n",
    "    \n",
    "    d = {}\n",
    "    for label, count in zip(unique, counts):\n",
    "        vectors = core_samples[labels==label]\n",
    "        d[label] = Cluster(i=label, samples=vectors)\n",
    "\n",
    "    return d"
   ]
  },
  {
   "cell_type": "code",
   "execution_count": null,
   "metadata": {},
   "outputs": [],
   "source": [
    "vol = Volume.load('sample_data.npy')\n",
    "vol.show_slice()"
   ]
  },
  {
   "cell_type": "markdown",
   "metadata": {},
   "source": [
    "Use 3D FFT to find regularity in volume."
   ]
  },
  {
   "cell_type": "code",
   "execution_count": null,
   "metadata": {},
   "outputs": [],
   "source": [
    "fourier = np.fft.fftn(vol.image)\n",
    "scaled = np.abs(np.fft.fftshift(fourier))\n",
    "clipped = np.clip(scaled, a_min=0, a_max=1e7)[50:150, 50:150, 50:150]\n",
    "\n",
    "vol_clipped = Volume(clipped)\n",
    "\n",
    "vol_clipped.show_slice(index=50, along='y')"
   ]
  },
  {
   "cell_type": "markdown",
   "metadata": {},
   "source": [
    "Find peaks using difference of gaussians"
   ]
  },
  {
   "cell_type": "code",
   "execution_count": null,
   "metadata": {},
   "outputs": [],
   "source": [
    "peaks = find_peaks(scaled, threshold=1e6)\n",
    "peaks"
   ]
  },
  {
   "cell_type": "markdown",
   "metadata": {},
   "source": [
    "Use delaunay triangulation with cluster analysis to find periodic vectors."
   ]
  },
  {
   "cell_type": "code",
   "execution_count": null,
   "metadata": {},
   "outputs": [],
   "source": [
    "clusters = find_periodic(peaks)\n",
    "clusters"
   ]
  },
  {
   "cell_type": "markdown",
   "metadata": {},
   "source": [
    "Plot cluster centers and cluster samples."
   ]
  },
  {
   "cell_type": "code",
   "execution_count": null,
   "metadata": {},
   "outputs": [],
   "source": [
    "samples = np.vstack([val.samples for val in clusters.values()])\n",
    "centers = np.array([val.vector for val in clusters.values()])\n",
    "ORIGIN = np.array([0,0,0]).reshape(1,3)\n",
    "\n",
    "plotter = pv.PlotterITK()\n",
    "plotter.add_points(centers)\n",
    "plotter.add_points(samples)\n",
    "plotter.add_points(ORIGIN)\n",
    "plotter.show()"
   ]
  },
  {
   "cell_type": "markdown",
   "metadata": {},
   "source": [
    "Find similar clusters"
   ]
  },
  {
   "cell_type": "code",
   "execution_count": null,
   "metadata": {},
   "outputs": [],
   "source": [
    "import matplotlib.pyplot as plt\n",
    "\n",
    "thresh = 0.95\n",
    "\n",
    "centers_normalized = centers / np.linalg.norm(centers,axis=1).reshape(16,1)\n",
    "corrmat = np.dot(centers_normalized, centers_normalized.T)\n",
    "\n",
    "upper_tri = np.triu(corrmat, k=1)\n",
    "sel = np.abs(upper_tri) > thresh\n",
    "index = np.argwhere(sel)\n",
    "\n",
    "plt.imshow(sel)\n",
    "plt.show()\n",
    "\n",
    "index"
   ]
  },
  {
   "cell_type": "code",
   "execution_count": null,
   "metadata": {},
   "outputs": [],
   "source": []
  },
  {
   "cell_type": "code",
   "execution_count": null,
   "metadata": {},
   "outputs": [],
   "source": []
  },
  {
   "cell_type": "code",
   "execution_count": null,
   "metadata": {},
   "outputs": [],
   "source": []
  },
  {
   "cell_type": "code",
   "execution_count": null,
   "metadata": {},
   "outputs": [],
   "source": []
  },
  {
   "cell_type": "code",
   "execution_count": null,
   "metadata": {},
   "outputs": [],
   "source": []
  },
  {
   "cell_type": "code",
   "execution_count": null,
   "metadata": {},
   "outputs": [],
   "source": []
  },
  {
   "cell_type": "code",
   "execution_count": null,
   "metadata": {},
   "outputs": [],
   "source": []
  },
  {
   "cell_type": "code",
   "execution_count": null,
   "metadata": {},
   "outputs": [],
   "source": []
  },
  {
   "cell_type": "code",
   "execution_count": null,
   "metadata": {},
   "outputs": [],
   "source": []
  },
  {
   "cell_type": "code",
   "execution_count": null,
   "metadata": {},
   "outputs": [],
   "source": []
  },
  {
   "cell_type": "code",
   "execution_count": null,
   "metadata": {},
   "outputs": [],
   "source": []
  },
  {
   "cell_type": "code",
   "execution_count": null,
   "metadata": {},
   "outputs": [],
   "source": []
  },
  {
   "cell_type": "code",
   "execution_count": null,
   "metadata": {},
   "outputs": [],
   "source": []
  },
  {
   "cell_type": "code",
   "execution_count": null,
   "metadata": {},
   "outputs": [],
   "source": []
  },
  {
   "cell_type": "code",
   "execution_count": null,
   "metadata": {},
   "outputs": [],
   "source": []
  },
  {
   "cell_type": "code",
   "execution_count": null,
   "metadata": {},
   "outputs": [],
   "source": []
  },
  {
   "cell_type": "code",
   "execution_count": null,
   "metadata": {},
   "outputs": [],
   "source": []
  },
  {
   "cell_type": "code",
   "execution_count": null,
   "metadata": {},
   "outputs": [],
   "source": []
  },
  {
   "cell_type": "code",
   "execution_count": null,
   "metadata": {},
   "outputs": [],
   "source": []
  },
  {
   "cell_type": "code",
   "execution_count": null,
   "metadata": {},
   "outputs": [],
   "source": [
    "def merge_similar(clusters, thresh = 0.95):\n",
    "    centers_normalized = centers / np.linalg.norm(centers,axis=1).reshape(16,1)\n",
    "    corrmat = np.dot(centers_normalized, centers_normalized.T)\n",
    "\n",
    "    upper_tri = np.triu(corrmat, k=1)\n",
    "    sel = np.abs(upper_tri) > thresh\n",
    "    index = np.argwhere(sel)\n",
    "    \n",
    "    for i, j in index:\n",
    "        c1 = clusters[i]\n",
    "        c2 = clusters[j]\n",
    "        assert (c1['magnitude'] - c2['magnitude']) < 0.05\n",
    "        \n",
    "    return\n",
    " \n",
    "\n",
    "for i, j in index:\n",
    "    print(clusters[i])\n",
    "    print(clusters[j])\n",
    "    print()"
   ]
  },
  {
   "cell_type": "code",
   "execution_count": null,
   "metadata": {},
   "outputs": [],
   "source": []
  },
  {
   "cell_type": "code",
   "execution_count": null,
   "metadata": {},
   "outputs": [],
   "source": [
    "np.dot(centers_normalized[3], centers_normalized[12])"
   ]
  },
  {
   "cell_type": "code",
   "execution_count": null,
   "metadata": {},
   "outputs": [],
   "source": [
    "np.dot(centers[1], centers[1])"
   ]
  },
  {
   "cell_type": "code",
   "execution_count": null,
   "metadata": {},
   "outputs": [],
   "source": [
    "axes = (\n",
    "    np.array([0,0,1]),\n",
    "    np.array([0,1,0]),\n",
    "    np.array([1,0,0]),\n",
    ")"
   ]
  },
  {
   "cell_type": "code",
   "execution_count": null,
   "metadata": {},
   "outputs": [],
   "source": [
    "for c in clusters.values():\n",
    "    v1 = c['vector']\n",
    "    v2 = axes[2]\n",
    "\n",
    "    v1 = v1 / np.linalg.norm(v1)\n",
    "    v2 = v2 / np.linalg.norm(v2)\n",
    "    \n",
    "    dot_product = np.dot(v1, v2)\n",
    "    angle = np.arccos(dot_product)\n",
    "    \n",
    "    print(np.degrees(angle))"
   ]
  },
  {
   "cell_type": "code",
   "execution_count": null,
   "metadata": {},
   "outputs": [],
   "source": [
    "x = 0.1\n",
    "\n",
    "fz = lambda v: v + (np.random.random()-0.5)*x\n",
    "\n",
    "a = np.array([fz(1), fz(0), fz(0)])\n",
    "b = np.array([fz(1), fz(0), fz(0)])\n",
    "\n",
    "print(a)\n",
    "print(b)\n",
    "\n",
    "np.dot(a, b)"
   ]
  },
  {
   "cell_type": "code",
   "execution_count": null,
   "metadata": {},
   "outputs": [],
   "source": [
    "a = centers[4] / np.linalg.norm(centers[4])\n",
    "b = centers[6] / np.linalg.norm(centers[6])\n",
    "\n",
    "np.dot(a, b)"
   ]
  },
  {
   "cell_type": "code",
   "execution_count": null,
   "metadata": {},
   "outputs": [],
   "source": [
    "a,b"
   ]
  },
  {
   "cell_type": "code",
   "execution_count": null,
   "metadata": {},
   "outputs": [],
   "source": []
  }
 ],
 "metadata": {
  "kernelspec": {
   "display_name": "nanomesh",
   "language": "python",
   "name": "nanomesh"
  },
  "language_info": {
   "codemirror_mode": {
    "name": "ipython",
    "version": 3
   },
   "file_extension": ".py",
   "mimetype": "text/x-python",
   "name": "python",
   "nbconvert_exporter": "python",
   "pygments_lexer": "ipython3",
   "version": "3.8.8"
  }
 },
 "nbformat": 4,
 "nbformat_minor": 4
}
