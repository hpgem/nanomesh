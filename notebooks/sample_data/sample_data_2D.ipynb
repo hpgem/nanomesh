{
 "cells": [
  {
   "cell_type": "code",
   "execution_count": null,
   "metadata": {},
   "outputs": [],
   "source": [
    "%load_ext autoreload\n",
    "%autoreload 2"
   ]
  },
  {
   "cell_type": "markdown",
   "metadata": {},
   "source": [
    "## TODO\n",
    "- Generate periodic 2d mesh\n",
    "- [x] Write as GMSH (gmsh22)\n",
    "- Use pygalmesh with contour instead of points/edges\n",
    "- Pygalmesh multi-domain for 2d mesh? (i.e. 0==air, 1==Si, 2==?? element\n",
    "- Add cropping method (select one pore)\n",
    "- [x] Use k-means for distributing points in area\n",
    "- [x] Add subroutine to calculate density of points for kmeans\n",
    "- Generate inside mesh as well as outside mesh in same function\n",
    "- Implement periodicity by tiling image with a wrap-around buffer (i.e. tile 3x3 -> triangulate -> and pull out the middle)\n",
    "- Close contours and use subdivision algorithm to generate edge points"
   ]
  },
  {
   "cell_type": "code",
   "execution_count": null,
   "metadata": {},
   "outputs": [],
   "source": [
    "from nanomesh.volume import Volume\n",
    "from nanomesh.plane import Plane"
   ]
  },
  {
   "cell_type": "code",
   "execution_count": null,
   "metadata": {},
   "outputs": [],
   "source": [
    "vol = Volume.load('sample_data.npy')"
   ]
  },
  {
   "cell_type": "code",
   "execution_count": null,
   "metadata": {},
   "outputs": [],
   "source": [
    "vol.show_slice(along='x')"
   ]
  },
  {
   "cell_type": "code",
   "execution_count": null,
   "metadata": {},
   "outputs": [],
   "source": [
    "plane = vol.select_plane(x=161)"
   ]
  },
  {
   "cell_type": "code",
   "execution_count": null,
   "metadata": {},
   "outputs": [],
   "source": [
    "plane.show()"
   ]
  },
  {
   "cell_type": "code",
   "execution_count": null,
   "metadata": {},
   "outputs": [],
   "source": [
    "from skimage import filters"
   ]
  },
  {
   "cell_type": "code",
   "execution_count": null,
   "metadata": {},
   "outputs": [],
   "source": [
    "plane_gauss = plane.apply_np(filters.gaussian, sigma=5)\n",
    "plane_gauss.show()"
   ]
  },
  {
   "cell_type": "code",
   "execution_count": null,
   "metadata": {},
   "outputs": [],
   "source": [
    "filters.try_all_threshold(plane_gauss.array_view, figsize=(10, 15), verbose=True)"
   ]
  },
  {
   "cell_type": "code",
   "execution_count": null,
   "metadata": {},
   "outputs": [],
   "source": [
    "thresh = filters.threshold_li(plane_gauss.array_view)\n",
    "\n",
    "seg = Plane.from_array(1.0 * (plane_gauss.array_view >= thresh))\n",
    "seg.show()"
   ]
  },
  {
   "cell_type": "code",
   "execution_count": null,
   "metadata": {
    "tags": []
   },
   "outputs": [],
   "source": [
    "mesh = seg.generate_mesh(pad=True, point_density=1/100, max_contour_dist=4, plot=True)"
   ]
  },
  {
   "cell_type": "code",
   "execution_count": null,
   "metadata": {},
   "outputs": [],
   "source": [
    "import pyvista as pv\n",
    "pv.plot_itk(mesh)"
   ]
  },
  {
   "cell_type": "code",
   "execution_count": null,
   "metadata": {},
   "outputs": [],
   "source": [
    "mesh.write(\"plane.msh\", file_format='gmsh22')"
   ]
  },
  {
   "cell_type": "markdown",
   "metadata": {},
   "source": [
    "## Using pygalmesh"
   ]
  },
  {
   "cell_type": "code",
   "execution_count": null,
   "metadata": {},
   "outputs": [],
   "source": [
    "import pygalmesh\n",
    "\n",
    "points = np.vstack(contours)\n",
    "\n",
    "index = 0\n",
    "constraints = []\n",
    "for contour in contours:\n",
    "    n = len(contour) - 2\n",
    "    contour_constraints = [[index+k, index+k + 1] for k in range(n)] + [[index+n, index]]\n",
    "    index += len(contour_constraints)\n",
    "    constraints.extend(contour_constraints)\n",
    "    break\n",
    "\n",
    "print(constraints)\n",
    "\n",
    "mesh = pygalmesh.generate_2d(\n",
    "    points=points,\n",
    "    constraints=constraints,\n",
    "    max_edge_size=10,\n",
    "    num_lloyd_steps=0,\n",
    "    B=1.4,\n",
    ")\n",
    "\n",
    "# pv.plot_itk(mesh)\n",
    "\n",
    "plt.figure(figsize=(12, 12))\n",
    "\n",
    "ax = plt.subplot(223)\n",
    "ax.set_title(f'All triangles ({len(triangles)})')\n",
    "ax.imshow(image, cmap='gray')\n",
    "ax.triplot(*mesh.points.T[::-1], mesh.cells[0].data)"
   ]
  },
  {
   "cell_type": "markdown",
   "metadata": {},
   "source": [
    "## Optimize mesh"
   ]
  },
  {
   "cell_type": "code",
   "execution_count": null,
   "metadata": {
    "tags": []
   },
   "outputs": [],
   "source": [
    "import optimesh\n",
    "import meshplex\n",
    "meshp = meshplex.Mesh(mesh.points, mesh.cells[0].data)\n",
    "new = optimesh.optimize(meshp, method=\"CVT (block-diagonal)\", tol=1.0e-5, max_num_steps=100)"
   ]
  },
  {
   "cell_type": "code",
   "execution_count": null,
   "metadata": {},
   "outputs": [],
   "source": [
    "import pygmsh"
   ]
  },
  {
   "cell_type": "code",
   "execution_count": null,
   "metadata": {},
   "outputs": [],
   "source": [
    "import pygmsh\n",
    "\n",
    "with pygmsh.geo.Geometry() as geom:\n",
    "    geom.add_rectangle(0, 1, 0, 1, z=1)\n",
    "    \n",
    "    \n",
    "    mesh = geom.generate_mesh()"
   ]
  },
  {
   "cell_type": "code",
   "execution_count": null,
   "metadata": {},
   "outputs": [],
   "source": [
    "pv.plot_itk(mesh)"
   ]
  },
  {
   "cell_type": "code",
   "execution_count": null,
   "metadata": {},
   "outputs": [],
   "source": [
    "# meshio.write_points_cells(\"in.vtu\", verts, [(\"triangle\", faces)])\n",
    "import pygalmesh\n",
    "\n",
    "# mesh.write('in.vtu')\n",
    "\n",
    "# mesh = pygalmesh.remesh_surface(\n",
    "#     \"in.vtu\",\n",
    "#     max_edge_size_at_feature_edges=0.025,\n",
    "#     min_facet_angle=25,\n",
    "#     max_radius_surface_delaunay_ball=0.1,\n",
    "#     max_facet_distance=0.001,\n",
    "#     verbose=True,\n",
    "# )"
   ]
  },
  {
   "cell_type": "code",
   "execution_count": null,
   "metadata": {},
   "outputs": [],
   "source": []
  }
 ],
 "metadata": {
  "kernelspec": {
   "display_name": "nanomesh",
   "language": "python",
   "name": "nanomesh"
  },
  "language_info": {
   "codemirror_mode": {
    "name": "ipython",
    "version": 3
   },
   "file_extension": ".py",
   "mimetype": "text/x-python",
   "name": "python",
   "nbconvert_exporter": "python",
   "pygments_lexer": "ipython3",
   "version": "3.8.0"
  },
  "toc-autonumbering": false,
  "toc-showcode": true,
  "toc-showmarkdowntxt": false,
  "toc-showtags": false
 },
 "nbformat": 4,
 "nbformat_minor": 4
}
