{
 "cells": [
  {
   "cell_type": "code",
   "execution_count": 1,
   "id": "37ed3325",
   "metadata": {},
   "outputs": [],
   "source": [
    "%load_ext autoreload\n",
    "%autoreload 2\n",
    "%matplotlib notebook"
   ]
  },
  {
   "cell_type": "markdown",
   "id": "f7b2f543",
   "metadata": {},
   "source": [
    "### Tetgen multi-domain proof of concept"
   ]
  },
  {
   "cell_type": "code",
   "execution_count": 2,
   "id": "225cc592",
   "metadata": {},
   "outputs": [],
   "source": [
    "from itertools import islice\n",
    "from collections import namedtuple\n",
    "import numpy as np"
   ]
  },
  {
   "cell_type": "markdown",
   "id": "3b8ddd60",
   "metadata": {},
   "source": [
    "Tetgen file formats:\n",
    "http://wias-berlin.de/software/tetgen/1.5/doc/manual/manual006.html#ff_poly"
   ]
  },
  {
   "cell_type": "code",
   "execution_count": 3,
   "id": "eb92ad00",
   "metadata": {},
   "outputs": [
    {
     "name": "stdout",
     "output_type": "stream",
     "text": [
      "Jupyter environment detected. Enabling Open3D WebVisualizer.\n",
      "[Open3D INFO] WebRTC GUI backend enabled.\n",
      "[Open3D INFO] WebRTCWindowSystem: HTTP handshake server disabled.\n"
     ]
    },
    {
     "data": {
      "application/vnd.jupyter.widget-view+json": {
       "model_id": "bbb8047fadef4bbaa4b9e6b94526655c",
       "version_major": 2,
       "version_minor": 0
      },
      "text/plain": [
       "Viewer(geometries=[{'vtkClass': 'vtkPolyData', 'points': {'vtkClass': 'vtkPoints', 'name': '_points', 'numberO…"
      ]
     },
     "metadata": {},
     "output_type": "display_data"
    }
   ],
   "source": [
    "from nanomesh.mesh_container import TriangleMesh\n",
    "\n",
    "vertices = np.array([\n",
    "  [0.0, 0.0, 0.0],  # A\n",
    "  [4.0, 0.0, 0.0],  # B\n",
    "  [4.0, 4.0, 0.0],  # C\n",
    "  [0.0, 4.0, 0.0],  # D\n",
    "  [0.0, 0.0, 4.0],  # E\n",
    "  [4.0, 0.0, 4.0],  # F\n",
    "  [4.0, 4.0, 4.0],  # G\n",
    "  [0.0, 4.0, 4.0],  # H\n",
    "    \n",
    "  [1.0, 1.0, 1.0],  # a\n",
    "  [3.0, 1.0, 1.0],  # b\n",
    "  [3.0, 3.0, 1.0],  # c\n",
    "  [1.0, 3.0, 1.0],  # d\n",
    "  [1.0, 1.0, 3.0],  # e\n",
    "  [3.0, 1.0, 3.0],  # f\n",
    "  [3.0, 3.0, 3.0],  # g\n",
    "  [1.0, 3.0, 3.0],  # h\n",
    "])\n",
    "\n",
    "faces = np.array([\n",
    "    [0, 1, 2],\n",
    "    [2, 3, 0],\n",
    "    [0, 1, 5],\n",
    "    [5, 4, 0],\n",
    "    [1, 2, 6],\n",
    "    [6, 5, 1],\n",
    "    [3, 2, 6],\n",
    "    [6, 7, 3],\n",
    "    [0, 3, 7],\n",
    "    [7, 4, 0],\n",
    "    [5, 6, 7],\n",
    "    [7, 4, 5],\n",
    "\n",
    "    [0+8, 1+8, 2+8],\n",
    "    [2+8, 3+8, 0+8],\n",
    "    [0+8, 1+8, 5+8],\n",
    "    [5+8, 4+8, 0+8],\n",
    "    [1+8, 2+8, 6+8],\n",
    "    [6+8, 5+8, 1+8],\n",
    "    [3+8, 2+8, 6+8],\n",
    "    [6+8, 7+8, 3+8],\n",
    "    [0+8, 3+8, 7+8],\n",
    "    [7+8, 4+8, 0+8],\n",
    "    [5+8, 6+8, 7+8],\n",
    "    [7+8, 4+8, 5+8],\n",
    "])\n",
    "\n",
    "face_markers = np.array([1,1,2,2,3,3,4,4,5,5,6,6,7,7,8,8,9,9,10,10,11,11,12,12,13,13,14,14,15,15])\n",
    "\n",
    "region_markers = {\n",
    "  10: [0.5, 0.5, 0.5],\n",
    "  20: [2.0, 2.0, 2.0],   \n",
    "}\n",
    "\n",
    "tetras = TriangleMesh(vertices=vertices, faces=faces)\n",
    "tetras.plot_itk()"
   ]
  },
  {
   "cell_type": "code",
   "execution_count": 4,
   "id": "fc994d7f",
   "metadata": {},
   "outputs": [],
   "source": [
    "from nanomesh import tetgen\n",
    "\n",
    "fname = 'cube.smesh'\n",
    "tetgen.write_smesh(fname, tetras, region_markers=region_markers)"
   ]
  },
  {
   "cell_type": "code",
   "execution_count": 5,
   "id": "db4c8871",
   "metadata": {},
   "outputs": [
    {
     "data": {
      "text/plain": [
       "CompletedProcess(args='tetgen -pq1.2 -A -a0.1 cube.smesh', returncode=0)"
      ]
     },
     "execution_count": 5,
     "metadata": {},
     "output_type": "execute_result"
    }
   ],
   "source": [
    "import subprocess as sp\n",
    "\n",
    "sp.run(f\"tetgen -pq1.2 -A -a0.1 {fname}\")"
   ]
  },
  {
   "cell_type": "code",
   "execution_count": 73,
   "id": "ac04485b",
   "metadata": {},
   "outputs": [
    {
     "data": {
      "text/plain": [
       "dtype('int32')"
      ]
     },
     "execution_count": 73,
     "metadata": {},
     "output_type": "execute_result"
    }
   ],
   "source": [
    "tet.labels.dtype"
   ]
  },
  {
   "cell_type": "code",
   "execution_count": 90,
   "id": "f3299f1b",
   "metadata": {},
   "outputs": [
    {
     "data": {
      "text/plain": [
       "1457"
      ]
     },
     "execution_count": 90,
     "metadata": {},
     "output_type": "execute_result"
    }
   ],
   "source": [
    "len(x)"
   ]
  },
  {
   "cell_type": "code",
   "execution_count": 119,
   "id": "dfa84457",
   "metadata": {},
   "outputs": [],
   "source": [
    "from nanomesh.mesh_container import TetraMesh\n",
    "\n",
    "tet = TetraMesh.read('cube.1.ele')"
   ]
  },
  {
   "cell_type": "code",
   "execution_count": 120,
   "id": "e4de10c8",
   "metadata": {},
   "outputs": [
    {
     "data": {
      "application/vnd.jupyter.widget-view+json": {
       "model_id": "a4e114b2f41c44c98754b50d924ce467",
       "version_major": 2,
       "version_minor": 0
      },
      "text/plain": [
       "Viewer(geometries=[{'vtkClass': 'vtkPolyData', 'points': {'vtkClass': 'vtkPoints', 'name': '_points', 'numberO…"
      ]
     },
     "metadata": {},
     "output_type": "display_data"
    }
   ],
   "source": [
    "tet.plot_itk()"
   ]
  },
  {
   "cell_type": "code",
   "execution_count": 82,
   "id": "3120e0a0",
   "metadata": {},
   "outputs": [
    {
     "data": {
      "text/plain": [
       "array([10, 20])"
      ]
     },
     "execution_count": 82,
     "metadata": {},
     "output_type": "execute_result"
    }
   ],
   "source": [
    "np.unique(x)"
   ]
  },
  {
   "cell_type": "code",
   "execution_count": null,
   "id": "3209aa64",
   "metadata": {},
   "outputs": [],
   "source": []
  },
  {
   "cell_type": "code",
   "execution_count": null,
   "id": "b02e4f6e",
   "metadata": {},
   "outputs": [],
   "source": []
  },
  {
   "cell_type": "code",
   "execution_count": null,
   "id": "8d6c6a95",
   "metadata": {},
   "outputs": [],
   "source": []
  },
  {
   "cell_type": "code",
   "execution_count": null,
   "id": "d320a012",
   "metadata": {},
   "outputs": [],
   "source": []
  },
  {
   "cell_type": "code",
   "execution_count": null,
   "id": "21751ca1",
   "metadata": {},
   "outputs": [],
   "source": []
  },
  {
   "cell_type": "code",
   "execution_count": null,
   "id": "5a50df05",
   "metadata": {},
   "outputs": [],
   "source": []
  },
  {
   "cell_type": "code",
   "execution_count": null,
   "id": "c55cc582",
   "metadata": {},
   "outputs": [],
   "source": []
  },
  {
   "cell_type": "code",
   "execution_count": null,
   "id": "3c834819",
   "metadata": {},
   "outputs": [],
   "source": []
  },
  {
   "cell_type": "code",
   "execution_count": null,
   "id": "12618a54",
   "metadata": {},
   "outputs": [],
   "source": []
  },
  {
   "cell_type": "code",
   "execution_count": null,
   "id": "3bc7b00f",
   "metadata": {},
   "outputs": [],
   "source": []
  },
  {
   "cell_type": "code",
   "execution_count": null,
   "id": "4dfa2f68",
   "metadata": {},
   "outputs": [],
   "source": []
  }
 ],
 "metadata": {
  "kernelspec": {
   "display_name": "nanomesh",
   "language": "python",
   "name": "nanomesh"
  },
  "language_info": {
   "codemirror_mode": {
    "name": "ipython",
    "version": 3
   },
   "file_extension": ".py",
   "mimetype": "text/x-python",
   "name": "python",
   "nbconvert_exporter": "python",
   "pygments_lexer": "ipython3",
   "version": "3.8.10"
  }
 },
 "nbformat": 4,
 "nbformat_minor": 5
}
