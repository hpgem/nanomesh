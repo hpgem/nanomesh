{
 "cells": [
  {
   "cell_type": "code",
   "execution_count": 1,
   "metadata": {},
   "outputs": [],
   "source": [
    "%load_ext autoreload\n",
    "%autoreload 2\n",
    "%matplotlib ipympl"
   ]
  },
  {
   "cell_type": "markdown",
   "metadata": {},
   "source": [
    "## 3D meshing example\n",
    "\n",
    "This notebook shows how to\n",
    "\n",
    "1. Load and visualize a volume\n",
    "1. Apply image filters to and segment image\n",
    "1. Generate a 3D surface mesh from the binary image\n",
    "1. Decimate/simplify a 3D mesh\n",
    "1. Visualize and save the mesh to gmsh22 format\n",
    "\n",
    "### Todo:\n",
    "\n",
    "- Generate 3D volume mesh\n",
    "- Surface mesh must be 'watertight'\n",
    "- Constrained Delaunay triangulation to fix surface (do not go outside surface), i.e.\n",
    "https://notebook.community/daniel-koehn/Theory-of-seismic-waves-II/02_Mesh_generation/4_Tri_mesh_delaunay_yigma_tepe,\n",
    "https://wias-berlin.de/software/tetgen/1.5/doc/manual/manual002.html#sec7"
   ]
  },
  {
   "cell_type": "code",
   "execution_count": 2,
   "metadata": {},
   "outputs": [],
   "source": [
    "from nanomesh.volume import Volume\n",
    "import pyvista as pv\n",
    "from skimage import filters"
   ]
  },
  {
   "cell_type": "code",
   "execution_count": 3,
   "metadata": {},
   "outputs": [
    {
     "data": {
      "application/vnd.jupyter.widget-view+json": {
       "model_id": "2931b2ba773c496da6431ec94a92ca16",
       "version_major": 2,
       "version_minor": 0
      },
      "text/plain": [
       "Canvas(toolbar=Toolbar(toolitems=[('Home', 'Reset original view', 'home', 'home'), ('Back', 'Back to previous …"
      ]
     },
     "metadata": {},
     "output_type": "display_data"
    },
    {
     "data": {
      "application/vnd.jupyter.widget-view+json": {
       "model_id": "3c4649a7ed97413b90cf9b9f1e20a8b1",
       "version_major": 2,
       "version_minor": 0
      },
      "text/plain": [
       "interactive(children=(IntSlider(value=0, description='index', max=199), Dropdown(description='along', options=…"
      ]
     },
     "metadata": {},
     "output_type": "display_data"
    },
    {
     "data": {
      "text/plain": [
       "<nanomesh.utils.SliceViewer at 0x26d1a3f2580>"
      ]
     },
     "execution_count": 3,
     "metadata": {},
     "output_type": "execute_result"
    }
   ],
   "source": [
    "vol = Volume.load('sample_data.npy')\n",
    "vol_gauss = vol.apply(filters.gaussian, sigma=5)\n",
    "thresh = filters.threshold_li(vol_gauss.image)\n",
    "\n",
    "seg_vol = Volume(1.0 * (vol_gauss.image >= thresh))\n",
    "seg_vol.show_slice()"
   ]
  },
  {
   "cell_type": "markdown",
   "metadata": {},
   "source": [
    "### Generate 3d tetragonal mesh"
   ]
  },
  {
   "cell_type": "code",
   "execution_count": 4,
   "metadata": {},
   "outputs": [],
   "source": [
    "import numpy as np\n",
    "\n",
    "def simplify_mesh_trimesh(vertices, faces, n_faces):\n",
    "    \"\"\"Simplify mesh using trimesh.\"\"\"\n",
    "    import trimesh\n",
    "    mesh = trimesh.Trimesh(vertices=verts, faces=faces)\n",
    "    decimated = mesh.simplify_quadratic_decimation(n_faces)\n",
    "    return decimated\n",
    "\n",
    "def simplify_mesh_open3d(vertices: np.ndarray, faces: np.ndarray, n_faces):\n",
    "    \"\"\"Simplify mesh using open3d.\"\"\"\n",
    "    import open3d\n",
    "    o3d_verts = open3d.utility.Vector3dVector(vertices)\n",
    "    o3d_faces = open3d.utility.Vector3iVector(faces)\n",
    "    o3d_mesh = open3d.geometry.TriangleMesh(o3d_verts, o3d_faces)\n",
    "\n",
    "    o3d_new_mesh = o3d_mesh.simplify_quadric_decimation(n_faces)\n",
    "    \n",
    "    new_verts = np.array(o3d_new_mesh.vertices)\n",
    "    new_faces = np.array(o3d_new_mesh.triangles)\n",
    "    \n",
    "    decimated = meshio.Mesh(points=new_verts, cells=[('triangle', new_faces)])\n",
    "    return decimated"
   ]
  },
  {
   "cell_type": "code",
   "execution_count": 88,
   "metadata": {},
   "outputs": [],
   "source": [
    "import pyvista as pv\n",
    "\n",
    "def meshio_to_polydata(mesh):\n",
    "    return pv.from_meshio(mesh)\n",
    "\n",
    "def meshio_to_trimesh():\n",
    "    raise NotImplementedError\n",
    "\n",
    "def trimesh_to_meshio():\n",
    "    raise NotImplementedError\n",
    "\n",
    "def trimesh_to_polydata():\n",
    "    raise NotImplementedError\n",
    "\n",
    "def polydata_to_meshio():\n",
    "    raise NotImplementedError\n",
    "\n",
    "def polydata_to_trimesh():\n",
    "    raise NotImplementedError\n",
    "\n",
    "def tetrahedra_to_mesh(points, faces, mask):\n",
    "    \"\"\"Convert list of tetrahedra and mask to meshio.Mesh\"\"\"\n",
    "    if mask is not None:\n",
    "        faces = faces[mask]\n",
    "\n",
    "    cells = [\n",
    "        ('tetra', faces),\n",
    "    ]\n",
    "\n",
    "    mesh = meshio.Mesh(points, cells)\n",
    "    mesh.remove_orphaned_nodes()\n",
    "    \n",
    "    return mesh\n",
    "\n",
    "def triangles_to_mesh(points, faces, mask=None):\n",
    "    \"\"\"Convert list of triangles and mask to meshio.Mesh\"\"\"\n",
    "    if mask is not None:\n",
    "        faces = faces[mask]\n",
    "    \n",
    "    cells = [\n",
    "        ('triangle', faces),\n",
    "    ]\n",
    "\n",
    "    mesh = meshio.Mesh(points, cells)\n",
    "    mesh.remove_orphaned_nodes()\n",
    "    \n",
    "    return mesh"
   ]
  },
  {
   "cell_type": "code",
   "execution_count": 126,
   "metadata": {},
   "outputs": [],
   "source": [
    "def remove_pad_from_mesh(points, tetrahedra, pad_width, shape):\n",
    "    centers = points[tetrahedra].mean(1)\n",
    "    dimx, dimy, dimz = np.array(shape) - pad_width*2\n",
    "\n",
    "    maskx = (centers[:, 2] >= pad_width) & (centers[:, 2] <= dimx - pad_width)\n",
    "    masky = (centers[:, 1] >= pad_width) & (centers[:, 1] <= dimy - pad_width)\n",
    "    maskz = (centers[:, 0] >= pad_width) & (centers[:, 0] <= dimz - pad_width)\n",
    "\n",
    "    mask = maskx * masky * maskz\n",
    "    mask = mask.nonzero()[0]\n",
    "    \n",
    "    return_mesh = tetrahedra_to_mesh(points, tetrahedra, mask)\n",
    "    return_mesh.remove_orphaned_nodes\n",
    "\n",
    "    return return_mesh"
   ]
  },
  {
   "cell_type": "code",
   "execution_count": 195,
   "metadata": {},
   "outputs": [
    {
     "data": {
      "application/vnd.jupyter.widget-view+json": {
       "model_id": "3d8284f048654962b015ed42d8b9f00f",
       "version_major": 2,
       "version_minor": 0
      },
      "text/plain": [
       "Viewer(geometries=[{'vtkClass': 'vtkPolyData', 'points': {'vtkClass': 'vtkPoints', 'name': '_points', 'numberO…"
      ]
     },
     "metadata": {},
     "output_type": "display_data"
    },
    {
     "data": {
      "application/vnd.jupyter.widget-view+json": {
       "model_id": "3d8284f048654962b015ed42d8b9f00f",
       "version_major": 2,
       "version_minor": 0
      },
      "text/plain": [
       "Viewer(geometries=[{'vtkClass': 'vtkPolyData', 'points': {'vtkClass': 'vtkPoints', 'name': '_points', 'numberO…"
      ]
     },
     "metadata": {},
     "output_type": "display_data"
    }
   ],
   "source": [
    "from skimage import measure\n",
    "from scipy.spatial import Delaunay\n",
    "import meshio\n",
    "from nanomesh.mesh3d import add_points_kmeans_sklearn\n",
    "\n",
    "image = seg_vol.image\n",
    "\n",
    "point_density = 1/10000\n",
    "scale = 0.5\n",
    "plot = False\n",
    "pad_width = 5\n",
    "\n",
    "points = []\n",
    "\n",
    "if point_density:\n",
    "    # grid_points = add_points_grid(image, border=5)\n",
    "    n_points1 = int(np.sum(image == 1) * point_density)\n",
    "    grid_points = add_points_kmeans_sklearn(\n",
    "        image, \n",
    "        iters=10, \n",
    "        n_points=n_points1, \n",
    "        scale=scale)\n",
    "    points.append(grid_points)\n",
    "\n",
    "    # adding points to holes helps to get a cleaner result\n",
    "    n_points0 = int(np.sum(image == 0) * point_density)\n",
    "    grid_points = add_points_kmeans_sklearn(\n",
    "        1 - image,\n",
    "        iters=10,\n",
    "        n_points=n_points0,\n",
    "        scale=scale)\n",
    "    points.append(grid_points)\n",
    "\n",
    "if pad_width:\n",
    "    image = np.pad(image, pad_width, mode='edge')\n",
    "\n",
    "verts, faces, normals, values = measure.marching_cubes(\n",
    "    image, \n",
    "    allow_degenerate=False,\n",
    "    step_size=5,\n",
    ")\n",
    "\n",
    "mesh = simplify_mesh_trimesh(vertices=verts, faces=faces, n_faces=5000)\n",
    "\n",
    "points.append(mesh.vertices)\n",
    "points = np.vstack(points)\n",
    "\n",
    "tetrahedra = Delaunay(points, incremental=False).simplices\n",
    "\n",
    "centers = points[tetrahedra].mean(1)\n",
    "\n",
    "pore_mask = image[tuple(centers.astype(int).T)] == 1\n",
    "\n",
    "masks = [pore_mask]\n",
    "\n",
    "if pad_width:\n",
    "    dimx, dimy, dimz = np.array(image.shape) - pad_width*2\n",
    "\n",
    "    maskx = (centers[:, 2] >= pad_width) & (centers[:, 2] <= dimx - pad_width)\n",
    "    masky = (centers[:, 1] >= pad_width) & (centers[:, 1] <= dimy - pad_width)\n",
    "    maskz = (centers[:, 0] >= pad_width) & (centers[:, 0] <= dimz - pad_width)\n",
    "    \n",
    "    masks.extend([maskx, masky, maskz])\n",
    "    \n",
    "mask = np.product(masks, axis=0).astype(bool)\n",
    "\n",
    "mesh = tetrahedra_to_mesh(points, tetrahedra, mask)\n",
    "mesh.remove_orphaned_nodes()\n",
    "\n",
    "pv.plot_itk(mesh)"
   ]
  },
  {
   "cell_type": "code",
   "execution_count": 194,
   "metadata": {},
   "outputs": [
    {
     "data": {
      "application/vnd.jupyter.widget-view+json": {
       "model_id": "47dd4aa940c840fbb47efb02b20ff251",
       "version_major": 2,
       "version_minor": 0
      },
      "text/plain": [
       "Viewer(geometries=[{'vtkClass': 'vtkPolyData', 'points': {'vtkClass': 'vtkPoints', 'name': '_points', 'numberO…"
      ]
     },
     "metadata": {},
     "output_type": "display_data"
    },
    {
     "data": {
      "application/vnd.jupyter.widget-view+json": {
       "model_id": "47dd4aa940c840fbb47efb02b20ff251",
       "version_major": 2,
       "version_minor": 0
      },
      "text/plain": [
       "Viewer(geometries=[{'vtkClass': 'vtkPolyData', 'points': {'vtkClass': 'vtkPoints', 'name': '_points', 'numberO…"
      ]
     },
     "metadata": {},
     "output_type": "display_data"
    }
   ],
   "source": [
    "mesh = tetrahedra_to_mesh(points, tetrahedra, np.product(masks, axis=0).astype(bool))\n",
    "pv.plot_itk(mesh)"
   ]
  },
  {
   "cell_type": "code",
   "execution_count": 196,
   "metadata": {},
   "outputs": [
    {
     "data": {
      "application/vnd.jupyter.widget-view+json": {
       "model_id": "d3dfdedc50f94224aeba4ccdccac2016",
       "version_major": 2,
       "version_minor": 0
      },
      "text/plain": [
       "Viewer(geometries=[{'vtkClass': 'vtkPolyData', 'points': {'vtkClass': 'vtkPoints', 'name': '_points', 'numberO…"
      ]
     },
     "metadata": {},
     "output_type": "display_data"
    },
    {
     "data": {
      "text/plain": [
       "<pyvista.plotting.itkplotter.PlotterITK at 0x26d2df4f640>"
      ]
     },
     "execution_count": 196,
     "metadata": {},
     "output_type": "execute_result"
    }
   ],
   "source": [
    "def show_submesh(*grids, index=100, along='x', plotter=pv.PlotterITK):\n",
    "    \"\"\"Slow a slice of the mesh.\"\"\"\n",
    "    plotter = plotter()\n",
    "\n",
    "    for grid in grids:\n",
    "        # get cell centroids\n",
    "        cells = grid.cells.reshape(-1, 5)[:, 1:]\n",
    "        cell_center = grid.points[cells].mean(1)\n",
    "\n",
    "        # extract cells below index\n",
    "        axis = 'zyx'.index(along)\n",
    "\n",
    "        mask = cell_center[:, axis] < index\n",
    "        cell_ind = mask.nonzero()[0]\n",
    "        subgrid = grid.extract_cells(cell_ind)\n",
    "\n",
    "        plotter.add_mesh(subgrid)\n",
    "    \n",
    "    plotter.show()\n",
    "        \n",
    "    return plotter\n",
    "\n",
    "grid = meshio_to_polydata(mesh)\n",
    "show_submesh(grid, index=100)"
   ]
  },
  {
   "cell_type": "code",
   "execution_count": null,
   "metadata": {},
   "outputs": [],
   "source": []
  }
 ],
 "metadata": {
  "kernelspec": {
   "display_name": "nanomesh",
   "language": "python",
   "name": "nanomesh"
  },
  "language_info": {
   "codemirror_mode": {
    "name": "ipython",
    "version": 3
   },
   "file_extension": ".py",
   "mimetype": "text/x-python",
   "name": "python",
   "nbconvert_exporter": "python",
   "pygments_lexer": "ipython3",
   "version": "3.8.8"
  }
 },
 "nbformat": 4,
 "nbformat_minor": 4
}
