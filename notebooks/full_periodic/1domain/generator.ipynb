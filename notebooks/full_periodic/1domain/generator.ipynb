{
 "cells": [
  {
   "cell_type": "code",
   "execution_count": null,
   "metadata": {},
   "outputs": [],
   "source": [
    "%load_ext autoreload\n",
    "%autoreload 2"
   ]
  },
  {
   "cell_type": "code",
   "execution_count": null,
   "metadata": {},
   "outputs": [],
   "source": [
    "import pygalmesh\n",
    "from nanomesh import Volume\n",
    "from nanomesh.structures import Pore3D, XDIM, YDIM, ZDIM"
   ]
  },
  {
   "cell_type": "markdown",
   "metadata": {},
   "source": [
    "### Instantiate the pore and visualize a section of the data"
   ]
  },
  {
   "cell_type": "code",
   "execution_count": null,
   "metadata": {},
   "outputs": [],
   "source": [
    "pore = Pore3D()\n",
    "\n",
    "pore_vol = Volume(pore.data)\n",
    "pore_vol.show_slice(along='z')"
   ]
  },
  {
   "cell_type": "markdown",
   "metadata": {},
   "source": [
    "### Mesh the data over a perfect cubic domain\n",
    "The resulting mesh will be deformed as our domain is not cubic\n",
    "\n",
    "Generates `dummies_post_treatment.xyz`, `dummies_pre_treatment.xyz`\n",
    "\n",
    "Afterwards, scale the mesh to obtain the correct dimension"
   ]
  },
  {
   "cell_type": "code",
   "execution_count": null,
   "metadata": {},
   "outputs": [],
   "source": [
    "mesh = pygalmesh.generate_periodic_mesh(\n",
    "    pore, \n",
    "    [0, 0, 0, XDIM, YDIM, ZDIM],\n",
    "    max_cell_circumradius=0.025,\n",
    "    min_facet_angle=30,\n",
    "    max_radius_surface_delaunay_ball=0.025,\n",
    "    max_facet_distance=0.025,\n",
    "    max_circumradius_edge_ratio=2,\n",
    "    number_of_copies_in_output=1,\n",
    "    make_periodic=True,\n",
    "    exude=False,\n",
    "    perturb=False,\n",
    "    odt=False,\n",
    "    lloyd=False,\n",
    "    verbose=True\n",
    ")\n",
    "\n",
    "# scale from cubic to tetragonal\n",
    "mesh.points[:,1] *= 0.68/0.48"
   ]
  },
  {
   "cell_type": "markdown",
   "metadata": {},
   "source": [
    "### View the mesh using pyvista"
   ]
  },
  {
   "cell_type": "code",
   "execution_count": null,
   "metadata": {},
   "outputs": [],
   "source": [
    "import pyvista as pv\n",
    "\n",
    "pv.plot_itk(mesh)"
   ]
  },
  {
   "cell_type": "markdown",
   "metadata": {},
   "source": [
    "## Save the mesh\n",
    "\n",
    "Insert information about periodicity for HPGEM"
   ]
  },
  {
   "cell_type": "code",
   "execution_count": null,
   "metadata": {},
   "outputs": [],
   "source": [
    "from nanomesh.periodic_utils import insert_periodic_info\n",
    "\n",
    "mesh = insert_periodic_info(mesh, [0,0,0,0.48,0.68,0.48])"
   ]
  },
  {
   "cell_type": "code",
   "execution_count": null,
   "metadata": {},
   "outputs": [],
   "source": [
    "mesh.write('nanopt_full_period_1domain.gmsh', file_format=\"gmsh22\", binary=False)"
   ]
  },
  {
   "cell_type": "code",
   "execution_count": null,
   "metadata": {},
   "outputs": [],
   "source": []
  }
 ],
 "metadata": {
  "kernelspec": {
   "display_name": "nanomesh",
   "language": "python",
   "name": "nanomesh"
  },
  "language_info": {
   "codemirror_mode": {
    "name": "ipython",
    "version": 3
   },
   "file_extension": ".py",
   "mimetype": "text/x-python",
   "name": "python",
   "nbconvert_exporter": "python",
   "pygments_lexer": "ipython3",
   "version": "3.8.0"
  }
 },
 "nbformat": 4,
 "nbformat_minor": 4
}
