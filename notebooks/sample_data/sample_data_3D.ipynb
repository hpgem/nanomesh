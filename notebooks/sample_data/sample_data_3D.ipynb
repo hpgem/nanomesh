{
 "cells": [
  {
   "cell_type": "code",
   "execution_count": null,
   "metadata": {},
   "outputs": [],
   "source": [
    "%load_ext autoreload\n",
    "%autoreload 2\n",
    "%matplotlib notebook"
   ]
  },
  {
   "cell_type": "markdown",
   "metadata": {},
   "source": [
    "## 3D meshing example\n",
    "\n",
    "This notebook shows how to mesh a 3D volume:\n",
    "\n",
    "1. Load and visualize a volume\n",
    "1. Apply image filters and segment image\n",
    "1. Generate a 3D surface mesh from the binary image\n",
    "1. Decimate/simplify a 3D mesh\n",
    "1. Visualize and save the mesh to gmsh22 format"
   ]
  },
  {
   "cell_type": "code",
   "execution_count": null,
   "metadata": {},
   "outputs": [],
   "source": [
    "from nanomesh.volume import Volume\n",
    "import pyvista as pv\n",
    "from skimage import filters\n",
    "import numpy as np\n",
    "from skimage.transform import rescale"
   ]
  },
  {
   "cell_type": "markdown",
   "metadata": {},
   "source": [
    "Load the data and select a subvolume to work with for this notebook."
   ]
  },
  {
   "cell_type": "code",
   "execution_count": null,
   "metadata": {},
   "outputs": [],
   "source": [
    "full_vol = Volume.load('slab_x450-550.npy')\n",
    "\n",
    "# down/subsample to keep cpu times in check\n",
    "scaled = full_vol.select_subvolume(ys=(400,500), zs=(600,800)).apply(rescale, scale=0.25)\n",
    "scaled.show_slice()"
   ]
  },
  {
   "cell_type": "code",
   "execution_count": null,
   "metadata": {},
   "outputs": [],
   "source": [
    "vol_gauss = scaled.apply(filters.gaussian, sigma=1)\n",
    "\n",
    "thresh = vol_gauss.apply(filters.threshold_yen)\n",
    "\n",
    "seg_vol = vol_gauss.apply(np.digitize, bins=[thresh])\n",
    "\n",
    "seg_vol.show_slice()"
   ]
  },
  {
   "cell_type": "markdown",
   "metadata": {},
   "source": [
    "### Generate 3d tetragonal mesh\n",
    "\n",
    "Meshes can be generated using the `Mesher3D` class.\n",
    "\n",
    "A convenience method is also available through `volume.generate_mesh`, which offers less flexibility."
   ]
  },
  {
   "cell_type": "code",
   "execution_count": null,
   "metadata": {},
   "outputs": [],
   "source": [
    "%%time\n",
    "\n",
    "from nanomesh.mesh3d import Mesher3D\n",
    "from nanomesh.mesh_utils import VolumeMeshContainer\n",
    "\n",
    "mesher = Mesher3D(seg_vol.image)\n",
    "mesher.generate_contour(label=0, smooth=True)\n",
    "mesher.generate_contour(label=1, smooth=True)\n",
    "\n",
    "vmesh = mesher.tetrahedralize(label=1, order=1, mindihedral=30, minratio=1.1, verbose=2)\n",
    "\n",
    "vmesh.plot_itk()"
   ]
  },
  {
   "cell_type": "code",
   "execution_count": null,
   "metadata": {},
   "outputs": [],
   "source": [
    "vmesh.plot_submesh(color='orange')"
   ]
  },
  {
   "cell_type": "markdown",
   "metadata": {},
   "source": [
    "Save the data."
   ]
  },
  {
   "cell_type": "code",
   "execution_count": null,
   "metadata": {},
   "outputs": [],
   "source": [
    "vmeshio = vmesh.to_meshio().write('volume_mesh.msh', file_format='gmsh22', binary=False)"
   ]
  },
  {
   "cell_type": "code",
   "execution_count": null,
   "metadata": {},
   "outputs": [],
   "source": []
  }
 ],
 "metadata": {
  "kernelspec": {
   "display_name": "nanomesh",
   "language": "python",
   "name": "nanomesh"
  },
  "language_info": {
   "codemirror_mode": {
    "name": "ipython",
    "version": 3
   },
   "file_extension": ".py",
   "mimetype": "text/x-python",
   "name": "python",
   "nbconvert_exporter": "python",
   "pygments_lexer": "ipython3",
   "version": "3.8.10"
  }
 },
 "nbformat": 4,
 "nbformat_minor": 4
}
