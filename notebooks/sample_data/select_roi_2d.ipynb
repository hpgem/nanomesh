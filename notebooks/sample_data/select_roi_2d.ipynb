{
 "cells": [
  {
   "cell_type": "code",
   "execution_count": null,
   "id": "048c981b",
   "metadata": {},
   "outputs": [],
   "source": [
    "%load_ext autoreload\n",
    "%autoreload 2\n",
    "%matplotlib notebook"
   ]
  },
  {
   "cell_type": "markdown",
   "id": "ff4be8d8",
   "metadata": {},
   "source": [
    "## Select region of interest from an image\n",
    "\n",
    "This example shows how to crop an image using `nanomesh`."
   ]
  },
  {
   "cell_type": "code",
   "execution_count": null,
   "id": "965e9d55",
   "metadata": {},
   "outputs": [],
   "source": [
    "from nanomesh.volume import Volume\n",
    "from nanomesh.plane import Plane\n",
    "vol = Volume.load('sample_data.npy')\n",
    "plane = vol.select_plane(x=161)"
   ]
  },
  {
   "cell_type": "markdown",
   "id": "8f7f6051",
   "metadata": {},
   "source": [
    "Use `.select_roi` to open an interactive widget. Select a region of interest in the figure by enclosing them within a polygon. A rectangle is fitted to the polygon.\n",
    "\n",
    "- Press the 'esc' key to start a new polygon\n",
    "- Hold the 'shift' key to move all of the vertices\n",
    "- Hold the 'ctrl' key to move a single vertex"
   ]
  },
  {
   "cell_type": "code",
   "execution_count": null,
   "id": "4091f121",
   "metadata": {},
   "outputs": [],
   "source": [
    "roi = plane.select_roi()"
   ]
  },
  {
   "cell_type": "markdown",
   "id": "7ed39841",
   "metadata": {},
   "source": [
    "The `.bbox` attribute is updated when the selection above changes."
   ]
  },
  {
   "cell_type": "code",
   "execution_count": null,
   "id": "429afa53",
   "metadata": {},
   "outputs": [],
   "source": [
    "roi.bbox"
   ]
  },
  {
   "cell_type": "markdown",
   "id": "dfdcec5f",
   "metadata": {},
   "source": [
    "Use the `.crop_to_roi` method to extract the region of interest."
   ]
  },
  {
   "cell_type": "code",
   "execution_count": null,
   "id": "3c35284d",
   "metadata": {},
   "outputs": [],
   "source": [
    "plane_roi = plane.crop_to_roi(bbox=roi.bbox)\n",
    "plane_roi.show()"
   ]
  },
  {
   "cell_type": "code",
   "execution_count": null,
   "id": "eb9bbb47",
   "metadata": {},
   "outputs": [],
   "source": []
  }
 ],
 "metadata": {
  "kernelspec": {
   "display_name": "nanomesh",
   "language": "python",
   "name": "nanomesh"
  },
  "language_info": {
   "codemirror_mode": {
    "name": "ipython",
    "version": 3
   },
   "file_extension": ".py",
   "mimetype": "text/x-python",
   "name": "python",
   "nbconvert_exporter": "python",
   "pygments_lexer": "ipython3",
   "version": "3.8.10"
  }
 },
 "nbformat": 4,
 "nbformat_minor": 5
}
