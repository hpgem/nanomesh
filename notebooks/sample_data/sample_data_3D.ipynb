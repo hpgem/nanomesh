{
 "cells": [
  {
   "cell_type": "code",
   "execution_count": null,
   "metadata": {},
   "outputs": [],
   "source": [
    "%load_ext autoreload\n",
    "%autoreload 2\n",
    "%matplotlib notebook"
   ]
  },
  {
   "cell_type": "markdown",
   "metadata": {},
   "source": [
    "## 3D meshing example\n",
    "\n",
    "This notebook shows how to mesh a 3D volume:\n",
    "\n",
    "1. Load and visualize a volume\n",
    "1. Apply image filters and segment image\n",
    "1. Generate a 3D surface mesh from the binary image\n",
    "1. Decimate/simplify a 3D mesh\n",
    "1. Visualize and save the mesh to gmsh22 format"
   ]
  },
  {
   "cell_type": "markdown",
   "metadata": {},
   "source": [
    "## Todo:\n",
    "\n",
    "- [ ] Mimic `add_points` from 2d meshing submodule\n",
    "- [ ] Tune performance\n",
    "- [ ] Add edge points instead of padding?"
   ]
  },
  {
   "cell_type": "code",
   "execution_count": null,
   "metadata": {},
   "outputs": [],
   "source": [
    "from nanomesh.volume import Volume\n",
    "import pyvista as pv\n",
    "from skimage import filters\n",
    "import numpy as np"
   ]
  },
  {
   "cell_type": "markdown",
   "metadata": {},
   "source": [
    "Load the data and select a subvolume to work with for this notebook."
   ]
  },
  {
   "cell_type": "code",
   "execution_count": null,
   "metadata": {},
   "outputs": [],
   "source": [
    "full_vol = Volume.load('slab_x450-550.npy')\n",
    "vol = full_vol.select_subvolume(zs=(710, 790), ys=(320,360))\n",
    "vol.show_slice()"
   ]
  },
  {
   "cell_type": "code",
   "execution_count": null,
   "metadata": {},
   "outputs": [],
   "source": [
    "vol_gauss = vol.apply(filters.gaussian, sigma=5)\n",
    "\n",
    "thresh = vol_gauss.apply(filters.threshold_li)\n",
    "\n",
    "seg_vol = vol_gauss.apply(np.digitize, bins=[thresh])\n",
    "\n",
    "seg_vol.show_slice()"
   ]
  },
  {
   "cell_type": "code",
   "execution_count": null,
   "metadata": {},
   "outputs": [],
   "source": [
    "from nanomesh.mesh2d import get_edge_coords, pairwise_circle\n",
    "from sklearn.cluster import KMeans\n",
    "from nanomesh._mesh_shared import add_points_kmeans\n",
    "\n",
    "\n",
    "def generate_interface_coords(image, label=1):\n",
    "    edges = image[0], image[-1], image[:,0], image[:,-1], image[:,:,0], image[:,:,-1]\n",
    "\n",
    "    x,y,z = image.shape\n",
    "    shifts = (\n",
    "        (0,0),\n",
    "        (0,x-1),\n",
    "        (1,0),\n",
    "        (1,y-1),\n",
    "        (2,0),\n",
    "        (2,z-1),\n",
    "    )\n",
    "\n",
    "    all_points = []\n",
    "    for edge, (index, coord) in zip(edges, shifts):\n",
    "        points = add_points_kmeans(edge, label=label)\n",
    "        points = np.insert(points, index, values=coord, axis=1)\n",
    "        all_points.append(points)\n",
    "    \n",
    "    return np.vstack(all_points)\n",
    "\n",
    "\n",
    "def generate_corner_points(image,\n",
    "                           point_density = 1/10,\n",
    "                           label = 1):\n",
    "    x, y, z = image.shape\n",
    "\n",
    "    corners = {\n",
    "        1: (0,0,0),\n",
    "        2: (0,0,z-1),\n",
    "        3: (0,y-1,0),\n",
    "        4: (0,y-1,z-1),\n",
    "        5: (x-1,0,0),\n",
    "        6: (x-1,0,z-1),\n",
    "        7: (x-1,y-1,0),\n",
    "        8: (x-1,y-1,z-1),\n",
    "    }\n",
    "\n",
    "    edges = (\n",
    "        (1,2),\n",
    "        (1,3),\n",
    "        (1,5),\n",
    "        (2,4),\n",
    "        (2,6),\n",
    "        (3,4),\n",
    "        (3,7),\n",
    "        (5,6),\n",
    "        (5,7),\n",
    "        (8,4),\n",
    "        (8,6),\n",
    "        (8,7),\n",
    "    )\n",
    "\n",
    "    corner_points = [np.array(list(corners.values()))]\n",
    "\n",
    "    for i,j in edges:\n",
    "        ci = np.array(corners[i])\n",
    "        cj = np.array(corners[j])\n",
    "\n",
    "        index = np.linspace(ci, cj, int(l)+1, dtype=int)[1:-1]\n",
    "        seg = image[index[:,0],index[:,1],index[:,2]]\n",
    "\n",
    "        n_points = int(np.sum(seg == label) * point_density)\n",
    "\n",
    "        if n_points:\n",
    "            kmeans = KMeans(n_clusters=n_points).fit(index)\n",
    "            corner_points.append(kmeans.cluster_centers_)\n",
    "    \n",
    "    return np.vstack(corner_points)\n",
    "\n",
    "\n",
    "interface_points = generate_interface_coords(seg_vol.image)\n",
    "print(interface_points.shape)\n",
    "print(interface_points.min(axis=0), interface_points.max(axis=0))\n",
    "\n",
    "corner_points = generate_corner_points(seg_vol.image)\n",
    "print(corner_points.shape)\n",
    "print(corner_points.min(axis=0), corner_points.max(axis=0))"
   ]
  },
  {
   "cell_type": "markdown",
   "metadata": {},
   "source": [
    "### Generate 3d tetragonal mesh\n",
    "\n",
    "Meshes can be generated using the `Mesher3D` class.\n",
    "\n",
    "A convenience method is also available through `volume.generate_mesh`, which offers less flexibility."
   ]
  },
  {
   "cell_type": "code",
   "execution_count": null,
   "metadata": {},
   "outputs": [],
   "source": [
    "%%time\n",
    "\n",
    "from nanomesh.mesh3d import Mesher3D\n",
    "\n",
    "mesher = Mesher3D(seg_vol.image)\n",
    "# mesher.pad(pad_width=2)\n",
    "mesher.generate_contour(label=0)\n",
    "mesher.generate_contour(label=1)\n",
    "\n",
    "mesher.add_points(point_density=1/500, label=1, verbose=3, max_iter=1)\n",
    "\n",
    "mesher.generate_surface_mesh(step_size=1)\n",
    "mesher.points[1].append(corner_points)\n",
    "mesher.points[1].append(interface_points)\n",
    "mesher.smooth_mesh()\n",
    "mesher.simplify_mesh(n_faces=5000)\n",
    "mesher.generate_volume_mesh()\n",
    "mesher.generate_domain_mask()\n",
    "mesh = mesher.to_meshio()\n",
    "\n",
    "pv.plot_itk(mesh)"
   ]
  },
  {
   "cell_type": "markdown",
   "metadata": {},
   "source": [
    "Save the data."
   ]
  },
  {
   "cell_type": "code",
   "execution_count": null,
   "metadata": {},
   "outputs": [],
   "source": [
    "mesh.write(\"volume.msh\", file_format='gmsh22', binary=False)"
   ]
  }
 ],
 "metadata": {
  "kernelspec": {
   "display_name": "nanomesh",
   "language": "python",
   "name": "nanomesh"
  },
  "language_info": {
   "codemirror_mode": {
    "name": "ipython",
    "version": 3
   },
   "file_extension": ".py",
   "mimetype": "text/x-python",
   "name": "python",
   "nbconvert_exporter": "python",
   "pygments_lexer": "ipython3",
   "version": "3.8.10"
  }
 },
 "nbformat": 4,
 "nbformat_minor": 4
}
