{
 "cells": [
  {
   "cell_type": "code",
   "execution_count": null,
   "metadata": {},
   "outputs": [],
   "source": [
    "from nanomesh.generator import Generator\n",
    "from nanomesh.utils import generate_mesh_from_binary_image\n",
    "from nanomesh import Volume\n",
    "import numpy as np\n",
    "import math\n",
    "import pygalmesh"
   ]
  },
  {
   "cell_type": "markdown",
   "metadata": {},
   "source": [
    "### What is different in this notebook?\n",
    "\n",
    "What should be exposed from Pore3D to make it work?"
   ]
  },
  {
   "cell_type": "code",
   "execution_count": null,
   "metadata": {},
   "outputs": [],
   "source": [
    "class Pore3D_semi_periodic(pygalmesh.DomainBase):\n",
    "    def __init__(self):\n",
    "        super().__init__()\n",
    "        \n",
    "        self.gen = Generator(\n",
    "            a=680, \n",
    "            c=math.sqrt(2)*680, \n",
    "            radius=0.24*680,\n",
    "        )\n",
    "\n",
    "        # Possible rotation/transformation of the coordinate system\n",
    "        theta = math.pi * 1/180\n",
    "        c = math.cos(theta)\n",
    "        s = math.sin(theta)\n",
    "        trans = np.array([\n",
    "            [ c, 0, s],\n",
    "            [ 0, 1, 0],\n",
    "            [-s, 0, c],\n",
    "        ])\n",
    "        \n",
    "        self.size = (100, 100, 100)\n",
    "        self.res = (10, 10, 10)\n",
    "        self.data = self.gen.generate_vect(\n",
    "            self.size, \n",
    "            self.res, \n",
    "            transform=trans, \n",
    "            bin_val=[0.,1.],\n",
    "        )\n",
    "        self.data = self.data[:,:68,:]\n",
    "                \n",
    "        self.x = np.linspace(0,1.,self.data.shape[0])\n",
    "        self.y = np.linspace(0,0.68,self.data.shape[1])\n",
    "        # self.y = np.linspace(0,1.,self.data.shape[1])\n",
    "        self.z = np.linspace(0,1.,self.data.shape[2])\n",
    "\n",
    "        # remove a small top/bottom layer\n",
    "        self.data[:,:,:10] = 0\n",
    "        self.data[:,:,-11:] = 0\n",
    "        \n",
    "    def eval(self, x):\n",
    "        ix = np.argmin(np.abs(x[0]-self.x))\n",
    "        iy = np.argmin(np.abs(x[1]-self.y))\n",
    "        iz = np.argmin(np.abs(x[2]-self.z))\n",
    "        if self.data[ix,iy,iz] == 1:\n",
    "            out = -1.\n",
    "        else:\n",
    "            out = 1.\n",
    "        return out\n",
    "    "
   ]
  },
  {
   "cell_type": "code",
   "execution_count": null,
   "metadata": {},
   "outputs": [],
   "source": [
    "pore = Pore3D_semi_periodic()\n",
    "\n",
    "pore_vol = Volume(pore.data)\n",
    "pore_vol.show_slice(along='z')"
   ]
  },
  {
   "cell_type": "code",
   "execution_count": null,
   "metadata": {},
   "outputs": [],
   "source": [
    "mesh = pygalmesh.generate_periodic_mesh(\n",
    "    pore,\n",
    "    [0, 0, 0, 1., 0.68, 1.],\n",
    "    max_cell_circumradius=0.05,\n",
    "    min_facet_angle=30,\n",
    "    max_radius_surface_delaunay_ball=0.05,\n",
    "    max_facet_distance=0.025,\n",
    "    max_circumradius_edge_ratio=2.0,\n",
    "    number_of_copies_in_output=1,\n",
    "    make_periodic=True,\n",
    "    # odt=True,\n",
    "    # lloyd=True,\n",
    "    verbose=False,\n",
    "    )"
   ]
  },
  {
   "cell_type": "code",
   "execution_count": null,
   "metadata": {},
   "outputs": [],
   "source": [
    "import pyvista as pv\n",
    "pv.plot_itk(mesh)"
   ]
  },
  {
   "cell_type": "code",
   "execution_count": null,
   "metadata": {},
   "outputs": [],
   "source": [
    "from nanomesh.periodic_utils import insert_periodic_info\n",
    "mesh = insert_periodic_info(mesh, [0,0,0,1.,0.68,1.])"
   ]
  },
  {
   "cell_type": "code",
   "execution_count": null,
   "metadata": {},
   "outputs": [],
   "source": [
    "mesh.write('nanopt_semi_period_1domain.gmsh', file_format=\"gmsh22\", binary=False)"
   ]
  },
  {
   "cell_type": "code",
   "execution_count": null,
   "metadata": {},
   "outputs": [],
   "source": []
  }
 ],
 "metadata": {
  "kernelspec": {
   "display_name": "Python 3",
   "language": "python",
   "name": "python3"
  },
  "language_info": {
   "codemirror_mode": {
    "name": "ipython",
    "version": 3
   },
   "file_extension": ".py",
   "mimetype": "text/x-python",
   "name": "python",
   "nbconvert_exporter": "python",
   "pygments_lexer": "ipython3",
   "version": "3.8.0"
  }
 },
 "nbformat": 4,
 "nbformat_minor": 4
}
